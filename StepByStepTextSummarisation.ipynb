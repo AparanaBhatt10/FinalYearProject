{
  "nbformat": 4,
  "nbformat_minor": 0,
  "metadata": {
    "colab": {
      "name": "StepByStepTextSummarisation.ipynb",
      "provenance": [],
      "collapsed_sections": []
    },
    "kernelspec": {
      "name": "python3",
      "display_name": "Python 3"
    },
    "language_info": {
      "name": "python"
    },
    "widgets": {
      "application/vnd.jupyter.widget-state+json": {
        "04bf32ee7ec84073a7ca64118110ed4b": {
          "model_module": "@jupyter-widgets/controls",
          "model_name": "HBoxModel",
          "model_module_version": "1.5.0",
          "state": {
            "_view_name": "HBoxView",
            "_dom_classes": [],
            "_model_name": "HBoxModel",
            "_view_module": "@jupyter-widgets/controls",
            "_model_module_version": "1.5.0",
            "_view_count": null,
            "_view_module_version": "1.5.0",
            "box_style": "",
            "layout": "IPY_MODEL_6b208ab0981c4b4696d15fc5102c8c13",
            "_model_module": "@jupyter-widgets/controls",
            "children": [
              "IPY_MODEL_7317910ea4994896a75944b06fa4533c",
              "IPY_MODEL_b3b3b4563f034fde93d7725d338a46c9"
            ]
          }
        },
        "6b208ab0981c4b4696d15fc5102c8c13": {
          "model_module": "@jupyter-widgets/base",
          "model_name": "LayoutModel",
          "model_module_version": "1.2.0",
          "state": {
            "_view_name": "LayoutView",
            "grid_template_rows": null,
            "right": null,
            "justify_content": null,
            "_view_module": "@jupyter-widgets/base",
            "overflow": null,
            "_model_module_version": "1.2.0",
            "_view_count": null,
            "flex_flow": null,
            "width": null,
            "min_width": null,
            "border": null,
            "align_items": null,
            "bottom": null,
            "_model_module": "@jupyter-widgets/base",
            "top": null,
            "grid_column": null,
            "overflow_y": null,
            "overflow_x": null,
            "grid_auto_flow": null,
            "grid_area": null,
            "grid_template_columns": null,
            "flex": null,
            "_model_name": "LayoutModel",
            "justify_items": null,
            "grid_row": null,
            "max_height": null,
            "align_content": null,
            "visibility": null,
            "align_self": null,
            "height": null,
            "min_height": null,
            "padding": null,
            "grid_auto_rows": null,
            "grid_gap": null,
            "max_width": null,
            "order": null,
            "_view_module_version": "1.2.0",
            "grid_template_areas": null,
            "object_position": null,
            "object_fit": null,
            "grid_auto_columns": null,
            "margin": null,
            "display": null,
            "left": null
          }
        },
        "7317910ea4994896a75944b06fa4533c": {
          "model_module": "@jupyter-widgets/controls",
          "model_name": "FloatProgressModel",
          "model_module_version": "1.5.0",
          "state": {
            "_view_name": "ProgressView",
            "style": "IPY_MODEL_72616b24fdaa42fab923a61153e5cd5c",
            "_dom_classes": [],
            "description": "Downloading: 100%",
            "_model_name": "FloatProgressModel",
            "bar_style": "success",
            "max": 1197,
            "_view_module": "@jupyter-widgets/controls",
            "_model_module_version": "1.5.0",
            "value": 1197,
            "_view_count": null,
            "_view_module_version": "1.5.0",
            "orientation": "horizontal",
            "min": 0,
            "description_tooltip": null,
            "_model_module": "@jupyter-widgets/controls",
            "layout": "IPY_MODEL_2f4f215c109c4b6a9e561c2203ca61a4"
          }
        },
        "b3b3b4563f034fde93d7725d338a46c9": {
          "model_module": "@jupyter-widgets/controls",
          "model_name": "HTMLModel",
          "model_module_version": "1.5.0",
          "state": {
            "_view_name": "HTMLView",
            "style": "IPY_MODEL_d0f771d081504a10897e74785860f151",
            "_dom_classes": [],
            "description": "",
            "_model_name": "HTMLModel",
            "placeholder": "​",
            "_view_module": "@jupyter-widgets/controls",
            "_model_module_version": "1.5.0",
            "value": " 1.20k/1.20k [00:07&lt;00:00, 171B/s]",
            "_view_count": null,
            "_view_module_version": "1.5.0",
            "description_tooltip": null,
            "_model_module": "@jupyter-widgets/controls",
            "layout": "IPY_MODEL_2da7cda6c02848bb8e45796fd15a52ac"
          }
        },
        "72616b24fdaa42fab923a61153e5cd5c": {
          "model_module": "@jupyter-widgets/controls",
          "model_name": "ProgressStyleModel",
          "model_module_version": "1.5.0",
          "state": {
            "_view_name": "StyleView",
            "_model_name": "ProgressStyleModel",
            "description_width": "initial",
            "_view_module": "@jupyter-widgets/base",
            "_model_module_version": "1.5.0",
            "_view_count": null,
            "_view_module_version": "1.2.0",
            "bar_color": null,
            "_model_module": "@jupyter-widgets/controls"
          }
        },
        "2f4f215c109c4b6a9e561c2203ca61a4": {
          "model_module": "@jupyter-widgets/base",
          "model_name": "LayoutModel",
          "model_module_version": "1.2.0",
          "state": {
            "_view_name": "LayoutView",
            "grid_template_rows": null,
            "right": null,
            "justify_content": null,
            "_view_module": "@jupyter-widgets/base",
            "overflow": null,
            "_model_module_version": "1.2.0",
            "_view_count": null,
            "flex_flow": null,
            "width": null,
            "min_width": null,
            "border": null,
            "align_items": null,
            "bottom": null,
            "_model_module": "@jupyter-widgets/base",
            "top": null,
            "grid_column": null,
            "overflow_y": null,
            "overflow_x": null,
            "grid_auto_flow": null,
            "grid_area": null,
            "grid_template_columns": null,
            "flex": null,
            "_model_name": "LayoutModel",
            "justify_items": null,
            "grid_row": null,
            "max_height": null,
            "align_content": null,
            "visibility": null,
            "align_self": null,
            "height": null,
            "min_height": null,
            "padding": null,
            "grid_auto_rows": null,
            "grid_gap": null,
            "max_width": null,
            "order": null,
            "_view_module_version": "1.2.0",
            "grid_template_areas": null,
            "object_position": null,
            "object_fit": null,
            "grid_auto_columns": null,
            "margin": null,
            "display": null,
            "left": null
          }
        },
        "d0f771d081504a10897e74785860f151": {
          "model_module": "@jupyter-widgets/controls",
          "model_name": "DescriptionStyleModel",
          "model_module_version": "1.5.0",
          "state": {
            "_view_name": "StyleView",
            "_model_name": "DescriptionStyleModel",
            "description_width": "",
            "_view_module": "@jupyter-widgets/base",
            "_model_module_version": "1.5.0",
            "_view_count": null,
            "_view_module_version": "1.2.0",
            "_model_module": "@jupyter-widgets/controls"
          }
        },
        "2da7cda6c02848bb8e45796fd15a52ac": {
          "model_module": "@jupyter-widgets/base",
          "model_name": "LayoutModel",
          "model_module_version": "1.2.0",
          "state": {
            "_view_name": "LayoutView",
            "grid_template_rows": null,
            "right": null,
            "justify_content": null,
            "_view_module": "@jupyter-widgets/base",
            "overflow": null,
            "_model_module_version": "1.2.0",
            "_view_count": null,
            "flex_flow": null,
            "width": null,
            "min_width": null,
            "border": null,
            "align_items": null,
            "bottom": null,
            "_model_module": "@jupyter-widgets/base",
            "top": null,
            "grid_column": null,
            "overflow_y": null,
            "overflow_x": null,
            "grid_auto_flow": null,
            "grid_area": null,
            "grid_template_columns": null,
            "flex": null,
            "_model_name": "LayoutModel",
            "justify_items": null,
            "grid_row": null,
            "max_height": null,
            "align_content": null,
            "visibility": null,
            "align_self": null,
            "height": null,
            "min_height": null,
            "padding": null,
            "grid_auto_rows": null,
            "grid_gap": null,
            "max_width": null,
            "order": null,
            "_view_module_version": "1.2.0",
            "grid_template_areas": null,
            "object_position": null,
            "object_fit": null,
            "grid_auto_columns": null,
            "margin": null,
            "display": null,
            "left": null
          }
        },
        "5f39a25691e7498bbb95323890ab7cdd": {
          "model_module": "@jupyter-widgets/controls",
          "model_name": "HBoxModel",
          "model_module_version": "1.5.0",
          "state": {
            "_view_name": "HBoxView",
            "_dom_classes": [],
            "_model_name": "HBoxModel",
            "_view_module": "@jupyter-widgets/controls",
            "_model_module_version": "1.5.0",
            "_view_count": null,
            "_view_module_version": "1.5.0",
            "box_style": "",
            "layout": "IPY_MODEL_74b0dfdaac8e4540b9e9386ecd5c5ee9",
            "_model_module": "@jupyter-widgets/controls",
            "children": [
              "IPY_MODEL_2473097a46ed4e499573547e32f77fc7",
              "IPY_MODEL_2cb4dbe25f734a12a98c66bf6831c656"
            ]
          }
        },
        "74b0dfdaac8e4540b9e9386ecd5c5ee9": {
          "model_module": "@jupyter-widgets/base",
          "model_name": "LayoutModel",
          "model_module_version": "1.2.0",
          "state": {
            "_view_name": "LayoutView",
            "grid_template_rows": null,
            "right": null,
            "justify_content": null,
            "_view_module": "@jupyter-widgets/base",
            "overflow": null,
            "_model_module_version": "1.2.0",
            "_view_count": null,
            "flex_flow": null,
            "width": null,
            "min_width": null,
            "border": null,
            "align_items": null,
            "bottom": null,
            "_model_module": "@jupyter-widgets/base",
            "top": null,
            "grid_column": null,
            "overflow_y": null,
            "overflow_x": null,
            "grid_auto_flow": null,
            "grid_area": null,
            "grid_template_columns": null,
            "flex": null,
            "_model_name": "LayoutModel",
            "justify_items": null,
            "grid_row": null,
            "max_height": null,
            "align_content": null,
            "visibility": null,
            "align_self": null,
            "height": null,
            "min_height": null,
            "padding": null,
            "grid_auto_rows": null,
            "grid_gap": null,
            "max_width": null,
            "order": null,
            "_view_module_version": "1.2.0",
            "grid_template_areas": null,
            "object_position": null,
            "object_fit": null,
            "grid_auto_columns": null,
            "margin": null,
            "display": null,
            "left": null
          }
        },
        "2473097a46ed4e499573547e32f77fc7": {
          "model_module": "@jupyter-widgets/controls",
          "model_name": "FloatProgressModel",
          "model_module_version": "1.5.0",
          "state": {
            "_view_name": "ProgressView",
            "style": "IPY_MODEL_cf25b88319e74d93b9e42c245be176c9",
            "_dom_classes": [],
            "description": "Downloading: 100%",
            "_model_name": "FloatProgressModel",
            "bar_style": "success",
            "max": 242065649,
            "_view_module": "@jupyter-widgets/controls",
            "_model_module_version": "1.5.0",
            "value": 242065649,
            "_view_count": null,
            "_view_module_version": "1.5.0",
            "orientation": "horizontal",
            "min": 0,
            "description_tooltip": null,
            "_model_module": "@jupyter-widgets/controls",
            "layout": "IPY_MODEL_af4c9e888f9b42c69e4e785df57b6212"
          }
        },
        "2cb4dbe25f734a12a98c66bf6831c656": {
          "model_module": "@jupyter-widgets/controls",
          "model_name": "HTMLModel",
          "model_module_version": "1.5.0",
          "state": {
            "_view_name": "HTMLView",
            "style": "IPY_MODEL_40d91778995f4f00a42808c5b7e97dc1",
            "_dom_classes": [],
            "description": "",
            "_model_name": "HTMLModel",
            "placeholder": "​",
            "_view_module": "@jupyter-widgets/controls",
            "_model_module_version": "1.5.0",
            "value": " 242M/242M [00:06&lt;00:00, 38.4MB/s]",
            "_view_count": null,
            "_view_module_version": "1.5.0",
            "description_tooltip": null,
            "_model_module": "@jupyter-widgets/controls",
            "layout": "IPY_MODEL_34f5b8c619cd4b28895bd4cfd1f7d8fa"
          }
        },
        "cf25b88319e74d93b9e42c245be176c9": {
          "model_module": "@jupyter-widgets/controls",
          "model_name": "ProgressStyleModel",
          "model_module_version": "1.5.0",
          "state": {
            "_view_name": "StyleView",
            "_model_name": "ProgressStyleModel",
            "description_width": "initial",
            "_view_module": "@jupyter-widgets/base",
            "_model_module_version": "1.5.0",
            "_view_count": null,
            "_view_module_version": "1.2.0",
            "bar_color": null,
            "_model_module": "@jupyter-widgets/controls"
          }
        },
        "af4c9e888f9b42c69e4e785df57b6212": {
          "model_module": "@jupyter-widgets/base",
          "model_name": "LayoutModel",
          "model_module_version": "1.2.0",
          "state": {
            "_view_name": "LayoutView",
            "grid_template_rows": null,
            "right": null,
            "justify_content": null,
            "_view_module": "@jupyter-widgets/base",
            "overflow": null,
            "_model_module_version": "1.2.0",
            "_view_count": null,
            "flex_flow": null,
            "width": null,
            "min_width": null,
            "border": null,
            "align_items": null,
            "bottom": null,
            "_model_module": "@jupyter-widgets/base",
            "top": null,
            "grid_column": null,
            "overflow_y": null,
            "overflow_x": null,
            "grid_auto_flow": null,
            "grid_area": null,
            "grid_template_columns": null,
            "flex": null,
            "_model_name": "LayoutModel",
            "justify_items": null,
            "grid_row": null,
            "max_height": null,
            "align_content": null,
            "visibility": null,
            "align_self": null,
            "height": null,
            "min_height": null,
            "padding": null,
            "grid_auto_rows": null,
            "grid_gap": null,
            "max_width": null,
            "order": null,
            "_view_module_version": "1.2.0",
            "grid_template_areas": null,
            "object_position": null,
            "object_fit": null,
            "grid_auto_columns": null,
            "margin": null,
            "display": null,
            "left": null
          }
        },
        "40d91778995f4f00a42808c5b7e97dc1": {
          "model_module": "@jupyter-widgets/controls",
          "model_name": "DescriptionStyleModel",
          "model_module_version": "1.5.0",
          "state": {
            "_view_name": "StyleView",
            "_model_name": "DescriptionStyleModel",
            "description_width": "",
            "_view_module": "@jupyter-widgets/base",
            "_model_module_version": "1.5.0",
            "_view_count": null,
            "_view_module_version": "1.2.0",
            "_model_module": "@jupyter-widgets/controls"
          }
        },
        "34f5b8c619cd4b28895bd4cfd1f7d8fa": {
          "model_module": "@jupyter-widgets/base",
          "model_name": "LayoutModel",
          "model_module_version": "1.2.0",
          "state": {
            "_view_name": "LayoutView",
            "grid_template_rows": null,
            "right": null,
            "justify_content": null,
            "_view_module": "@jupyter-widgets/base",
            "overflow": null,
            "_model_module_version": "1.2.0",
            "_view_count": null,
            "flex_flow": null,
            "width": null,
            "min_width": null,
            "border": null,
            "align_items": null,
            "bottom": null,
            "_model_module": "@jupyter-widgets/base",
            "top": null,
            "grid_column": null,
            "overflow_y": null,
            "overflow_x": null,
            "grid_auto_flow": null,
            "grid_area": null,
            "grid_template_columns": null,
            "flex": null,
            "_model_name": "LayoutModel",
            "justify_items": null,
            "grid_row": null,
            "max_height": null,
            "align_content": null,
            "visibility": null,
            "align_self": null,
            "height": null,
            "min_height": null,
            "padding": null,
            "grid_auto_rows": null,
            "grid_gap": null,
            "max_width": null,
            "order": null,
            "_view_module_version": "1.2.0",
            "grid_template_areas": null,
            "object_position": null,
            "object_fit": null,
            "grid_auto_columns": null,
            "margin": null,
            "display": null,
            "left": null
          }
        },
        "1a9ced999b4542419d20ccc9eb8c670c": {
          "model_module": "@jupyter-widgets/controls",
          "model_name": "HBoxModel",
          "model_module_version": "1.5.0",
          "state": {
            "_view_name": "HBoxView",
            "_dom_classes": [],
            "_model_name": "HBoxModel",
            "_view_module": "@jupyter-widgets/controls",
            "_model_module_version": "1.5.0",
            "_view_count": null,
            "_view_module_version": "1.5.0",
            "box_style": "",
            "layout": "IPY_MODEL_1723b1087967458ba612b36b93d241a2",
            "_model_module": "@jupyter-widgets/controls",
            "children": [
              "IPY_MODEL_d5a1ad6e1ff247ad9c54b0056f8de00b",
              "IPY_MODEL_bb1a74fa2ec04c89be9db9aae06e8cf6"
            ]
          }
        },
        "1723b1087967458ba612b36b93d241a2": {
          "model_module": "@jupyter-widgets/base",
          "model_name": "LayoutModel",
          "model_module_version": "1.2.0",
          "state": {
            "_view_name": "LayoutView",
            "grid_template_rows": null,
            "right": null,
            "justify_content": null,
            "_view_module": "@jupyter-widgets/base",
            "overflow": null,
            "_model_module_version": "1.2.0",
            "_view_count": null,
            "flex_flow": null,
            "width": null,
            "min_width": null,
            "border": null,
            "align_items": null,
            "bottom": null,
            "_model_module": "@jupyter-widgets/base",
            "top": null,
            "grid_column": null,
            "overflow_y": null,
            "overflow_x": null,
            "grid_auto_flow": null,
            "grid_area": null,
            "grid_template_columns": null,
            "flex": null,
            "_model_name": "LayoutModel",
            "justify_items": null,
            "grid_row": null,
            "max_height": null,
            "align_content": null,
            "visibility": null,
            "align_self": null,
            "height": null,
            "min_height": null,
            "padding": null,
            "grid_auto_rows": null,
            "grid_gap": null,
            "max_width": null,
            "order": null,
            "_view_module_version": "1.2.0",
            "grid_template_areas": null,
            "object_position": null,
            "object_fit": null,
            "grid_auto_columns": null,
            "margin": null,
            "display": null,
            "left": null
          }
        },
        "d5a1ad6e1ff247ad9c54b0056f8de00b": {
          "model_module": "@jupyter-widgets/controls",
          "model_name": "FloatProgressModel",
          "model_module_version": "1.5.0",
          "state": {
            "_view_name": "ProgressView",
            "style": "IPY_MODEL_956aabb54bea494f83858c217901c49a",
            "_dom_classes": [],
            "description": "Downloading: 100%",
            "_model_name": "FloatProgressModel",
            "bar_style": "success",
            "max": 791656,
            "_view_module": "@jupyter-widgets/controls",
            "_model_module_version": "1.5.0",
            "value": 791656,
            "_view_count": null,
            "_view_module_version": "1.5.0",
            "orientation": "horizontal",
            "min": 0,
            "description_tooltip": null,
            "_model_module": "@jupyter-widgets/controls",
            "layout": "IPY_MODEL_5fbb40fe0cab433798e78c58fff70664"
          }
        },
        "bb1a74fa2ec04c89be9db9aae06e8cf6": {
          "model_module": "@jupyter-widgets/controls",
          "model_name": "HTMLModel",
          "model_module_version": "1.5.0",
          "state": {
            "_view_name": "HTMLView",
            "style": "IPY_MODEL_1ee06dfccf884aea8a2830bc690be1dc",
            "_dom_classes": [],
            "description": "",
            "_model_name": "HTMLModel",
            "placeholder": "​",
            "_view_module": "@jupyter-widgets/controls",
            "_model_module_version": "1.5.0",
            "value": " 792k/792k [00:29&lt;00:00, 27.0kB/s]",
            "_view_count": null,
            "_view_module_version": "1.5.0",
            "description_tooltip": null,
            "_model_module": "@jupyter-widgets/controls",
            "layout": "IPY_MODEL_e96cf06dc0a94cb1931acdac59c82637"
          }
        },
        "956aabb54bea494f83858c217901c49a": {
          "model_module": "@jupyter-widgets/controls",
          "model_name": "ProgressStyleModel",
          "model_module_version": "1.5.0",
          "state": {
            "_view_name": "StyleView",
            "_model_name": "ProgressStyleModel",
            "description_width": "initial",
            "_view_module": "@jupyter-widgets/base",
            "_model_module_version": "1.5.0",
            "_view_count": null,
            "_view_module_version": "1.2.0",
            "bar_color": null,
            "_model_module": "@jupyter-widgets/controls"
          }
        },
        "5fbb40fe0cab433798e78c58fff70664": {
          "model_module": "@jupyter-widgets/base",
          "model_name": "LayoutModel",
          "model_module_version": "1.2.0",
          "state": {
            "_view_name": "LayoutView",
            "grid_template_rows": null,
            "right": null,
            "justify_content": null,
            "_view_module": "@jupyter-widgets/base",
            "overflow": null,
            "_model_module_version": "1.2.0",
            "_view_count": null,
            "flex_flow": null,
            "width": null,
            "min_width": null,
            "border": null,
            "align_items": null,
            "bottom": null,
            "_model_module": "@jupyter-widgets/base",
            "top": null,
            "grid_column": null,
            "overflow_y": null,
            "overflow_x": null,
            "grid_auto_flow": null,
            "grid_area": null,
            "grid_template_columns": null,
            "flex": null,
            "_model_name": "LayoutModel",
            "justify_items": null,
            "grid_row": null,
            "max_height": null,
            "align_content": null,
            "visibility": null,
            "align_self": null,
            "height": null,
            "min_height": null,
            "padding": null,
            "grid_auto_rows": null,
            "grid_gap": null,
            "max_width": null,
            "order": null,
            "_view_module_version": "1.2.0",
            "grid_template_areas": null,
            "object_position": null,
            "object_fit": null,
            "grid_auto_columns": null,
            "margin": null,
            "display": null,
            "left": null
          }
        },
        "1ee06dfccf884aea8a2830bc690be1dc": {
          "model_module": "@jupyter-widgets/controls",
          "model_name": "DescriptionStyleModel",
          "model_module_version": "1.5.0",
          "state": {
            "_view_name": "StyleView",
            "_model_name": "DescriptionStyleModel",
            "description_width": "",
            "_view_module": "@jupyter-widgets/base",
            "_model_module_version": "1.5.0",
            "_view_count": null,
            "_view_module_version": "1.2.0",
            "_model_module": "@jupyter-widgets/controls"
          }
        },
        "e96cf06dc0a94cb1931acdac59c82637": {
          "model_module": "@jupyter-widgets/base",
          "model_name": "LayoutModel",
          "model_module_version": "1.2.0",
          "state": {
            "_view_name": "LayoutView",
            "grid_template_rows": null,
            "right": null,
            "justify_content": null,
            "_view_module": "@jupyter-widgets/base",
            "overflow": null,
            "_model_module_version": "1.2.0",
            "_view_count": null,
            "flex_flow": null,
            "width": null,
            "min_width": null,
            "border": null,
            "align_items": null,
            "bottom": null,
            "_model_module": "@jupyter-widgets/base",
            "top": null,
            "grid_column": null,
            "overflow_y": null,
            "overflow_x": null,
            "grid_auto_flow": null,
            "grid_area": null,
            "grid_template_columns": null,
            "flex": null,
            "_model_name": "LayoutModel",
            "justify_items": null,
            "grid_row": null,
            "max_height": null,
            "align_content": null,
            "visibility": null,
            "align_self": null,
            "height": null,
            "min_height": null,
            "padding": null,
            "grid_auto_rows": null,
            "grid_gap": null,
            "max_width": null,
            "order": null,
            "_view_module_version": "1.2.0",
            "grid_template_areas": null,
            "object_position": null,
            "object_fit": null,
            "grid_auto_columns": null,
            "margin": null,
            "display": null,
            "left": null
          }
        },
        "8d9b7090ea4b4bf68a27da6a04e4f1fe": {
          "model_module": "@jupyter-widgets/controls",
          "model_name": "HBoxModel",
          "model_module_version": "1.5.0",
          "state": {
            "_view_name": "HBoxView",
            "_dom_classes": [],
            "_model_name": "HBoxModel",
            "_view_module": "@jupyter-widgets/controls",
            "_model_module_version": "1.5.0",
            "_view_count": null,
            "_view_module_version": "1.5.0",
            "box_style": "",
            "layout": "IPY_MODEL_32b2410ceaf2485199762f182580219c",
            "_model_module": "@jupyter-widgets/controls",
            "children": [
              "IPY_MODEL_9339ca6f20344d83ac22ab31f3a1f608",
              "IPY_MODEL_c4396c5f30a64d16bc5c54d502fcca34"
            ]
          }
        },
        "32b2410ceaf2485199762f182580219c": {
          "model_module": "@jupyter-widgets/base",
          "model_name": "LayoutModel",
          "model_module_version": "1.2.0",
          "state": {
            "_view_name": "LayoutView",
            "grid_template_rows": null,
            "right": null,
            "justify_content": null,
            "_view_module": "@jupyter-widgets/base",
            "overflow": null,
            "_model_module_version": "1.2.0",
            "_view_count": null,
            "flex_flow": null,
            "width": null,
            "min_width": null,
            "border": null,
            "align_items": null,
            "bottom": null,
            "_model_module": "@jupyter-widgets/base",
            "top": null,
            "grid_column": null,
            "overflow_y": null,
            "overflow_x": null,
            "grid_auto_flow": null,
            "grid_area": null,
            "grid_template_columns": null,
            "flex": null,
            "_model_name": "LayoutModel",
            "justify_items": null,
            "grid_row": null,
            "max_height": null,
            "align_content": null,
            "visibility": null,
            "align_self": null,
            "height": null,
            "min_height": null,
            "padding": null,
            "grid_auto_rows": null,
            "grid_gap": null,
            "max_width": null,
            "order": null,
            "_view_module_version": "1.2.0",
            "grid_template_areas": null,
            "object_position": null,
            "object_fit": null,
            "grid_auto_columns": null,
            "margin": null,
            "display": null,
            "left": null
          }
        },
        "9339ca6f20344d83ac22ab31f3a1f608": {
          "model_module": "@jupyter-widgets/controls",
          "model_name": "FloatProgressModel",
          "model_module_version": "1.5.0",
          "state": {
            "_view_name": "ProgressView",
            "style": "IPY_MODEL_c0a13e6ce8b841418a4503a7585252fd",
            "_dom_classes": [],
            "description": "Downloading: 100%",
            "_model_name": "FloatProgressModel",
            "bar_style": "success",
            "max": 898823,
            "_view_module": "@jupyter-widgets/controls",
            "_model_module_version": "1.5.0",
            "value": 898823,
            "_view_count": null,
            "_view_module_version": "1.5.0",
            "orientation": "horizontal",
            "min": 0,
            "description_tooltip": null,
            "_model_module": "@jupyter-widgets/controls",
            "layout": "IPY_MODEL_45ca16909edf419cbd8971086ba9e432"
          }
        },
        "c4396c5f30a64d16bc5c54d502fcca34": {
          "model_module": "@jupyter-widgets/controls",
          "model_name": "HTMLModel",
          "model_module_version": "1.5.0",
          "state": {
            "_view_name": "HTMLView",
            "style": "IPY_MODEL_b1e922e8b038482b8eda1dfd38cf69f5",
            "_dom_classes": [],
            "description": "",
            "_model_name": "HTMLModel",
            "placeholder": "​",
            "_view_module": "@jupyter-widgets/controls",
            "_model_module_version": "1.5.0",
            "value": " 899k/899k [00:02&lt;00:00, 392kB/s]",
            "_view_count": null,
            "_view_module_version": "1.5.0",
            "description_tooltip": null,
            "_model_module": "@jupyter-widgets/controls",
            "layout": "IPY_MODEL_8df6d7bd500945af80f9f571ea7be467"
          }
        },
        "c0a13e6ce8b841418a4503a7585252fd": {
          "model_module": "@jupyter-widgets/controls",
          "model_name": "ProgressStyleModel",
          "model_module_version": "1.5.0",
          "state": {
            "_view_name": "StyleView",
            "_model_name": "ProgressStyleModel",
            "description_width": "initial",
            "_view_module": "@jupyter-widgets/base",
            "_model_module_version": "1.5.0",
            "_view_count": null,
            "_view_module_version": "1.2.0",
            "bar_color": null,
            "_model_module": "@jupyter-widgets/controls"
          }
        },
        "45ca16909edf419cbd8971086ba9e432": {
          "model_module": "@jupyter-widgets/base",
          "model_name": "LayoutModel",
          "model_module_version": "1.2.0",
          "state": {
            "_view_name": "LayoutView",
            "grid_template_rows": null,
            "right": null,
            "justify_content": null,
            "_view_module": "@jupyter-widgets/base",
            "overflow": null,
            "_model_module_version": "1.2.0",
            "_view_count": null,
            "flex_flow": null,
            "width": null,
            "min_width": null,
            "border": null,
            "align_items": null,
            "bottom": null,
            "_model_module": "@jupyter-widgets/base",
            "top": null,
            "grid_column": null,
            "overflow_y": null,
            "overflow_x": null,
            "grid_auto_flow": null,
            "grid_area": null,
            "grid_template_columns": null,
            "flex": null,
            "_model_name": "LayoutModel",
            "justify_items": null,
            "grid_row": null,
            "max_height": null,
            "align_content": null,
            "visibility": null,
            "align_self": null,
            "height": null,
            "min_height": null,
            "padding": null,
            "grid_auto_rows": null,
            "grid_gap": null,
            "max_width": null,
            "order": null,
            "_view_module_version": "1.2.0",
            "grid_template_areas": null,
            "object_position": null,
            "object_fit": null,
            "grid_auto_columns": null,
            "margin": null,
            "display": null,
            "left": null
          }
        },
        "b1e922e8b038482b8eda1dfd38cf69f5": {
          "model_module": "@jupyter-widgets/controls",
          "model_name": "DescriptionStyleModel",
          "model_module_version": "1.5.0",
          "state": {
            "_view_name": "StyleView",
            "_model_name": "DescriptionStyleModel",
            "description_width": "",
            "_view_module": "@jupyter-widgets/base",
            "_model_module_version": "1.5.0",
            "_view_count": null,
            "_view_module_version": "1.2.0",
            "_model_module": "@jupyter-widgets/controls"
          }
        },
        "8df6d7bd500945af80f9f571ea7be467": {
          "model_module": "@jupyter-widgets/base",
          "model_name": "LayoutModel",
          "model_module_version": "1.2.0",
          "state": {
            "_view_name": "LayoutView",
            "grid_template_rows": null,
            "right": null,
            "justify_content": null,
            "_view_module": "@jupyter-widgets/base",
            "overflow": null,
            "_model_module_version": "1.2.0",
            "_view_count": null,
            "flex_flow": null,
            "width": null,
            "min_width": null,
            "border": null,
            "align_items": null,
            "bottom": null,
            "_model_module": "@jupyter-widgets/base",
            "top": null,
            "grid_column": null,
            "overflow_y": null,
            "overflow_x": null,
            "grid_auto_flow": null,
            "grid_area": null,
            "grid_template_columns": null,
            "flex": null,
            "_model_name": "LayoutModel",
            "justify_items": null,
            "grid_row": null,
            "max_height": null,
            "align_content": null,
            "visibility": null,
            "align_self": null,
            "height": null,
            "min_height": null,
            "padding": null,
            "grid_auto_rows": null,
            "grid_gap": null,
            "max_width": null,
            "order": null,
            "_view_module_version": "1.2.0",
            "grid_template_areas": null,
            "object_position": null,
            "object_fit": null,
            "grid_auto_columns": null,
            "margin": null,
            "display": null,
            "left": null
          }
        },
        "304db19b371546e4b0e11dcb6b6a8639": {
          "model_module": "@jupyter-widgets/controls",
          "model_name": "HBoxModel",
          "model_module_version": "1.5.0",
          "state": {
            "_view_name": "HBoxView",
            "_dom_classes": [],
            "_model_name": "HBoxModel",
            "_view_module": "@jupyter-widgets/controls",
            "_model_module_version": "1.5.0",
            "_view_count": null,
            "_view_module_version": "1.5.0",
            "box_style": "",
            "layout": "IPY_MODEL_63ade30a2c5d410fa8508ad7e792ba85",
            "_model_module": "@jupyter-widgets/controls",
            "children": [
              "IPY_MODEL_bade5eee187f41889e66387015f10acf",
              "IPY_MODEL_ce5b95cac4d3436b9e311426802cdfda"
            ]
          }
        },
        "63ade30a2c5d410fa8508ad7e792ba85": {
          "model_module": "@jupyter-widgets/base",
          "model_name": "LayoutModel",
          "model_module_version": "1.2.0",
          "state": {
            "_view_name": "LayoutView",
            "grid_template_rows": null,
            "right": null,
            "justify_content": null,
            "_view_module": "@jupyter-widgets/base",
            "overflow": null,
            "_model_module_version": "1.2.0",
            "_view_count": null,
            "flex_flow": null,
            "width": null,
            "min_width": null,
            "border": null,
            "align_items": null,
            "bottom": null,
            "_model_module": "@jupyter-widgets/base",
            "top": null,
            "grid_column": null,
            "overflow_y": null,
            "overflow_x": null,
            "grid_auto_flow": null,
            "grid_area": null,
            "grid_template_columns": null,
            "flex": null,
            "_model_name": "LayoutModel",
            "justify_items": null,
            "grid_row": null,
            "max_height": null,
            "align_content": null,
            "visibility": null,
            "align_self": null,
            "height": null,
            "min_height": null,
            "padding": null,
            "grid_auto_rows": null,
            "grid_gap": null,
            "max_width": null,
            "order": null,
            "_view_module_version": "1.2.0",
            "grid_template_areas": null,
            "object_position": null,
            "object_fit": null,
            "grid_auto_columns": null,
            "margin": null,
            "display": null,
            "left": null
          }
        },
        "bade5eee187f41889e66387015f10acf": {
          "model_module": "@jupyter-widgets/controls",
          "model_name": "FloatProgressModel",
          "model_module_version": "1.5.0",
          "state": {
            "_view_name": "ProgressView",
            "style": "IPY_MODEL_d03876ec81e74ff29a703d2a1fc76bdc",
            "_dom_classes": [],
            "description": "Downloading: 100%",
            "_model_name": "FloatProgressModel",
            "bar_style": "success",
            "max": 456318,
            "_view_module": "@jupyter-widgets/controls",
            "_model_module_version": "1.5.0",
            "value": 456318,
            "_view_count": null,
            "_view_module_version": "1.5.0",
            "orientation": "horizontal",
            "min": 0,
            "description_tooltip": null,
            "_model_module": "@jupyter-widgets/controls",
            "layout": "IPY_MODEL_8295e935685e4324a0d66e41aebd7d66"
          }
        },
        "ce5b95cac4d3436b9e311426802cdfda": {
          "model_module": "@jupyter-widgets/controls",
          "model_name": "HTMLModel",
          "model_module_version": "1.5.0",
          "state": {
            "_view_name": "HTMLView",
            "style": "IPY_MODEL_1922f46437034df5a7abe9b64df3c8a3",
            "_dom_classes": [],
            "description": "",
            "_model_name": "HTMLModel",
            "placeholder": "​",
            "_view_module": "@jupyter-widgets/controls",
            "_model_module_version": "1.5.0",
            "value": " 456k/456k [00:01&lt;00:00, 358kB/s]",
            "_view_count": null,
            "_view_module_version": "1.5.0",
            "description_tooltip": null,
            "_model_module": "@jupyter-widgets/controls",
            "layout": "IPY_MODEL_001f0f10b72343ea9d21c1b6464b6edb"
          }
        },
        "d03876ec81e74ff29a703d2a1fc76bdc": {
          "model_module": "@jupyter-widgets/controls",
          "model_name": "ProgressStyleModel",
          "model_module_version": "1.5.0",
          "state": {
            "_view_name": "StyleView",
            "_model_name": "ProgressStyleModel",
            "description_width": "initial",
            "_view_module": "@jupyter-widgets/base",
            "_model_module_version": "1.5.0",
            "_view_count": null,
            "_view_module_version": "1.2.0",
            "bar_color": null,
            "_model_module": "@jupyter-widgets/controls"
          }
        },
        "8295e935685e4324a0d66e41aebd7d66": {
          "model_module": "@jupyter-widgets/base",
          "model_name": "LayoutModel",
          "model_module_version": "1.2.0",
          "state": {
            "_view_name": "LayoutView",
            "grid_template_rows": null,
            "right": null,
            "justify_content": null,
            "_view_module": "@jupyter-widgets/base",
            "overflow": null,
            "_model_module_version": "1.2.0",
            "_view_count": null,
            "flex_flow": null,
            "width": null,
            "min_width": null,
            "border": null,
            "align_items": null,
            "bottom": null,
            "_model_module": "@jupyter-widgets/base",
            "top": null,
            "grid_column": null,
            "overflow_y": null,
            "overflow_x": null,
            "grid_auto_flow": null,
            "grid_area": null,
            "grid_template_columns": null,
            "flex": null,
            "_model_name": "LayoutModel",
            "justify_items": null,
            "grid_row": null,
            "max_height": null,
            "align_content": null,
            "visibility": null,
            "align_self": null,
            "height": null,
            "min_height": null,
            "padding": null,
            "grid_auto_rows": null,
            "grid_gap": null,
            "max_width": null,
            "order": null,
            "_view_module_version": "1.2.0",
            "grid_template_areas": null,
            "object_position": null,
            "object_fit": null,
            "grid_auto_columns": null,
            "margin": null,
            "display": null,
            "left": null
          }
        },
        "1922f46437034df5a7abe9b64df3c8a3": {
          "model_module": "@jupyter-widgets/controls",
          "model_name": "DescriptionStyleModel",
          "model_module_version": "1.5.0",
          "state": {
            "_view_name": "StyleView",
            "_model_name": "DescriptionStyleModel",
            "description_width": "",
            "_view_module": "@jupyter-widgets/base",
            "_model_module_version": "1.5.0",
            "_view_count": null,
            "_view_module_version": "1.2.0",
            "_model_module": "@jupyter-widgets/controls"
          }
        },
        "001f0f10b72343ea9d21c1b6464b6edb": {
          "model_module": "@jupyter-widgets/base",
          "model_name": "LayoutModel",
          "model_module_version": "1.2.0",
          "state": {
            "_view_name": "LayoutView",
            "grid_template_rows": null,
            "right": null,
            "justify_content": null,
            "_view_module": "@jupyter-widgets/base",
            "overflow": null,
            "_model_module_version": "1.2.0",
            "_view_count": null,
            "flex_flow": null,
            "width": null,
            "min_width": null,
            "border": null,
            "align_items": null,
            "bottom": null,
            "_model_module": "@jupyter-widgets/base",
            "top": null,
            "grid_column": null,
            "overflow_y": null,
            "overflow_x": null,
            "grid_auto_flow": null,
            "grid_area": null,
            "grid_template_columns": null,
            "flex": null,
            "_model_name": "LayoutModel",
            "justify_items": null,
            "grid_row": null,
            "max_height": null,
            "align_content": null,
            "visibility": null,
            "align_self": null,
            "height": null,
            "min_height": null,
            "padding": null,
            "grid_auto_rows": null,
            "grid_gap": null,
            "max_width": null,
            "order": null,
            "_view_module_version": "1.2.0",
            "grid_template_areas": null,
            "object_position": null,
            "object_fit": null,
            "grid_auto_columns": null,
            "margin": null,
            "display": null,
            "left": null
          }
        },
        "4451e211f97d4ebcb81cfaf57c0b7f0f": {
          "model_module": "@jupyter-widgets/controls",
          "model_name": "HBoxModel",
          "model_module_version": "1.5.0",
          "state": {
            "_view_name": "HBoxView",
            "_dom_classes": [],
            "_model_name": "HBoxModel",
            "_view_module": "@jupyter-widgets/controls",
            "_model_module_version": "1.5.0",
            "_view_count": null,
            "_view_module_version": "1.5.0",
            "box_style": "",
            "layout": "IPY_MODEL_c8ee8ea36820409d9e7d3904f55f1bf0",
            "_model_module": "@jupyter-widgets/controls",
            "children": [
              "IPY_MODEL_313dac40eb9049f88495e9fdb6149b55",
              "IPY_MODEL_2bd7467238bf46a1a0932526f1f41baa"
            ]
          }
        },
        "c8ee8ea36820409d9e7d3904f55f1bf0": {
          "model_module": "@jupyter-widgets/base",
          "model_name": "LayoutModel",
          "model_module_version": "1.2.0",
          "state": {
            "_view_name": "LayoutView",
            "grid_template_rows": null,
            "right": null,
            "justify_content": null,
            "_view_module": "@jupyter-widgets/base",
            "overflow": null,
            "_model_module_version": "1.2.0",
            "_view_count": null,
            "flex_flow": null,
            "width": null,
            "min_width": null,
            "border": null,
            "align_items": null,
            "bottom": null,
            "_model_module": "@jupyter-widgets/base",
            "top": null,
            "grid_column": null,
            "overflow_y": null,
            "overflow_x": null,
            "grid_auto_flow": null,
            "grid_area": null,
            "grid_template_columns": null,
            "flex": null,
            "_model_name": "LayoutModel",
            "justify_items": null,
            "grid_row": null,
            "max_height": null,
            "align_content": null,
            "visibility": null,
            "align_self": null,
            "height": null,
            "min_height": null,
            "padding": null,
            "grid_auto_rows": null,
            "grid_gap": null,
            "max_width": null,
            "order": null,
            "_view_module_version": "1.2.0",
            "grid_template_areas": null,
            "object_position": null,
            "object_fit": null,
            "grid_auto_columns": null,
            "margin": null,
            "display": null,
            "left": null
          }
        },
        "313dac40eb9049f88495e9fdb6149b55": {
          "model_module": "@jupyter-widgets/controls",
          "model_name": "FloatProgressModel",
          "model_module_version": "1.5.0",
          "state": {
            "_view_name": "ProgressView",
            "style": "IPY_MODEL_70284014119e4641b914db9c372ec876",
            "_dom_classes": [],
            "description": "Downloading: 100%",
            "_model_name": "FloatProgressModel",
            "bar_style": "success",
            "max": 1343,
            "_view_module": "@jupyter-widgets/controls",
            "_model_module_version": "1.5.0",
            "value": 1343,
            "_view_count": null,
            "_view_module_version": "1.5.0",
            "orientation": "horizontal",
            "min": 0,
            "description_tooltip": null,
            "_model_module": "@jupyter-widgets/controls",
            "layout": "IPY_MODEL_9e6ac45400bb40cfbc903a1ecc0ca2f5"
          }
        },
        "2bd7467238bf46a1a0932526f1f41baa": {
          "model_module": "@jupyter-widgets/controls",
          "model_name": "HTMLModel",
          "model_module_version": "1.5.0",
          "state": {
            "_view_name": "HTMLView",
            "style": "IPY_MODEL_7f71e32ce4cc4b698bf2df8dad131e09",
            "_dom_classes": [],
            "description": "",
            "_model_name": "HTMLModel",
            "placeholder": "​",
            "_view_module": "@jupyter-widgets/controls",
            "_model_module_version": "1.5.0",
            "value": " 1.34k/1.34k [00:40&lt;00:00, 32.8B/s]",
            "_view_count": null,
            "_view_module_version": "1.5.0",
            "description_tooltip": null,
            "_model_module": "@jupyter-widgets/controls",
            "layout": "IPY_MODEL_248b629f674648cea8be308fb4bc2acd"
          }
        },
        "70284014119e4641b914db9c372ec876": {
          "model_module": "@jupyter-widgets/controls",
          "model_name": "ProgressStyleModel",
          "model_module_version": "1.5.0",
          "state": {
            "_view_name": "StyleView",
            "_model_name": "ProgressStyleModel",
            "description_width": "initial",
            "_view_module": "@jupyter-widgets/base",
            "_model_module_version": "1.5.0",
            "_view_count": null,
            "_view_module_version": "1.2.0",
            "bar_color": null,
            "_model_module": "@jupyter-widgets/controls"
          }
        },
        "9e6ac45400bb40cfbc903a1ecc0ca2f5": {
          "model_module": "@jupyter-widgets/base",
          "model_name": "LayoutModel",
          "model_module_version": "1.2.0",
          "state": {
            "_view_name": "LayoutView",
            "grid_template_rows": null,
            "right": null,
            "justify_content": null,
            "_view_module": "@jupyter-widgets/base",
            "overflow": null,
            "_model_module_version": "1.2.0",
            "_view_count": null,
            "flex_flow": null,
            "width": null,
            "min_width": null,
            "border": null,
            "align_items": null,
            "bottom": null,
            "_model_module": "@jupyter-widgets/base",
            "top": null,
            "grid_column": null,
            "overflow_y": null,
            "overflow_x": null,
            "grid_auto_flow": null,
            "grid_area": null,
            "grid_template_columns": null,
            "flex": null,
            "_model_name": "LayoutModel",
            "justify_items": null,
            "grid_row": null,
            "max_height": null,
            "align_content": null,
            "visibility": null,
            "align_self": null,
            "height": null,
            "min_height": null,
            "padding": null,
            "grid_auto_rows": null,
            "grid_gap": null,
            "max_width": null,
            "order": null,
            "_view_module_version": "1.2.0",
            "grid_template_areas": null,
            "object_position": null,
            "object_fit": null,
            "grid_auto_columns": null,
            "margin": null,
            "display": null,
            "left": null
          }
        },
        "7f71e32ce4cc4b698bf2df8dad131e09": {
          "model_module": "@jupyter-widgets/controls",
          "model_name": "DescriptionStyleModel",
          "model_module_version": "1.5.0",
          "state": {
            "_view_name": "StyleView",
            "_model_name": "DescriptionStyleModel",
            "description_width": "",
            "_view_module": "@jupyter-widgets/base",
            "_model_module_version": "1.5.0",
            "_view_count": null,
            "_view_module_version": "1.2.0",
            "_model_module": "@jupyter-widgets/controls"
          }
        },
        "248b629f674648cea8be308fb4bc2acd": {
          "model_module": "@jupyter-widgets/base",
          "model_name": "LayoutModel",
          "model_module_version": "1.2.0",
          "state": {
            "_view_name": "LayoutView",
            "grid_template_rows": null,
            "right": null,
            "justify_content": null,
            "_view_module": "@jupyter-widgets/base",
            "overflow": null,
            "_model_module_version": "1.2.0",
            "_view_count": null,
            "flex_flow": null,
            "width": null,
            "min_width": null,
            "border": null,
            "align_items": null,
            "bottom": null,
            "_model_module": "@jupyter-widgets/base",
            "top": null,
            "grid_column": null,
            "overflow_y": null,
            "overflow_x": null,
            "grid_auto_flow": null,
            "grid_area": null,
            "grid_template_columns": null,
            "flex": null,
            "_model_name": "LayoutModel",
            "justify_items": null,
            "grid_row": null,
            "max_height": null,
            "align_content": null,
            "visibility": null,
            "align_self": null,
            "height": null,
            "min_height": null,
            "padding": null,
            "grid_auto_rows": null,
            "grid_gap": null,
            "max_width": null,
            "order": null,
            "_view_module_version": "1.2.0",
            "grid_template_areas": null,
            "object_position": null,
            "object_fit": null,
            "grid_auto_columns": null,
            "margin": null,
            "display": null,
            "left": null
          }
        },
        "d01707067a9342cf851aa2b18196522a": {
          "model_module": "@jupyter-widgets/controls",
          "model_name": "HBoxModel",
          "model_module_version": "1.5.0",
          "state": {
            "_view_name": "HBoxView",
            "_dom_classes": [],
            "_model_name": "HBoxModel",
            "_view_module": "@jupyter-widgets/controls",
            "_model_module_version": "1.5.0",
            "_view_count": null,
            "_view_module_version": "1.5.0",
            "box_style": "",
            "layout": "IPY_MODEL_494c6b7f4d54424ba46b535f0de1a08f",
            "_model_module": "@jupyter-widgets/controls",
            "children": [
              "IPY_MODEL_9016b65bc83c48d49014b36cf0fd9d52",
              "IPY_MODEL_137d9c0f6c80416e9ff5beef646d978a"
            ]
          }
        },
        "494c6b7f4d54424ba46b535f0de1a08f": {
          "model_module": "@jupyter-widgets/base",
          "model_name": "LayoutModel",
          "model_module_version": "1.2.0",
          "state": {
            "_view_name": "LayoutView",
            "grid_template_rows": null,
            "right": null,
            "justify_content": null,
            "_view_module": "@jupyter-widgets/base",
            "overflow": null,
            "_model_module_version": "1.2.0",
            "_view_count": null,
            "flex_flow": null,
            "width": null,
            "min_width": null,
            "border": null,
            "align_items": null,
            "bottom": null,
            "_model_module": "@jupyter-widgets/base",
            "top": null,
            "grid_column": null,
            "overflow_y": null,
            "overflow_x": null,
            "grid_auto_flow": null,
            "grid_area": null,
            "grid_template_columns": null,
            "flex": null,
            "_model_name": "LayoutModel",
            "justify_items": null,
            "grid_row": null,
            "max_height": null,
            "align_content": null,
            "visibility": null,
            "align_self": null,
            "height": null,
            "min_height": null,
            "padding": null,
            "grid_auto_rows": null,
            "grid_gap": null,
            "max_width": null,
            "order": null,
            "_view_module_version": "1.2.0",
            "grid_template_areas": null,
            "object_position": null,
            "object_fit": null,
            "grid_auto_columns": null,
            "margin": null,
            "display": null,
            "left": null
          }
        },
        "9016b65bc83c48d49014b36cf0fd9d52": {
          "model_module": "@jupyter-widgets/controls",
          "model_name": "FloatProgressModel",
          "model_module_version": "1.5.0",
          "state": {
            "_view_name": "ProgressView",
            "style": "IPY_MODEL_abc2d87a486a49dd8c64c013292c10df",
            "_dom_classes": [],
            "description": "Downloading: 100%",
            "_model_name": "FloatProgressModel",
            "bar_style": "success",
            "max": 1625270765,
            "_view_module": "@jupyter-widgets/controls",
            "_model_module_version": "1.5.0",
            "value": 1625270765,
            "_view_count": null,
            "_view_module_version": "1.5.0",
            "orientation": "horizontal",
            "min": 0,
            "description_tooltip": null,
            "_model_module": "@jupyter-widgets/controls",
            "layout": "IPY_MODEL_e1f7a39d07f34d319ddf8308bc2b8eac"
          }
        },
        "137d9c0f6c80416e9ff5beef646d978a": {
          "model_module": "@jupyter-widgets/controls",
          "model_name": "HTMLModel",
          "model_module_version": "1.5.0",
          "state": {
            "_view_name": "HTMLView",
            "style": "IPY_MODEL_0f6d3206841b4f4ca4f51bd86fc94f4d",
            "_dom_classes": [],
            "description": "",
            "_model_name": "HTMLModel",
            "placeholder": "​",
            "_view_module": "@jupyter-widgets/controls",
            "_model_module_version": "1.5.0",
            "value": " 1.63G/1.63G [00:40&lt;00:00, 40.1MB/s]",
            "_view_count": null,
            "_view_module_version": "1.5.0",
            "description_tooltip": null,
            "_model_module": "@jupyter-widgets/controls",
            "layout": "IPY_MODEL_2526573ce04d49c8a7953aab2e7fb980"
          }
        },
        "abc2d87a486a49dd8c64c013292c10df": {
          "model_module": "@jupyter-widgets/controls",
          "model_name": "ProgressStyleModel",
          "model_module_version": "1.5.0",
          "state": {
            "_view_name": "StyleView",
            "_model_name": "ProgressStyleModel",
            "description_width": "initial",
            "_view_module": "@jupyter-widgets/base",
            "_model_module_version": "1.5.0",
            "_view_count": null,
            "_view_module_version": "1.2.0",
            "bar_color": null,
            "_model_module": "@jupyter-widgets/controls"
          }
        },
        "e1f7a39d07f34d319ddf8308bc2b8eac": {
          "model_module": "@jupyter-widgets/base",
          "model_name": "LayoutModel",
          "model_module_version": "1.2.0",
          "state": {
            "_view_name": "LayoutView",
            "grid_template_rows": null,
            "right": null,
            "justify_content": null,
            "_view_module": "@jupyter-widgets/base",
            "overflow": null,
            "_model_module_version": "1.2.0",
            "_view_count": null,
            "flex_flow": null,
            "width": null,
            "min_width": null,
            "border": null,
            "align_items": null,
            "bottom": null,
            "_model_module": "@jupyter-widgets/base",
            "top": null,
            "grid_column": null,
            "overflow_y": null,
            "overflow_x": null,
            "grid_auto_flow": null,
            "grid_area": null,
            "grid_template_columns": null,
            "flex": null,
            "_model_name": "LayoutModel",
            "justify_items": null,
            "grid_row": null,
            "max_height": null,
            "align_content": null,
            "visibility": null,
            "align_self": null,
            "height": null,
            "min_height": null,
            "padding": null,
            "grid_auto_rows": null,
            "grid_gap": null,
            "max_width": null,
            "order": null,
            "_view_module_version": "1.2.0",
            "grid_template_areas": null,
            "object_position": null,
            "object_fit": null,
            "grid_auto_columns": null,
            "margin": null,
            "display": null,
            "left": null
          }
        },
        "0f6d3206841b4f4ca4f51bd86fc94f4d": {
          "model_module": "@jupyter-widgets/controls",
          "model_name": "DescriptionStyleModel",
          "model_module_version": "1.5.0",
          "state": {
            "_view_name": "StyleView",
            "_model_name": "DescriptionStyleModel",
            "description_width": "",
            "_view_module": "@jupyter-widgets/base",
            "_model_module_version": "1.5.0",
            "_view_count": null,
            "_view_module_version": "1.2.0",
            "_model_module": "@jupyter-widgets/controls"
          }
        },
        "2526573ce04d49c8a7953aab2e7fb980": {
          "model_module": "@jupyter-widgets/base",
          "model_name": "LayoutModel",
          "model_module_version": "1.2.0",
          "state": {
            "_view_name": "LayoutView",
            "grid_template_rows": null,
            "right": null,
            "justify_content": null,
            "_view_module": "@jupyter-widgets/base",
            "overflow": null,
            "_model_module_version": "1.2.0",
            "_view_count": null,
            "flex_flow": null,
            "width": null,
            "min_width": null,
            "border": null,
            "align_items": null,
            "bottom": null,
            "_model_module": "@jupyter-widgets/base",
            "top": null,
            "grid_column": null,
            "overflow_y": null,
            "overflow_x": null,
            "grid_auto_flow": null,
            "grid_area": null,
            "grid_template_columns": null,
            "flex": null,
            "_model_name": "LayoutModel",
            "justify_items": null,
            "grid_row": null,
            "max_height": null,
            "align_content": null,
            "visibility": null,
            "align_self": null,
            "height": null,
            "min_height": null,
            "padding": null,
            "grid_auto_rows": null,
            "grid_gap": null,
            "max_width": null,
            "order": null,
            "_view_module_version": "1.2.0",
            "grid_template_areas": null,
            "object_position": null,
            "object_fit": null,
            "grid_auto_columns": null,
            "margin": null,
            "display": null,
            "left": null
          }
        },
        "ba384304a4bf4bd9b330a335ef2259c5": {
          "model_module": "@jupyter-widgets/controls",
          "model_name": "HBoxModel",
          "model_module_version": "1.5.0",
          "state": {
            "_view_name": "HBoxView",
            "_dom_classes": [],
            "_model_name": "HBoxModel",
            "_view_module": "@jupyter-widgets/controls",
            "_model_module_version": "1.5.0",
            "_view_count": null,
            "_view_module_version": "1.5.0",
            "box_style": "",
            "layout": "IPY_MODEL_1f657e7d78a84605a3ba537c88433ed2",
            "_model_module": "@jupyter-widgets/controls",
            "children": [
              "IPY_MODEL_615a87fb4a8b443cb5740206a7ca00e3",
              "IPY_MODEL_6a3704a303b24c459d72ac3a04eef29d"
            ]
          }
        },
        "1f657e7d78a84605a3ba537c88433ed2": {
          "model_module": "@jupyter-widgets/base",
          "model_name": "LayoutModel",
          "model_module_version": "1.2.0",
          "state": {
            "_view_name": "LayoutView",
            "grid_template_rows": null,
            "right": null,
            "justify_content": null,
            "_view_module": "@jupyter-widgets/base",
            "overflow": null,
            "_model_module_version": "1.2.0",
            "_view_count": null,
            "flex_flow": null,
            "width": null,
            "min_width": null,
            "border": null,
            "align_items": null,
            "bottom": null,
            "_model_module": "@jupyter-widgets/base",
            "top": null,
            "grid_column": null,
            "overflow_y": null,
            "overflow_x": null,
            "grid_auto_flow": null,
            "grid_area": null,
            "grid_template_columns": null,
            "flex": null,
            "_model_name": "LayoutModel",
            "justify_items": null,
            "grid_row": null,
            "max_height": null,
            "align_content": null,
            "visibility": null,
            "align_self": null,
            "height": null,
            "min_height": null,
            "padding": null,
            "grid_auto_rows": null,
            "grid_gap": null,
            "max_width": null,
            "order": null,
            "_view_module_version": "1.2.0",
            "grid_template_areas": null,
            "object_position": null,
            "object_fit": null,
            "grid_auto_columns": null,
            "margin": null,
            "display": null,
            "left": null
          }
        },
        "615a87fb4a8b443cb5740206a7ca00e3": {
          "model_module": "@jupyter-widgets/controls",
          "model_name": "FloatProgressModel",
          "model_module_version": "1.5.0",
          "state": {
            "_view_name": "ProgressView",
            "style": "IPY_MODEL_bcf07b6deeb940fe8a42d31f527db9de",
            "_dom_classes": [],
            "description": "Downloading: 100%",
            "_model_name": "FloatProgressModel",
            "bar_style": "success",
            "max": 1042301,
            "_view_module": "@jupyter-widgets/controls",
            "_model_module_version": "1.5.0",
            "value": 1042301,
            "_view_count": null,
            "_view_module_version": "1.5.0",
            "orientation": "horizontal",
            "min": 0,
            "description_tooltip": null,
            "_model_module": "@jupyter-widgets/controls",
            "layout": "IPY_MODEL_64e22445888a4943829b0ab974edd275"
          }
        },
        "6a3704a303b24c459d72ac3a04eef29d": {
          "model_module": "@jupyter-widgets/controls",
          "model_name": "HTMLModel",
          "model_module_version": "1.5.0",
          "state": {
            "_view_name": "HTMLView",
            "style": "IPY_MODEL_6c63d310a0da45cdbe2503013724314e",
            "_dom_classes": [],
            "description": "",
            "_model_name": "HTMLModel",
            "placeholder": "​",
            "_view_module": "@jupyter-widgets/controls",
            "_model_module_version": "1.5.0",
            "value": " 1.04M/1.04M [00:00&lt;00:00, 1.43MB/s]",
            "_view_count": null,
            "_view_module_version": "1.5.0",
            "description_tooltip": null,
            "_model_module": "@jupyter-widgets/controls",
            "layout": "IPY_MODEL_32f1ac05728e4cbeb177a9af107df993"
          }
        },
        "bcf07b6deeb940fe8a42d31f527db9de": {
          "model_module": "@jupyter-widgets/controls",
          "model_name": "ProgressStyleModel",
          "model_module_version": "1.5.0",
          "state": {
            "_view_name": "StyleView",
            "_model_name": "ProgressStyleModel",
            "description_width": "initial",
            "_view_module": "@jupyter-widgets/base",
            "_model_module_version": "1.5.0",
            "_view_count": null,
            "_view_module_version": "1.2.0",
            "bar_color": null,
            "_model_module": "@jupyter-widgets/controls"
          }
        },
        "64e22445888a4943829b0ab974edd275": {
          "model_module": "@jupyter-widgets/base",
          "model_name": "LayoutModel",
          "model_module_version": "1.2.0",
          "state": {
            "_view_name": "LayoutView",
            "grid_template_rows": null,
            "right": null,
            "justify_content": null,
            "_view_module": "@jupyter-widgets/base",
            "overflow": null,
            "_model_module_version": "1.2.0",
            "_view_count": null,
            "flex_flow": null,
            "width": null,
            "min_width": null,
            "border": null,
            "align_items": null,
            "bottom": null,
            "_model_module": "@jupyter-widgets/base",
            "top": null,
            "grid_column": null,
            "overflow_y": null,
            "overflow_x": null,
            "grid_auto_flow": null,
            "grid_area": null,
            "grid_template_columns": null,
            "flex": null,
            "_model_name": "LayoutModel",
            "justify_items": null,
            "grid_row": null,
            "max_height": null,
            "align_content": null,
            "visibility": null,
            "align_self": null,
            "height": null,
            "min_height": null,
            "padding": null,
            "grid_auto_rows": null,
            "grid_gap": null,
            "max_width": null,
            "order": null,
            "_view_module_version": "1.2.0",
            "grid_template_areas": null,
            "object_position": null,
            "object_fit": null,
            "grid_auto_columns": null,
            "margin": null,
            "display": null,
            "left": null
          }
        },
        "6c63d310a0da45cdbe2503013724314e": {
          "model_module": "@jupyter-widgets/controls",
          "model_name": "DescriptionStyleModel",
          "model_module_version": "1.5.0",
          "state": {
            "_view_name": "StyleView",
            "_model_name": "DescriptionStyleModel",
            "description_width": "",
            "_view_module": "@jupyter-widgets/base",
            "_model_module_version": "1.5.0",
            "_view_count": null,
            "_view_module_version": "1.2.0",
            "_model_module": "@jupyter-widgets/controls"
          }
        },
        "32f1ac05728e4cbeb177a9af107df993": {
          "model_module": "@jupyter-widgets/base",
          "model_name": "LayoutModel",
          "model_module_version": "1.2.0",
          "state": {
            "_view_name": "LayoutView",
            "grid_template_rows": null,
            "right": null,
            "justify_content": null,
            "_view_module": "@jupyter-widgets/base",
            "overflow": null,
            "_model_module_version": "1.2.0",
            "_view_count": null,
            "flex_flow": null,
            "width": null,
            "min_width": null,
            "border": null,
            "align_items": null,
            "bottom": null,
            "_model_module": "@jupyter-widgets/base",
            "top": null,
            "grid_column": null,
            "overflow_y": null,
            "overflow_x": null,
            "grid_auto_flow": null,
            "grid_area": null,
            "grid_template_columns": null,
            "flex": null,
            "_model_name": "LayoutModel",
            "justify_items": null,
            "grid_row": null,
            "max_height": null,
            "align_content": null,
            "visibility": null,
            "align_self": null,
            "height": null,
            "min_height": null,
            "padding": null,
            "grid_auto_rows": null,
            "grid_gap": null,
            "max_width": null,
            "order": null,
            "_view_module_version": "1.2.0",
            "grid_template_areas": null,
            "object_position": null,
            "object_fit": null,
            "grid_auto_columns": null,
            "margin": null,
            "display": null,
            "left": null
          }
        },
        "8a3b1220460c408ca3f4fc7fb2dbe7a4": {
          "model_module": "@jupyter-widgets/controls",
          "model_name": "HBoxModel",
          "model_module_version": "1.5.0",
          "state": {
            "_view_name": "HBoxView",
            "_dom_classes": [],
            "_model_name": "HBoxModel",
            "_view_module": "@jupyter-widgets/controls",
            "_model_module_version": "1.5.0",
            "_view_count": null,
            "_view_module_version": "1.5.0",
            "box_style": "",
            "layout": "IPY_MODEL_7706d0e05eb348d5b3b08fe07d0637e5",
            "_model_module": "@jupyter-widgets/controls",
            "children": [
              "IPY_MODEL_b743575dc88e4a6e88572562eb930095",
              "IPY_MODEL_52e7327daa0e42418ad2dca98204b23c"
            ]
          }
        },
        "7706d0e05eb348d5b3b08fe07d0637e5": {
          "model_module": "@jupyter-widgets/base",
          "model_name": "LayoutModel",
          "model_module_version": "1.2.0",
          "state": {
            "_view_name": "LayoutView",
            "grid_template_rows": null,
            "right": null,
            "justify_content": null,
            "_view_module": "@jupyter-widgets/base",
            "overflow": null,
            "_model_module_version": "1.2.0",
            "_view_count": null,
            "flex_flow": null,
            "width": null,
            "min_width": null,
            "border": null,
            "align_items": null,
            "bottom": null,
            "_model_module": "@jupyter-widgets/base",
            "top": null,
            "grid_column": null,
            "overflow_y": null,
            "overflow_x": null,
            "grid_auto_flow": null,
            "grid_area": null,
            "grid_template_columns": null,
            "flex": null,
            "_model_name": "LayoutModel",
            "justify_items": null,
            "grid_row": null,
            "max_height": null,
            "align_content": null,
            "visibility": null,
            "align_self": null,
            "height": null,
            "min_height": null,
            "padding": null,
            "grid_auto_rows": null,
            "grid_gap": null,
            "max_width": null,
            "order": null,
            "_view_module_version": "1.2.0",
            "grid_template_areas": null,
            "object_position": null,
            "object_fit": null,
            "grid_auto_columns": null,
            "margin": null,
            "display": null,
            "left": null
          }
        },
        "b743575dc88e4a6e88572562eb930095": {
          "model_module": "@jupyter-widgets/controls",
          "model_name": "FloatProgressModel",
          "model_module_version": "1.5.0",
          "state": {
            "_view_name": "ProgressView",
            "style": "IPY_MODEL_709f51b3b76643e38252f26f969fce9e",
            "_dom_classes": [],
            "description": "Downloading: 100%",
            "_model_name": "FloatProgressModel",
            "bar_style": "success",
            "max": 456318,
            "_view_module": "@jupyter-widgets/controls",
            "_model_module_version": "1.5.0",
            "value": 456318,
            "_view_count": null,
            "_view_module_version": "1.5.0",
            "orientation": "horizontal",
            "min": 0,
            "description_tooltip": null,
            "_model_module": "@jupyter-widgets/controls",
            "layout": "IPY_MODEL_404ed71e51a34295bc21c69d2c00499a"
          }
        },
        "52e7327daa0e42418ad2dca98204b23c": {
          "model_module": "@jupyter-widgets/controls",
          "model_name": "HTMLModel",
          "model_module_version": "1.5.0",
          "state": {
            "_view_name": "HTMLView",
            "style": "IPY_MODEL_a1ea009917a3438f97c177bd98c2cdcc",
            "_dom_classes": [],
            "description": "",
            "_model_name": "HTMLModel",
            "placeholder": "​",
            "_view_module": "@jupyter-widgets/controls",
            "_model_module_version": "1.5.0",
            "value": " 456k/456k [00:00&lt;00:00, 1.13MB/s]",
            "_view_count": null,
            "_view_module_version": "1.5.0",
            "description_tooltip": null,
            "_model_module": "@jupyter-widgets/controls",
            "layout": "IPY_MODEL_b3d820a545924f6e84d8535f0758619b"
          }
        },
        "709f51b3b76643e38252f26f969fce9e": {
          "model_module": "@jupyter-widgets/controls",
          "model_name": "ProgressStyleModel",
          "model_module_version": "1.5.0",
          "state": {
            "_view_name": "StyleView",
            "_model_name": "ProgressStyleModel",
            "description_width": "initial",
            "_view_module": "@jupyter-widgets/base",
            "_model_module_version": "1.5.0",
            "_view_count": null,
            "_view_module_version": "1.2.0",
            "bar_color": null,
            "_model_module": "@jupyter-widgets/controls"
          }
        },
        "404ed71e51a34295bc21c69d2c00499a": {
          "model_module": "@jupyter-widgets/base",
          "model_name": "LayoutModel",
          "model_module_version": "1.2.0",
          "state": {
            "_view_name": "LayoutView",
            "grid_template_rows": null,
            "right": null,
            "justify_content": null,
            "_view_module": "@jupyter-widgets/base",
            "overflow": null,
            "_model_module_version": "1.2.0",
            "_view_count": null,
            "flex_flow": null,
            "width": null,
            "min_width": null,
            "border": null,
            "align_items": null,
            "bottom": null,
            "_model_module": "@jupyter-widgets/base",
            "top": null,
            "grid_column": null,
            "overflow_y": null,
            "overflow_x": null,
            "grid_auto_flow": null,
            "grid_area": null,
            "grid_template_columns": null,
            "flex": null,
            "_model_name": "LayoutModel",
            "justify_items": null,
            "grid_row": null,
            "max_height": null,
            "align_content": null,
            "visibility": null,
            "align_self": null,
            "height": null,
            "min_height": null,
            "padding": null,
            "grid_auto_rows": null,
            "grid_gap": null,
            "max_width": null,
            "order": null,
            "_view_module_version": "1.2.0",
            "grid_template_areas": null,
            "object_position": null,
            "object_fit": null,
            "grid_auto_columns": null,
            "margin": null,
            "display": null,
            "left": null
          }
        },
        "a1ea009917a3438f97c177bd98c2cdcc": {
          "model_module": "@jupyter-widgets/controls",
          "model_name": "DescriptionStyleModel",
          "model_module_version": "1.5.0",
          "state": {
            "_view_name": "StyleView",
            "_model_name": "DescriptionStyleModel",
            "description_width": "",
            "_view_module": "@jupyter-widgets/base",
            "_model_module_version": "1.5.0",
            "_view_count": null,
            "_view_module_version": "1.2.0",
            "_model_module": "@jupyter-widgets/controls"
          }
        },
        "b3d820a545924f6e84d8535f0758619b": {
          "model_module": "@jupyter-widgets/base",
          "model_name": "LayoutModel",
          "model_module_version": "1.2.0",
          "state": {
            "_view_name": "LayoutView",
            "grid_template_rows": null,
            "right": null,
            "justify_content": null,
            "_view_module": "@jupyter-widgets/base",
            "overflow": null,
            "_model_module_version": "1.2.0",
            "_view_count": null,
            "flex_flow": null,
            "width": null,
            "min_width": null,
            "border": null,
            "align_items": null,
            "bottom": null,
            "_model_module": "@jupyter-widgets/base",
            "top": null,
            "grid_column": null,
            "overflow_y": null,
            "overflow_x": null,
            "grid_auto_flow": null,
            "grid_area": null,
            "grid_template_columns": null,
            "flex": null,
            "_model_name": "LayoutModel",
            "justify_items": null,
            "grid_row": null,
            "max_height": null,
            "align_content": null,
            "visibility": null,
            "align_self": null,
            "height": null,
            "min_height": null,
            "padding": null,
            "grid_auto_rows": null,
            "grid_gap": null,
            "max_width": null,
            "order": null,
            "_view_module_version": "1.2.0",
            "grid_template_areas": null,
            "object_position": null,
            "object_fit": null,
            "grid_auto_columns": null,
            "margin": null,
            "display": null,
            "left": null
          }
        },
        "be4871b1b7a84223a34858daa288e3d6": {
          "model_module": "@jupyter-widgets/controls",
          "model_name": "HBoxModel",
          "model_module_version": "1.5.0",
          "state": {
            "_view_name": "HBoxView",
            "_dom_classes": [],
            "_model_name": "HBoxModel",
            "_view_module": "@jupyter-widgets/controls",
            "_model_module_version": "1.5.0",
            "_view_count": null,
            "_view_module_version": "1.5.0",
            "box_style": "",
            "layout": "IPY_MODEL_61376b957667460caed19b957aac8273",
            "_model_module": "@jupyter-widgets/controls",
            "children": [
              "IPY_MODEL_275402757df242e9b67c30f402e19aaa",
              "IPY_MODEL_319fc37a413b44898d97c2235ecd304b"
            ]
          }
        },
        "61376b957667460caed19b957aac8273": {
          "model_module": "@jupyter-widgets/base",
          "model_name": "LayoutModel",
          "model_module_version": "1.2.0",
          "state": {
            "_view_name": "LayoutView",
            "grid_template_rows": null,
            "right": null,
            "justify_content": null,
            "_view_module": "@jupyter-widgets/base",
            "overflow": null,
            "_model_module_version": "1.2.0",
            "_view_count": null,
            "flex_flow": null,
            "width": null,
            "min_width": null,
            "border": null,
            "align_items": null,
            "bottom": null,
            "_model_module": "@jupyter-widgets/base",
            "top": null,
            "grid_column": null,
            "overflow_y": null,
            "overflow_x": null,
            "grid_auto_flow": null,
            "grid_area": null,
            "grid_template_columns": null,
            "flex": null,
            "_model_name": "LayoutModel",
            "justify_items": null,
            "grid_row": null,
            "max_height": null,
            "align_content": null,
            "visibility": null,
            "align_self": null,
            "height": null,
            "min_height": null,
            "padding": null,
            "grid_auto_rows": null,
            "grid_gap": null,
            "max_width": null,
            "order": null,
            "_view_module_version": "1.2.0",
            "grid_template_areas": null,
            "object_position": null,
            "object_fit": null,
            "grid_auto_columns": null,
            "margin": null,
            "display": null,
            "left": null
          }
        },
        "275402757df242e9b67c30f402e19aaa": {
          "model_module": "@jupyter-widgets/controls",
          "model_name": "FloatProgressModel",
          "model_module_version": "1.5.0",
          "state": {
            "_view_name": "ProgressView",
            "style": "IPY_MODEL_6c342509e996496a90e15a6c108d5fe0",
            "_dom_classes": [],
            "description": "Downloading: 100%",
            "_model_name": "FloatProgressModel",
            "bar_style": "success",
            "max": 665,
            "_view_module": "@jupyter-widgets/controls",
            "_model_module_version": "1.5.0",
            "value": 665,
            "_view_count": null,
            "_view_module_version": "1.5.0",
            "orientation": "horizontal",
            "min": 0,
            "description_tooltip": null,
            "_model_module": "@jupyter-widgets/controls",
            "layout": "IPY_MODEL_9c559afe244c4570b13129a5a6d77f64"
          }
        },
        "319fc37a413b44898d97c2235ecd304b": {
          "model_module": "@jupyter-widgets/controls",
          "model_name": "HTMLModel",
          "model_module_version": "1.5.0",
          "state": {
            "_view_name": "HTMLView",
            "style": "IPY_MODEL_5177c95acc854ff1a3be681e9195df4b",
            "_dom_classes": [],
            "description": "",
            "_model_name": "HTMLModel",
            "placeholder": "​",
            "_view_module": "@jupyter-widgets/controls",
            "_model_module_version": "1.5.0",
            "value": " 665/665 [00:00&lt;00:00, 1.77kB/s]",
            "_view_count": null,
            "_view_module_version": "1.5.0",
            "description_tooltip": null,
            "_model_module": "@jupyter-widgets/controls",
            "layout": "IPY_MODEL_4f417618a4b14191912610b4b47101da"
          }
        },
        "6c342509e996496a90e15a6c108d5fe0": {
          "model_module": "@jupyter-widgets/controls",
          "model_name": "ProgressStyleModel",
          "model_module_version": "1.5.0",
          "state": {
            "_view_name": "StyleView",
            "_model_name": "ProgressStyleModel",
            "description_width": "initial",
            "_view_module": "@jupyter-widgets/base",
            "_model_module_version": "1.5.0",
            "_view_count": null,
            "_view_module_version": "1.2.0",
            "bar_color": null,
            "_model_module": "@jupyter-widgets/controls"
          }
        },
        "9c559afe244c4570b13129a5a6d77f64": {
          "model_module": "@jupyter-widgets/base",
          "model_name": "LayoutModel",
          "model_module_version": "1.2.0",
          "state": {
            "_view_name": "LayoutView",
            "grid_template_rows": null,
            "right": null,
            "justify_content": null,
            "_view_module": "@jupyter-widgets/base",
            "overflow": null,
            "_model_module_version": "1.2.0",
            "_view_count": null,
            "flex_flow": null,
            "width": null,
            "min_width": null,
            "border": null,
            "align_items": null,
            "bottom": null,
            "_model_module": "@jupyter-widgets/base",
            "top": null,
            "grid_column": null,
            "overflow_y": null,
            "overflow_x": null,
            "grid_auto_flow": null,
            "grid_area": null,
            "grid_template_columns": null,
            "flex": null,
            "_model_name": "LayoutModel",
            "justify_items": null,
            "grid_row": null,
            "max_height": null,
            "align_content": null,
            "visibility": null,
            "align_self": null,
            "height": null,
            "min_height": null,
            "padding": null,
            "grid_auto_rows": null,
            "grid_gap": null,
            "max_width": null,
            "order": null,
            "_view_module_version": "1.2.0",
            "grid_template_areas": null,
            "object_position": null,
            "object_fit": null,
            "grid_auto_columns": null,
            "margin": null,
            "display": null,
            "left": null
          }
        },
        "5177c95acc854ff1a3be681e9195df4b": {
          "model_module": "@jupyter-widgets/controls",
          "model_name": "DescriptionStyleModel",
          "model_module_version": "1.5.0",
          "state": {
            "_view_name": "StyleView",
            "_model_name": "DescriptionStyleModel",
            "description_width": "",
            "_view_module": "@jupyter-widgets/base",
            "_model_module_version": "1.5.0",
            "_view_count": null,
            "_view_module_version": "1.2.0",
            "_model_module": "@jupyter-widgets/controls"
          }
        },
        "4f417618a4b14191912610b4b47101da": {
          "model_module": "@jupyter-widgets/base",
          "model_name": "LayoutModel",
          "model_module_version": "1.2.0",
          "state": {
            "_view_name": "LayoutView",
            "grid_template_rows": null,
            "right": null,
            "justify_content": null,
            "_view_module": "@jupyter-widgets/base",
            "overflow": null,
            "_model_module_version": "1.2.0",
            "_view_count": null,
            "flex_flow": null,
            "width": null,
            "min_width": null,
            "border": null,
            "align_items": null,
            "bottom": null,
            "_model_module": "@jupyter-widgets/base",
            "top": null,
            "grid_column": null,
            "overflow_y": null,
            "overflow_x": null,
            "grid_auto_flow": null,
            "grid_area": null,
            "grid_template_columns": null,
            "flex": null,
            "_model_name": "LayoutModel",
            "justify_items": null,
            "grid_row": null,
            "max_height": null,
            "align_content": null,
            "visibility": null,
            "align_self": null,
            "height": null,
            "min_height": null,
            "padding": null,
            "grid_auto_rows": null,
            "grid_gap": null,
            "max_width": null,
            "order": null,
            "_view_module_version": "1.2.0",
            "grid_template_areas": null,
            "object_position": null,
            "object_fit": null,
            "grid_auto_columns": null,
            "margin": null,
            "display": null,
            "left": null
          }
        },
        "bfbd0fbbfc4c4ec7908733ded87a9bb8": {
          "model_module": "@jupyter-widgets/controls",
          "model_name": "HBoxModel",
          "model_module_version": "1.5.0",
          "state": {
            "_view_name": "HBoxView",
            "_dom_classes": [],
            "_model_name": "HBoxModel",
            "_view_module": "@jupyter-widgets/controls",
            "_model_module_version": "1.5.0",
            "_view_count": null,
            "_view_module_version": "1.5.0",
            "box_style": "",
            "layout": "IPY_MODEL_5ee919ce3db14bf8b84901e97566e773",
            "_model_module": "@jupyter-widgets/controls",
            "children": [
              "IPY_MODEL_ad2c2cff220848e283728d3baa26afe4",
              "IPY_MODEL_daae55583a974cb6bcb32eed232be827"
            ]
          }
        },
        "5ee919ce3db14bf8b84901e97566e773": {
          "model_module": "@jupyter-widgets/base",
          "model_name": "LayoutModel",
          "model_module_version": "1.2.0",
          "state": {
            "_view_name": "LayoutView",
            "grid_template_rows": null,
            "right": null,
            "justify_content": null,
            "_view_module": "@jupyter-widgets/base",
            "overflow": null,
            "_model_module_version": "1.2.0",
            "_view_count": null,
            "flex_flow": null,
            "width": null,
            "min_width": null,
            "border": null,
            "align_items": null,
            "bottom": null,
            "_model_module": "@jupyter-widgets/base",
            "top": null,
            "grid_column": null,
            "overflow_y": null,
            "overflow_x": null,
            "grid_auto_flow": null,
            "grid_area": null,
            "grid_template_columns": null,
            "flex": null,
            "_model_name": "LayoutModel",
            "justify_items": null,
            "grid_row": null,
            "max_height": null,
            "align_content": null,
            "visibility": null,
            "align_self": null,
            "height": null,
            "min_height": null,
            "padding": null,
            "grid_auto_rows": null,
            "grid_gap": null,
            "max_width": null,
            "order": null,
            "_view_module_version": "1.2.0",
            "grid_template_areas": null,
            "object_position": null,
            "object_fit": null,
            "grid_auto_columns": null,
            "margin": null,
            "display": null,
            "left": null
          }
        },
        "ad2c2cff220848e283728d3baa26afe4": {
          "model_module": "@jupyter-widgets/controls",
          "model_name": "FloatProgressModel",
          "model_module_version": "1.5.0",
          "state": {
            "_view_name": "ProgressView",
            "style": "IPY_MODEL_0174d17d830243598d4161950061513a",
            "_dom_classes": [],
            "description": "Downloading: 100%",
            "_model_name": "FloatProgressModel",
            "bar_style": "success",
            "max": 548118077,
            "_view_module": "@jupyter-widgets/controls",
            "_model_module_version": "1.5.0",
            "value": 548118077,
            "_view_count": null,
            "_view_module_version": "1.5.0",
            "orientation": "horizontal",
            "min": 0,
            "description_tooltip": null,
            "_model_module": "@jupyter-widgets/controls",
            "layout": "IPY_MODEL_7174dd2059df476994ec64190c07e90f"
          }
        },
        "daae55583a974cb6bcb32eed232be827": {
          "model_module": "@jupyter-widgets/controls",
          "model_name": "HTMLModel",
          "model_module_version": "1.5.0",
          "state": {
            "_view_name": "HTMLView",
            "style": "IPY_MODEL_a81e086f054f4898ad103f831a8154d1",
            "_dom_classes": [],
            "description": "",
            "_model_name": "HTMLModel",
            "placeholder": "​",
            "_view_module": "@jupyter-widgets/controls",
            "_model_module_version": "1.5.0",
            "value": " 548M/548M [04:38&lt;00:00, 1.97MB/s]",
            "_view_count": null,
            "_view_module_version": "1.5.0",
            "description_tooltip": null,
            "_model_module": "@jupyter-widgets/controls",
            "layout": "IPY_MODEL_109f4d1a614c4604a2f5bcc5ecba2f9b"
          }
        },
        "0174d17d830243598d4161950061513a": {
          "model_module": "@jupyter-widgets/controls",
          "model_name": "ProgressStyleModel",
          "model_module_version": "1.5.0",
          "state": {
            "_view_name": "StyleView",
            "_model_name": "ProgressStyleModel",
            "description_width": "initial",
            "_view_module": "@jupyter-widgets/base",
            "_model_module_version": "1.5.0",
            "_view_count": null,
            "_view_module_version": "1.2.0",
            "bar_color": null,
            "_model_module": "@jupyter-widgets/controls"
          }
        },
        "7174dd2059df476994ec64190c07e90f": {
          "model_module": "@jupyter-widgets/base",
          "model_name": "LayoutModel",
          "model_module_version": "1.2.0",
          "state": {
            "_view_name": "LayoutView",
            "grid_template_rows": null,
            "right": null,
            "justify_content": null,
            "_view_module": "@jupyter-widgets/base",
            "overflow": null,
            "_model_module_version": "1.2.0",
            "_view_count": null,
            "flex_flow": null,
            "width": null,
            "min_width": null,
            "border": null,
            "align_items": null,
            "bottom": null,
            "_model_module": "@jupyter-widgets/base",
            "top": null,
            "grid_column": null,
            "overflow_y": null,
            "overflow_x": null,
            "grid_auto_flow": null,
            "grid_area": null,
            "grid_template_columns": null,
            "flex": null,
            "_model_name": "LayoutModel",
            "justify_items": null,
            "grid_row": null,
            "max_height": null,
            "align_content": null,
            "visibility": null,
            "align_self": null,
            "height": null,
            "min_height": null,
            "padding": null,
            "grid_auto_rows": null,
            "grid_gap": null,
            "max_width": null,
            "order": null,
            "_view_module_version": "1.2.0",
            "grid_template_areas": null,
            "object_position": null,
            "object_fit": null,
            "grid_auto_columns": null,
            "margin": null,
            "display": null,
            "left": null
          }
        },
        "a81e086f054f4898ad103f831a8154d1": {
          "model_module": "@jupyter-widgets/controls",
          "model_name": "DescriptionStyleModel",
          "model_module_version": "1.5.0",
          "state": {
            "_view_name": "StyleView",
            "_model_name": "DescriptionStyleModel",
            "description_width": "",
            "_view_module": "@jupyter-widgets/base",
            "_model_module_version": "1.5.0",
            "_view_count": null,
            "_view_module_version": "1.2.0",
            "_model_module": "@jupyter-widgets/controls"
          }
        },
        "109f4d1a614c4604a2f5bcc5ecba2f9b": {
          "model_module": "@jupyter-widgets/base",
          "model_name": "LayoutModel",
          "model_module_version": "1.2.0",
          "state": {
            "_view_name": "LayoutView",
            "grid_template_rows": null,
            "right": null,
            "justify_content": null,
            "_view_module": "@jupyter-widgets/base",
            "overflow": null,
            "_model_module_version": "1.2.0",
            "_view_count": null,
            "flex_flow": null,
            "width": null,
            "min_width": null,
            "border": null,
            "align_items": null,
            "bottom": null,
            "_model_module": "@jupyter-widgets/base",
            "top": null,
            "grid_column": null,
            "overflow_y": null,
            "overflow_x": null,
            "grid_auto_flow": null,
            "grid_area": null,
            "grid_template_columns": null,
            "flex": null,
            "_model_name": "LayoutModel",
            "justify_items": null,
            "grid_row": null,
            "max_height": null,
            "align_content": null,
            "visibility": null,
            "align_self": null,
            "height": null,
            "min_height": null,
            "padding": null,
            "grid_auto_rows": null,
            "grid_gap": null,
            "max_width": null,
            "order": null,
            "_view_module_version": "1.2.0",
            "grid_template_areas": null,
            "object_position": null,
            "object_fit": null,
            "grid_auto_columns": null,
            "margin": null,
            "display": null,
            "left": null
          }
        }
      }
    }
  },
  "cells": [
    {
      "cell_type": "markdown",
      "metadata": {
        "id": "3gvpuJ8E2qKl"
      },
      "source": [
        "Import dependancies for news "
      ]
    },
    {
      "cell_type": "code",
      "metadata": {
        "colab": {
          "base_uri": "https://localhost:8080/"
        },
        "id": "Y0T00s2H2SGS",
        "outputId": "16b04e23-ad09-48c3-904e-a984718d3652"
      },
      "source": [
        "!pip install newspaper3k\n",
        "!pip install GoogleNews\n",
        "!pip install gnewsclient\n"
      ],
      "execution_count": null,
      "outputs": [
        {
          "output_type": "stream",
          "text": [
            "Collecting newspaper3k\n",
            "\u001b[?25l  Downloading https://files.pythonhosted.org/packages/d7/b9/51afecb35bb61b188a4b44868001de348a0e8134b4dfa00ffc191567c4b9/newspaper3k-0.2.8-py3-none-any.whl (211kB)\n",
            "\r\u001b[K     |█▌                              | 10kB 14.7MB/s eta 0:00:01\r\u001b[K     |███                             | 20kB 21.1MB/s eta 0:00:01\r\u001b[K     |████▋                           | 30kB 18.8MB/s eta 0:00:01\r\u001b[K     |██████▏                         | 40kB 16.1MB/s eta 0:00:01\r\u001b[K     |███████▊                        | 51kB 7.6MB/s eta 0:00:01\r\u001b[K     |█████████▎                      | 61kB 8.8MB/s eta 0:00:01\r\u001b[K     |██████████▉                     | 71kB 8.4MB/s eta 0:00:01\r\u001b[K     |████████████▍                   | 81kB 9.2MB/s eta 0:00:01\r\u001b[K     |██████████████                  | 92kB 10.0MB/s eta 0:00:01\r\u001b[K     |███████████████▌                | 102kB 7.9MB/s eta 0:00:01\r\u001b[K     |█████████████████               | 112kB 7.9MB/s eta 0:00:01\r\u001b[K     |██████████████████▋             | 122kB 7.9MB/s eta 0:00:01\r\u001b[K     |████████████████████▏           | 133kB 7.9MB/s eta 0:00:01\r\u001b[K     |█████████████████████▊          | 143kB 7.9MB/s eta 0:00:01\r\u001b[K     |███████████████████████▎        | 153kB 7.9MB/s eta 0:00:01\r\u001b[K     |████████████████████████▉       | 163kB 7.9MB/s eta 0:00:01\r\u001b[K     |██████████████████████████▍     | 174kB 7.9MB/s eta 0:00:01\r\u001b[K     |████████████████████████████    | 184kB 7.9MB/s eta 0:00:01\r\u001b[K     |█████████████████████████████▌  | 194kB 7.9MB/s eta 0:00:01\r\u001b[K     |███████████████████████████████ | 204kB 7.9MB/s eta 0:00:01\r\u001b[K     |████████████████████████████████| 215kB 7.9MB/s \n",
            "\u001b[?25hRequirement already satisfied: lxml>=3.6.0 in /usr/local/lib/python3.7/dist-packages (from newspaper3k) (4.2.6)\n",
            "Requirement already satisfied: requests>=2.10.0 in /usr/local/lib/python3.7/dist-packages (from newspaper3k) (2.23.0)\n",
            "Collecting tinysegmenter==0.3\n",
            "  Downloading https://files.pythonhosted.org/packages/17/82/86982e4b6d16e4febc79c2a1d68ee3b707e8a020c5d2bc4af8052d0f136a/tinysegmenter-0.3.tar.gz\n",
            "Collecting feedparser>=5.2.1\n",
            "\u001b[?25l  Downloading https://files.pythonhosted.org/packages/d8/b2/15bf6781a861bbc5dd801d467f26448fb322bfedcd30f2e62b148d104dfb/feedparser-6.0.8-py3-none-any.whl (81kB)\n",
            "\u001b[K     |████████████████████████████████| 81kB 6.3MB/s \n",
            "\u001b[?25hRequirement already satisfied: Pillow>=3.3.0 in /usr/local/lib/python3.7/dist-packages (from newspaper3k) (7.1.2)\n",
            "Requirement already satisfied: python-dateutil>=2.5.3 in /usr/local/lib/python3.7/dist-packages (from newspaper3k) (2.8.1)\n",
            "Requirement already satisfied: beautifulsoup4>=4.4.1 in /usr/local/lib/python3.7/dist-packages (from newspaper3k) (4.6.3)\n",
            "Collecting jieba3k>=0.35.1\n",
            "\u001b[?25l  Downloading https://files.pythonhosted.org/packages/a9/cb/2c8332bcdc14d33b0bedd18ae0a4981a069c3513e445120da3c3f23a8aaa/jieba3k-0.35.1.zip (7.4MB)\n",
            "\u001b[K     |████████████████████████████████| 7.4MB 11.2MB/s \n",
            "\u001b[?25hCollecting cssselect>=0.9.2\n",
            "  Downloading https://files.pythonhosted.org/packages/3b/d4/3b5c17f00cce85b9a1e6f91096e1cc8e8ede2e1be8e96b87ce1ed09e92c5/cssselect-1.1.0-py2.py3-none-any.whl\n",
            "Collecting feedfinder2>=0.0.4\n",
            "  Downloading https://files.pythonhosted.org/packages/35/82/1251fefec3bb4b03fd966c7e7f7a41c9fc2bb00d823a34c13f847fd61406/feedfinder2-0.0.4.tar.gz\n",
            "Requirement already satisfied: nltk>=3.2.1 in /usr/local/lib/python3.7/dist-packages (from newspaper3k) (3.2.5)\n",
            "Requirement already satisfied: PyYAML>=3.11 in /usr/local/lib/python3.7/dist-packages (from newspaper3k) (3.13)\n",
            "Collecting tldextract>=2.0.1\n",
            "\u001b[?25l  Downloading https://files.pythonhosted.org/packages/7e/62/b6acd3129c5615b9860e670df07fd55b76175b63e6b7f68282c7cad38e9e/tldextract-3.1.0-py2.py3-none-any.whl (87kB)\n",
            "\u001b[K     |████████████████████████████████| 92kB 9.3MB/s \n",
            "\u001b[?25hRequirement already satisfied: chardet<4,>=3.0.2 in /usr/local/lib/python3.7/dist-packages (from requests>=2.10.0->newspaper3k) (3.0.4)\n",
            "Requirement already satisfied: urllib3!=1.25.0,!=1.25.1,<1.26,>=1.21.1 in /usr/local/lib/python3.7/dist-packages (from requests>=2.10.0->newspaper3k) (1.24.3)\n",
            "Requirement already satisfied: idna<3,>=2.5 in /usr/local/lib/python3.7/dist-packages (from requests>=2.10.0->newspaper3k) (2.10)\n",
            "Requirement already satisfied: certifi>=2017.4.17 in /usr/local/lib/python3.7/dist-packages (from requests>=2.10.0->newspaper3k) (2021.5.30)\n",
            "Collecting sgmllib3k\n",
            "  Downloading https://files.pythonhosted.org/packages/9e/bd/3704a8c3e0942d711c1299ebf7b9091930adae6675d7c8f476a7ce48653c/sgmllib3k-1.0.0.tar.gz\n",
            "Requirement already satisfied: six>=1.5 in /usr/local/lib/python3.7/dist-packages (from python-dateutil>=2.5.3->newspaper3k) (1.15.0)\n",
            "Collecting requests-file>=1.4\n",
            "  Downloading https://files.pythonhosted.org/packages/77/86/cdb5e8eaed90796aa83a6d9f75cfbd37af553c47a291cd47bc410ef9bdb2/requests_file-1.5.1-py2.py3-none-any.whl\n",
            "Requirement already satisfied: filelock>=3.0.8 in /usr/local/lib/python3.7/dist-packages (from tldextract>=2.0.1->newspaper3k) (3.0.12)\n",
            "Building wheels for collected packages: tinysegmenter, jieba3k, feedfinder2, sgmllib3k\n",
            "  Building wheel for tinysegmenter (setup.py) ... \u001b[?25l\u001b[?25hdone\n",
            "  Created wheel for tinysegmenter: filename=tinysegmenter-0.3-cp37-none-any.whl size=13553 sha256=d95c721bb2a6cd94329ed0d3cdb2b7dff531556fa9086b71e11a3354a85fc82d\n",
            "  Stored in directory: /root/.cache/pip/wheels/81/2b/43/a02ede72324dd40cdd7ca53aad718c7710628e91b8b0dc0f02\n",
            "  Building wheel for jieba3k (setup.py) ... \u001b[?25l\u001b[?25hdone\n",
            "  Created wheel for jieba3k: filename=jieba3k-0.35.1-cp37-none-any.whl size=7398404 sha256=7665e11302d8f31b009293ca1d8e53d6b6fc5f87088db4f031494844d32be6df\n",
            "  Stored in directory: /root/.cache/pip/wheels/83/15/9c/a3f1f67e7f7181170ad37d32e503c35da20627c013f438ed34\n",
            "  Building wheel for feedfinder2 (setup.py) ... \u001b[?25l\u001b[?25hdone\n",
            "  Created wheel for feedfinder2: filename=feedfinder2-0.0.4-cp37-none-any.whl size=3358 sha256=465dd8553ad16dcc2669267e1c03cd07b92547e41505689a8c4968cbeaf53183\n",
            "  Stored in directory: /root/.cache/pip/wheels/de/03/ca/778e3a7a627e3d98836cc890e7cb40c7575424cfd3340f40ed\n",
            "  Building wheel for sgmllib3k (setup.py) ... \u001b[?25l\u001b[?25hdone\n",
            "  Created wheel for sgmllib3k: filename=sgmllib3k-1.0.0-cp37-none-any.whl size=6067 sha256=03b24d859fc39869138e83693027377d11b7d616675cb277ce295b01882a2c64\n",
            "  Stored in directory: /root/.cache/pip/wheels/f1/80/5a/444ba08a550cdd241bd9baf8bae44be750efe370adb944506a\n",
            "Successfully built tinysegmenter jieba3k feedfinder2 sgmllib3k\n",
            "Installing collected packages: tinysegmenter, sgmllib3k, feedparser, jieba3k, cssselect, feedfinder2, requests-file, tldextract, newspaper3k\n",
            "Successfully installed cssselect-1.1.0 feedfinder2-0.0.4 feedparser-6.0.8 jieba3k-0.35.1 newspaper3k-0.2.8 requests-file-1.5.1 sgmllib3k-1.0.0 tinysegmenter-0.3 tldextract-3.1.0\n",
            "Collecting GoogleNews\n",
            "  Downloading https://files.pythonhosted.org/packages/db/da/a18fdb6beaaa488f4f35cc69930c41617d1e2f1c7a987b2f638e16815651/GoogleNews-1.5.8-py3-none-any.whl\n",
            "Requirement already satisfied: python-dateutil in /usr/local/lib/python3.7/dist-packages (from GoogleNews) (2.8.1)\n",
            "Collecting dateparser\n",
            "\u001b[?25l  Downloading https://files.pythonhosted.org/packages/78/c4/b5ddc3eeac974d85055d88c1e6b62cc492fc1a93dbe3b66a45a756a7b807/dateparser-1.0.0-py2.py3-none-any.whl (279kB)\n",
            "\u001b[K     |████████████████████████████████| 286kB 11.6MB/s \n",
            "\u001b[?25hRequirement already satisfied: beautifulsoup4 in /usr/local/lib/python3.7/dist-packages (from GoogleNews) (4.6.3)\n",
            "Requirement already satisfied: six>=1.5 in /usr/local/lib/python3.7/dist-packages (from python-dateutil->GoogleNews) (1.15.0)\n",
            "Requirement already satisfied: tzlocal in /usr/local/lib/python3.7/dist-packages (from dateparser->GoogleNews) (1.5.1)\n",
            "Requirement already satisfied: regex!=2019.02.19 in /usr/local/lib/python3.7/dist-packages (from dateparser->GoogleNews) (2019.12.20)\n",
            "Requirement already satisfied: pytz in /usr/local/lib/python3.7/dist-packages (from dateparser->GoogleNews) (2018.9)\n",
            "Installing collected packages: dateparser, GoogleNews\n",
            "Successfully installed GoogleNews-1.5.8 dateparser-1.0.0\n",
            "Collecting gnewsclient\n",
            "  Downloading https://files.pythonhosted.org/packages/e6/44/01147dfc281d225b203387b6d7895d20247140929dda7b1d2e36fb2b3d58/gnewsclient-1.12-py3-none-any.whl\n",
            "Collecting fuzzywuzzy\n",
            "  Downloading https://files.pythonhosted.org/packages/43/ff/74f23998ad2f93b945c0309f825be92e04e0348e062026998b5eefef4c33/fuzzywuzzy-0.18.0-py2.py3-none-any.whl\n",
            "Requirement already satisfied: requests in /usr/local/lib/python3.7/dist-packages (from gnewsclient) (2.23.0)\n",
            "Requirement already satisfied: feedparser in /usr/local/lib/python3.7/dist-packages (from gnewsclient) (6.0.8)\n",
            "Requirement already satisfied: chardet<4,>=3.0.2 in /usr/local/lib/python3.7/dist-packages (from requests->gnewsclient) (3.0.4)\n",
            "Requirement already satisfied: certifi>=2017.4.17 in /usr/local/lib/python3.7/dist-packages (from requests->gnewsclient) (2021.5.30)\n",
            "Requirement already satisfied: idna<3,>=2.5 in /usr/local/lib/python3.7/dist-packages (from requests->gnewsclient) (2.10)\n",
            "Requirement already satisfied: urllib3!=1.25.0,!=1.25.1,<1.26,>=1.21.1 in /usr/local/lib/python3.7/dist-packages (from requests->gnewsclient) (1.24.3)\n",
            "Requirement already satisfied: sgmllib3k in /usr/local/lib/python3.7/dist-packages (from feedparser->gnewsclient) (1.0.0)\n",
            "Installing collected packages: fuzzywuzzy, gnewsclient\n",
            "Successfully installed fuzzywuzzy-0.18.0 gnewsclient-1.12\n"
          ],
          "name": "stdout"
        }
      ]
    },
    {
      "cell_type": "markdown",
      "metadata": {
        "id": "avHN9hM05oHK"
      },
      "source": [
        "**Extractive TEXT summarisation**\n",
        "\n",
        "It is the traditional method developed first. The main objective is to identify the significant sentences of the text and add them to the summary. You need to note that the summary obtained contains exact sentences from the original text.\n",
        "\n",
        "reference -> https://www.machinelearningplus.com/nlp/text-summarization-approaches-nlp-example/\n",
        "\n",
        "This is the unsupervised text summarisation process ,which can be implemented by using multiple algorithms . We will be working with below algorithms on test data and evaluating their ROUGUE SCORE AND BLEU SCORE \n",
        "\n",
        "**1) TextRank**\n",
        "**2) LexRank**\n",
        "**3) Latent Semantic Analysis**\n",
        "**4) Luhn**\n",
        "**5) KL-Sum**"
      ]
    },
    {
      "cell_type": "code",
      "metadata": {
        "colab": {
          "base_uri": "https://localhost:8080/"
        },
        "id": "ZyFcXSQt7IN3",
        "outputId": "a2907872-0759-4016-9a44-ca01c9fb340d"
      },
      "source": [
        "!pip install gensim"
      ],
      "execution_count": null,
      "outputs": [
        {
          "output_type": "stream",
          "text": [
            "Requirement already satisfied: gensim in /usr/local/lib/python3.7/dist-packages (3.6.0)\n",
            "Requirement already satisfied: numpy>=1.11.3 in /usr/local/lib/python3.7/dist-packages (from gensim) (1.19.5)\n",
            "Requirement already satisfied: scipy>=0.18.1 in /usr/local/lib/python3.7/dist-packages (from gensim) (1.4.1)\n",
            "Requirement already satisfied: six>=1.5.0 in /usr/local/lib/python3.7/dist-packages (from gensim) (1.15.0)\n",
            "Requirement already satisfied: smart-open>=1.2.1 in /usr/local/lib/python3.7/dist-packages (from gensim) (5.1.0)\n"
          ],
          "name": "stdout"
        }
      ]
    },
    {
      "cell_type": "code",
      "metadata": {
        "colab": {
          "base_uri": "https://localhost:8080/"
        },
        "id": "6lkDZRD3QaLI",
        "outputId": "35d7bd9b-4bbd-4a39-8abb-7737be5c4c18"
      },
      "source": [
        "##Sample article \n",
        "from newspaper import Article\n",
        "url =\"https://www.news18.com/news/politics/govt-admin-public-all-dropped-guard-after-first-covid-19-wave-rss-chief-mohan-bhagwat-3741659.html\"\n",
        "article=Article(url)\n",
        "article.download()\n",
        "article.parse()\n",
        "text=article.text\n",
        "print(article.text)\n"
      ],
      "execution_count": null,
      "outputs": [
        {
          "output_type": "stream",
          "text": [
            "After the first wave of COVID-19, the government, administration and public dropped their guard which led to the current situation, RSS chief Mohan Bhagwat said on Saturday and urged people to stay positive and proactive to fight the pandemic. Addressing a lecture series Positivity Unlimited’, Bhagwat said the country should stay united and work as a team in these testing times, instead of pointing fingers at each other.\n",
            "\n",
            "“We are facing this situation because, whether it was the government, administration or public, everyone dropped their guard after the first wave despite indications from doctors, he said. Bhagwat said there is talk of a third wave. But, we will not be scared. We shall stand like a rock.\n",
            "\n",
            "We have to stay positive and take precautions to keep ourselves COVID negative in the present situation, he said. The RSS chief said that this is not an appropriate time to point fingers and all should avoid making irrational remarks.\n",
            "\n",
            "Citing England’s situation in World War II when everything seemed going against it, Bhagwat said a quote was written on the then prime minister Winston Churchill’s desk which read, “There is no pessimism in this office. We are not interested in the possibilities of defeat. They don’t exist\". Similarly, he said, in this situation we can’t give up on courage. We need to also have steely resolve.\n",
            "\n",
            "Read all the Latest News, Breaking News and Coronavirus News here\n"
          ],
          "name": "stdout"
        }
      ]
    },
    {
      "cell_type": "code",
      "metadata": {
        "id": "GGTxiCxpP6MO"
      },
      "source": [
        "import gensim\n",
        "from gensim.summarization import summarize"
      ],
      "execution_count": null,
      "outputs": []
    },
    {
      "cell_type": "code",
      "metadata": {
        "colab": {
          "base_uri": "https://localhost:8080/"
        },
        "id": "zXDMS66-QA32",
        "outputId": "28a91d8e-1945-4589-e006-c36cadf71ae2"
      },
      "source": [
        "# Passing the text corpus to summarizer \n",
        "short_summary = summarize(text,word_count=50)\n",
        "print(short_summary)"
      ],
      "execution_count": null,
      "outputs": [
        {
          "output_type": "stream",
          "text": [
            "After the first wave of COVID-19, the government, administration and public dropped their guard which led to the current situation, RSS chief Mohan Bhagwat said on Saturday and urged people to stay positive and proactive to fight the pandemic.\n"
          ],
          "name": "stdout"
        }
      ]
    },
    {
      "cell_type": "markdown",
      "metadata": {
        "id": "qa4EEUiicZip"
      },
      "source": [
        "2**) LexRank**"
      ]
    },
    {
      "cell_type": "code",
      "metadata": {
        "colab": {
          "base_uri": "https://localhost:8080/"
        },
        "id": "DarQROjrclpV",
        "outputId": "bb0f7bbb-aabc-4a67-ef4a-64d7a4d51590"
      },
      "source": [
        "# Installing and Importing sumy\n",
        "!pip install sumy\n",
        "import sumy"
      ],
      "execution_count": null,
      "outputs": [
        {
          "output_type": "stream",
          "text": [
            "Collecting sumy\n",
            "\u001b[?25l  Downloading https://files.pythonhosted.org/packages/61/20/8abf92617ec80a2ebaec8dc1646a790fc9656a4a4377ddb9f0cc90bc9326/sumy-0.8.1-py2.py3-none-any.whl (83kB)\n",
            "\r\u001b[K     |████                            | 10kB 16.7MB/s eta 0:00:01\r\u001b[K     |███████▉                        | 20kB 23.6MB/s eta 0:00:01\r\u001b[K     |███████████▊                    | 30kB 22.1MB/s eta 0:00:01\r\u001b[K     |███████████████▋                | 40kB 18.0MB/s eta 0:00:01\r\u001b[K     |███████████████████▌            | 51kB 8.3MB/s eta 0:00:01\r\u001b[K     |███████████████████████▍        | 61kB 9.6MB/s eta 0:00:01\r\u001b[K     |███████████████████████████▍    | 71kB 9.2MB/s eta 0:00:01\r\u001b[K     |███████████████████████████████▎| 81kB 10.0MB/s eta 0:00:01\r\u001b[K     |████████████████████████████████| 92kB 5.8MB/s \n",
            "\u001b[?25hRequirement already satisfied: docopt<0.7,>=0.6.1 in /usr/local/lib/python3.7/dist-packages (from sumy) (0.6.2)\n",
            "Requirement already satisfied: nltk>=3.0.2 in /usr/local/lib/python3.7/dist-packages (from sumy) (3.2.5)\n",
            "Collecting breadability>=0.1.20\n",
            "  Downloading https://files.pythonhosted.org/packages/ad/2d/bb6c9b381e6b6a432aa2ffa8f4afdb2204f1ff97cfcc0766a5b7683fec43/breadability-0.1.20.tar.gz\n",
            "Collecting pycountry>=18.2.23\n",
            "\u001b[?25l  Downloading https://files.pythonhosted.org/packages/76/73/6f1a412f14f68c273feea29a6ea9b9f1e268177d32e0e69ad6790d306312/pycountry-20.7.3.tar.gz (10.1MB)\n",
            "\u001b[K     |████████████████████████████████| 10.1MB 28.3MB/s \n",
            "\u001b[?25hRequirement already satisfied: requests>=2.7.0 in /usr/local/lib/python3.7/dist-packages (from sumy) (2.23.0)\n",
            "Requirement already satisfied: six in /usr/local/lib/python3.7/dist-packages (from nltk>=3.0.2->sumy) (1.15.0)\n",
            "Requirement already satisfied: chardet in /usr/local/lib/python3.7/dist-packages (from breadability>=0.1.20->sumy) (3.0.4)\n",
            "Requirement already satisfied: lxml>=2.0 in /usr/local/lib/python3.7/dist-packages (from breadability>=0.1.20->sumy) (4.2.6)\n",
            "Requirement already satisfied: certifi>=2017.4.17 in /usr/local/lib/python3.7/dist-packages (from requests>=2.7.0->sumy) (2021.5.30)\n",
            "Requirement already satisfied: idna<3,>=2.5 in /usr/local/lib/python3.7/dist-packages (from requests>=2.7.0->sumy) (2.10)\n",
            "Requirement already satisfied: urllib3!=1.25.0,!=1.25.1,<1.26,>=1.21.1 in /usr/local/lib/python3.7/dist-packages (from requests>=2.7.0->sumy) (1.24.3)\n",
            "Building wheels for collected packages: breadability, pycountry\n",
            "  Building wheel for breadability (setup.py) ... \u001b[?25l\u001b[?25hdone\n",
            "  Created wheel for breadability: filename=breadability-0.1.20-py2.py3-none-any.whl size=21711 sha256=89eb23c17e5fac161f751d39a2c293f4ed9ee0611e29cc7943b9755f274db2a1\n",
            "  Stored in directory: /root/.cache/pip/wheels/5a/4d/a1/510b12c5e65e0b2b3ce539b2af66da0fc57571e528924f4a52\n",
            "  Building wheel for pycountry (setup.py) ... \u001b[?25l\u001b[?25hdone\n",
            "  Created wheel for pycountry: filename=pycountry-20.7.3-py2.py3-none-any.whl size=10746883 sha256=e78e57112faa493442675161035808b1d85b622363d19c5f0f23425df0ca2698\n",
            "  Stored in directory: /root/.cache/pip/wheels/33/4e/a6/be297e6b83567e537bed9df4a93f8590ec01c1acfbcd405348\n",
            "Successfully built breadability pycountry\n",
            "Installing collected packages: breadability, pycountry, sumy\n",
            "Successfully installed breadability-0.1.20 pycountry-20.7.3 sumy-0.8.1\n"
          ],
          "name": "stdout"
        }
      ]
    },
    {
      "cell_type": "code",
      "metadata": {
        "id": "FQJQ5-xWcuzd"
      },
      "source": [
        "# Importing the parser and tokenizer\n",
        "from sumy.parsers.plaintext import PlaintextParser\n",
        "from sumy.nlp.tokenizers import Tokenizer"
      ],
      "execution_count": null,
      "outputs": []
    },
    {
      "cell_type": "code",
      "metadata": {
        "colab": {
          "base_uri": "https://localhost:8080/"
        },
        "id": "80UDbj_5cy-v",
        "outputId": "00faa494-6fd5-4c74-fa45-4e91f4ac4184"
      },
      "source": [
        "# Import the LexRank summarizer\n",
        "from sumy.summarizers.lex_rank import LexRankSummarizer\n",
        "import nltk\n",
        "nltk.download('punkt')"
      ],
      "execution_count": null,
      "outputs": [
        {
          "output_type": "stream",
          "text": [
            "[nltk_data] Downloading package punkt to /root/nltk_data...\n",
            "[nltk_data]   Unzipping tokenizers/punkt.zip.\n"
          ],
          "name": "stdout"
        },
        {
          "output_type": "execute_result",
          "data": {
            "text/plain": [
              "True"
            ]
          },
          "metadata": {
            "tags": []
          },
          "execution_count": 8
        }
      ]
    },
    {
      "cell_type": "code",
      "metadata": {
        "id": "gDRQSecVc3xt"
      },
      "source": [
        "# Initializing the parser\n",
        "my_parser = PlaintextParser.from_string(text,Tokenizer('english'))"
      ],
      "execution_count": null,
      "outputs": []
    },
    {
      "cell_type": "code",
      "metadata": {
        "colab": {
          "base_uri": "https://localhost:8080/"
        },
        "id": "nxrkXn3jdNjP",
        "outputId": "aaa76608-587e-4e22-b820-9c0ff8f6c6f3"
      },
      "source": [
        "# Creating a summary of 3 sentences.\n",
        "lex_rank_summarizer = LexRankSummarizer()\n",
        "\n",
        "lexrank_summary = lex_rank_summarizer(my_parser.document,sentences_count=3)\n",
        "\n",
        "# Printing the summary\n",
        "for sentence in lexrank_summary:\n",
        "  print(sentence)"
      ],
      "execution_count": null,
      "outputs": [
        {
          "output_type": "stream",
          "text": [
            "After the first wave of COVID-19, the government, administration and public dropped their guard which led to the current situation, RSS chief Mohan Bhagwat said on Saturday and urged people to stay positive and proactive to fight the pandemic.\n",
            "Bhagwat said there is talk of a third wave.\n",
            "We have to stay positive and take precautions to keep ourselves COVID negative in the present situation, he said.\n"
          ],
          "name": "stdout"
        }
      ]
    },
    {
      "cell_type": "markdown",
      "metadata": {
        "id": "b5c7Rql3dbjt"
      },
      "source": [
        "3) **LSA summariser**"
      ]
    },
    {
      "cell_type": "code",
      "metadata": {
        "id": "uckR9xqndg9O"
      },
      "source": [
        "from sumy.summarizers.lsa import LsaSummarizer"
      ],
      "execution_count": null,
      "outputs": []
    },
    {
      "cell_type": "code",
      "metadata": {
        "id": "svMzmqQddqWd"
      },
      "source": [
        "# Parsing the text string using PlaintextParser\n",
        "from sumy.nlp.tokenizers import Tokenizer\n",
        "from sumy.parsers.plaintext import PlaintextParser\n",
        "parser=PlaintextParser.from_string(text,Tokenizer('english'))"
      ],
      "execution_count": null,
      "outputs": []
    },
    {
      "cell_type": "code",
      "metadata": {
        "colab": {
          "base_uri": "https://localhost:8080/"
        },
        "id": "VPChTkBDdxyP",
        "outputId": "f3bb473f-9c4f-43a3-cf72-ac762a0f8c86"
      },
      "source": [
        "# creating the summarizer\n",
        "lsa_summarizer=LsaSummarizer()\n",
        "lsa_summary= lsa_summarizer(parser.document,3)\n",
        "\n",
        "# Printing the summary\n",
        "for sentence in lsa_summary:\n",
        "    print(sentence)"
      ],
      "execution_count": null,
      "outputs": [
        {
          "output_type": "stream",
          "text": [
            "The RSS chief said that this is not an appropriate time to point fingers and all should avoid making irrational remarks.\n",
            "Citing England’s situation in World War II when everything seemed going against it, Bhagwat said a quote was written on the then prime minister Winston Churchill’s desk which read, “There is no pessimism in this office.\n",
            "Similarly, he said, in this situation we can’t give up on courage.\n"
          ],
          "name": "stdout"
        }
      ]
    },
    {
      "cell_type": "markdown",
      "metadata": {
        "id": "1uIr5mFee3TK"
      },
      "source": [
        "**LUHN Summariser**"
      ]
    },
    {
      "cell_type": "code",
      "metadata": {
        "id": "HLf4YLN8e8KY"
      },
      "source": [
        "# Import the summarizer\n",
        "from sumy.summarizers.luhn import LuhnSummarizer"
      ],
      "execution_count": null,
      "outputs": []
    },
    {
      "cell_type": "code",
      "metadata": {
        "id": "Gg0M9I_YfDOK"
      },
      "source": [
        "# Creating the parser\n",
        "from sumy.nlp.tokenizers import Tokenizer\n",
        "from sumy.parsers.plaintext import PlaintextParser\n",
        "parser=PlaintextParser.from_string(text,Tokenizer('english'))"
      ],
      "execution_count": null,
      "outputs": []
    },
    {
      "cell_type": "code",
      "metadata": {
        "colab": {
          "base_uri": "https://localhost:8080/"
        },
        "id": "7TH7t0YXfKuw",
        "outputId": "8fa4b54b-4b61-404d-db1d-9d2e99dfe71a"
      },
      "source": [
        "#  Creating the summarizer\n",
        "luhn_summarizer=LuhnSummarizer()\n",
        "luhn_summary=luhn_summarizer(parser.document,sentences_count=3)\n",
        "\n",
        "# Printing the summary\n",
        "for sentence in luhn_summary:\n",
        "  print(sentence)"
      ],
      "execution_count": null,
      "outputs": [
        {
          "output_type": "stream",
          "text": [
            "After the first wave of COVID-19, the government, administration and public dropped their guard which led to the current situation, RSS chief Mohan Bhagwat said on Saturday and urged people to stay positive and proactive to fight the pandemic.\n",
            "“We are facing this situation because, whether it was the government, administration or public, everyone dropped their guard after the first wave despite indications from doctors, he said.\n",
            "The RSS chief said that this is not an appropriate time to point fingers and all should avoid making irrational remarks.\n"
          ],
          "name": "stdout"
        }
      ]
    },
    {
      "cell_type": "markdown",
      "metadata": {
        "id": "TC-tdieDfXw-"
      },
      "source": [
        "**5 KL Sum Summariser**"
      ]
    },
    {
      "cell_type": "code",
      "metadata": {
        "id": "hb4SKn7HfcJh"
      },
      "source": [
        "from sumy.summarizers.kl import KLSummarizer"
      ],
      "execution_count": null,
      "outputs": []
    },
    {
      "cell_type": "code",
      "metadata": {
        "id": "3wYB3-8IfgQ_"
      },
      "source": [
        "# Creating the parser\n",
        "from sumy.nlp.tokenizers import Tokenizer\n",
        "from sumy.parsers.plaintext import PlaintextParser\n",
        "parser=PlaintextParser.from_string(text,Tokenizer('english'))"
      ],
      "execution_count": null,
      "outputs": []
    },
    {
      "cell_type": "code",
      "metadata": {
        "colab": {
          "base_uri": "https://localhost:8080/"
        },
        "id": "p49JKBHPfl9F",
        "outputId": "ba24034e-59b2-48e8-e9c7-047726fcbe32"
      },
      "source": [
        "# Instantiating the  KLSummarizer\n",
        "kl_summarizer=KLSummarizer()\n",
        "kl_summary=kl_summarizer(parser.document,sentences_count=3)\n",
        "\n",
        "# Printing the summary\n",
        "for sentence in kl_summary:\n",
        "    print(sentence)"
      ],
      "execution_count": null,
      "outputs": [
        {
          "output_type": "stream",
          "text": [
            "After the first wave of COVID-19, the government, administration and public dropped their guard which led to the current situation, RSS chief Mohan Bhagwat said on Saturday and urged people to stay positive and proactive to fight the pandemic.\n",
            "Bhagwat said there is talk of a third wave.\n",
            "They don’t exist\".\n"
          ],
          "name": "stdout"
        }
      ]
    },
    {
      "cell_type": "markdown",
      "metadata": {
        "id": "MaV9-Ck-fvvu"
      },
      "source": [
        "**Abstractive Text Summarisation**\n",
        "\n",
        "Exploring via huggingface transformers library , it contains various trained models that can be useful in analysis of optimum text summarisation algorithm that can be used .\n",
        "HuggingFace supports state of the art models to implement tasks such as summarization, classification, etc.. Some common models are GPT-2, GPT-3, BERT , OpenAI, GPT, T5."
      ]
    },
    {
      "cell_type": "code",
      "metadata": {
        "colab": {
          "base_uri": "https://localhost:8080/"
        },
        "id": "wmX8TRaHgb-U",
        "outputId": "9e9178c8-6434-45d5-85b7-1aa56493cd6a"
      },
      "source": [
        "!pip install transformers==2.9.0 \n",
        "!pip install pytorch_lightning==0.7.5"
      ],
      "execution_count": null,
      "outputs": [
        {
          "output_type": "stream",
          "text": [
            "Collecting transformers==2.9.0\n",
            "\u001b[?25l  Downloading https://files.pythonhosted.org/packages/cd/38/c9527aa055241c66c4d785381eaf6f80a28c224cae97daa1f8b183b5fabb/transformers-2.9.0-py3-none-any.whl (635kB)\n",
            "\u001b[K     |████████████████████████████████| 645kB 8.3MB/s \n",
            "\u001b[?25hRequirement already satisfied: tqdm>=4.27 in /usr/local/lib/python3.7/dist-packages (from transformers==2.9.0) (4.41.1)\n",
            "Requirement already satisfied: filelock in /usr/local/lib/python3.7/dist-packages (from transformers==2.9.0) (3.0.12)\n",
            "Requirement already satisfied: requests in /usr/local/lib/python3.7/dist-packages (from transformers==2.9.0) (2.23.0)\n",
            "Collecting sacremoses\n",
            "\u001b[?25l  Downloading https://files.pythonhosted.org/packages/75/ee/67241dc87f266093c533a2d4d3d69438e57d7a90abb216fa076e7d475d4a/sacremoses-0.0.45-py3-none-any.whl (895kB)\n",
            "\u001b[K     |████████████████████████████████| 901kB 17.0MB/s \n",
            "\u001b[?25hCollecting tokenizers==0.7.0\n",
            "\u001b[?25l  Downloading https://files.pythonhosted.org/packages/ea/59/bb06dd5ca53547d523422d32735585493e0103c992a52a97ba3aa3be33bf/tokenizers-0.7.0-cp37-cp37m-manylinux1_x86_64.whl (5.6MB)\n",
            "\u001b[K     |████████████████████████████████| 5.6MB 35.3MB/s \n",
            "\u001b[?25hCollecting sentencepiece\n",
            "\u001b[?25l  Downloading https://files.pythonhosted.org/packages/ac/aa/1437691b0c7c83086ebb79ce2da16e00bef024f24fec2a5161c35476f499/sentencepiece-0.1.96-cp37-cp37m-manylinux_2_17_x86_64.manylinux2014_x86_64.whl (1.2MB)\n",
            "\u001b[K     |████████████████████████████████| 1.2MB 32.3MB/s \n",
            "\u001b[?25hRequirement already satisfied: regex!=2019.12.17 in /usr/local/lib/python3.7/dist-packages (from transformers==2.9.0) (2019.12.20)\n",
            "Requirement already satisfied: numpy in /usr/local/lib/python3.7/dist-packages (from transformers==2.9.0) (1.19.5)\n",
            "Requirement already satisfied: urllib3!=1.25.0,!=1.25.1,<1.26,>=1.21.1 in /usr/local/lib/python3.7/dist-packages (from requests->transformers==2.9.0) (1.24.3)\n",
            "Requirement already satisfied: idna<3,>=2.5 in /usr/local/lib/python3.7/dist-packages (from requests->transformers==2.9.0) (2.10)\n",
            "Requirement already satisfied: chardet<4,>=3.0.2 in /usr/local/lib/python3.7/dist-packages (from requests->transformers==2.9.0) (3.0.4)\n",
            "Requirement already satisfied: certifi>=2017.4.17 in /usr/local/lib/python3.7/dist-packages (from requests->transformers==2.9.0) (2021.5.30)\n",
            "Requirement already satisfied: joblib in /usr/local/lib/python3.7/dist-packages (from sacremoses->transformers==2.9.0) (1.0.1)\n",
            "Requirement already satisfied: six in /usr/local/lib/python3.7/dist-packages (from sacremoses->transformers==2.9.0) (1.15.0)\n",
            "Requirement already satisfied: click in /usr/local/lib/python3.7/dist-packages (from sacremoses->transformers==2.9.0) (7.1.2)\n",
            "Installing collected packages: sacremoses, tokenizers, sentencepiece, transformers\n",
            "Successfully installed sacremoses-0.0.45 sentencepiece-0.1.96 tokenizers-0.7.0 transformers-2.9.0\n",
            "Collecting pytorch_lightning==0.7.5\n",
            "\u001b[?25l  Downloading https://files.pythonhosted.org/packages/75/ac/ac03f1f3fa950d96ca52f07d33fdbf5add05f164c1ac4eae179231dfa93d/pytorch_lightning-0.7.5-py3-none-any.whl (233kB)\n",
            "\u001b[K     |████████████████████████████████| 235kB 8.5MB/s \n",
            "\u001b[?25hRequirement already satisfied: tqdm>=4.41.0 in /usr/local/lib/python3.7/dist-packages (from pytorch_lightning==0.7.5) (4.41.1)\n",
            "Requirement already satisfied: tensorboard>=1.14 in /usr/local/lib/python3.7/dist-packages (from pytorch_lightning==0.7.5) (2.5.0)\n",
            "Collecting future>=0.17.1\n",
            "\u001b[?25l  Downloading https://files.pythonhosted.org/packages/45/0b/38b06fd9b92dc2b68d58b75f900e97884c45bedd2ff83203d933cf5851c9/future-0.18.2.tar.gz (829kB)\n",
            "\u001b[K     |████████████████████████████████| 829kB 39.0MB/s \n",
            "\u001b[?25hRequirement already satisfied: numpy>=1.16.4 in /usr/local/lib/python3.7/dist-packages (from pytorch_lightning==0.7.5) (1.19.5)\n",
            "Requirement already satisfied: torch>=1.1 in /usr/local/lib/python3.7/dist-packages (from pytorch_lightning==0.7.5) (1.9.0+cu102)\n",
            "Requirement already satisfied: requests<3,>=2.21.0 in /usr/local/lib/python3.7/dist-packages (from tensorboard>=1.14->pytorch_lightning==0.7.5) (2.23.0)\n",
            "Requirement already satisfied: markdown>=2.6.8 in /usr/local/lib/python3.7/dist-packages (from tensorboard>=1.14->pytorch_lightning==0.7.5) (3.3.4)\n",
            "Requirement already satisfied: setuptools>=41.0.0 in /usr/local/lib/python3.7/dist-packages (from tensorboard>=1.14->pytorch_lightning==0.7.5) (57.0.0)\n",
            "Requirement already satisfied: wheel>=0.26; python_version >= \"3\" in /usr/local/lib/python3.7/dist-packages (from tensorboard>=1.14->pytorch_lightning==0.7.5) (0.36.2)\n",
            "Requirement already satisfied: protobuf>=3.6.0 in /usr/local/lib/python3.7/dist-packages (from tensorboard>=1.14->pytorch_lightning==0.7.5) (3.12.4)\n",
            "Requirement already satisfied: absl-py>=0.4 in /usr/local/lib/python3.7/dist-packages (from tensorboard>=1.14->pytorch_lightning==0.7.5) (0.12.0)\n",
            "Requirement already satisfied: google-auth<2,>=1.6.3 in /usr/local/lib/python3.7/dist-packages (from tensorboard>=1.14->pytorch_lightning==0.7.5) (1.31.0)\n",
            "Requirement already satisfied: tensorboard-data-server<0.7.0,>=0.6.0 in /usr/local/lib/python3.7/dist-packages (from tensorboard>=1.14->pytorch_lightning==0.7.5) (0.6.1)\n",
            "Requirement already satisfied: grpcio>=1.24.3 in /usr/local/lib/python3.7/dist-packages (from tensorboard>=1.14->pytorch_lightning==0.7.5) (1.34.1)\n",
            "Requirement already satisfied: werkzeug>=0.11.15 in /usr/local/lib/python3.7/dist-packages (from tensorboard>=1.14->pytorch_lightning==0.7.5) (1.0.1)\n",
            "Requirement already satisfied: tensorboard-plugin-wit>=1.6.0 in /usr/local/lib/python3.7/dist-packages (from tensorboard>=1.14->pytorch_lightning==0.7.5) (1.8.0)\n",
            "Requirement already satisfied: google-auth-oauthlib<0.5,>=0.4.1 in /usr/local/lib/python3.7/dist-packages (from tensorboard>=1.14->pytorch_lightning==0.7.5) (0.4.4)\n",
            "Requirement already satisfied: typing-extensions in /usr/local/lib/python3.7/dist-packages (from torch>=1.1->pytorch_lightning==0.7.5) (3.7.4.3)\n",
            "Requirement already satisfied: certifi>=2017.4.17 in /usr/local/lib/python3.7/dist-packages (from requests<3,>=2.21.0->tensorboard>=1.14->pytorch_lightning==0.7.5) (2021.5.30)\n",
            "Requirement already satisfied: idna<3,>=2.5 in /usr/local/lib/python3.7/dist-packages (from requests<3,>=2.21.0->tensorboard>=1.14->pytorch_lightning==0.7.5) (2.10)\n",
            "Requirement already satisfied: urllib3!=1.25.0,!=1.25.1,<1.26,>=1.21.1 in /usr/local/lib/python3.7/dist-packages (from requests<3,>=2.21.0->tensorboard>=1.14->pytorch_lightning==0.7.5) (1.24.3)\n",
            "Requirement already satisfied: chardet<4,>=3.0.2 in /usr/local/lib/python3.7/dist-packages (from requests<3,>=2.21.0->tensorboard>=1.14->pytorch_lightning==0.7.5) (3.0.4)\n",
            "Requirement already satisfied: importlib-metadata; python_version < \"3.8\" in /usr/local/lib/python3.7/dist-packages (from markdown>=2.6.8->tensorboard>=1.14->pytorch_lightning==0.7.5) (4.5.0)\n",
            "Requirement already satisfied: six>=1.9 in /usr/local/lib/python3.7/dist-packages (from protobuf>=3.6.0->tensorboard>=1.14->pytorch_lightning==0.7.5) (1.15.0)\n",
            "Requirement already satisfied: rsa<5,>=3.1.4; python_version >= \"3.6\" in /usr/local/lib/python3.7/dist-packages (from google-auth<2,>=1.6.3->tensorboard>=1.14->pytorch_lightning==0.7.5) (4.7.2)\n",
            "Requirement already satisfied: pyasn1-modules>=0.2.1 in /usr/local/lib/python3.7/dist-packages (from google-auth<2,>=1.6.3->tensorboard>=1.14->pytorch_lightning==0.7.5) (0.2.8)\n",
            "Requirement already satisfied: cachetools<5.0,>=2.0.0 in /usr/local/lib/python3.7/dist-packages (from google-auth<2,>=1.6.3->tensorboard>=1.14->pytorch_lightning==0.7.5) (4.2.2)\n",
            "Requirement already satisfied: requests-oauthlib>=0.7.0 in /usr/local/lib/python3.7/dist-packages (from google-auth-oauthlib<0.5,>=0.4.1->tensorboard>=1.14->pytorch_lightning==0.7.5) (1.3.0)\n",
            "Requirement already satisfied: zipp>=0.5 in /usr/local/lib/python3.7/dist-packages (from importlib-metadata; python_version < \"3.8\"->markdown>=2.6.8->tensorboard>=1.14->pytorch_lightning==0.7.5) (3.4.1)\n",
            "Requirement already satisfied: pyasn1>=0.1.3 in /usr/local/lib/python3.7/dist-packages (from rsa<5,>=3.1.4; python_version >= \"3.6\"->google-auth<2,>=1.6.3->tensorboard>=1.14->pytorch_lightning==0.7.5) (0.4.8)\n",
            "Requirement already satisfied: oauthlib>=3.0.0 in /usr/local/lib/python3.7/dist-packages (from requests-oauthlib>=0.7.0->google-auth-oauthlib<0.5,>=0.4.1->tensorboard>=1.14->pytorch_lightning==0.7.5) (3.1.1)\n",
            "Building wheels for collected packages: future\n",
            "  Building wheel for future (setup.py) ... \u001b[?25l\u001b[?25hdone\n",
            "  Created wheel for future: filename=future-0.18.2-cp37-none-any.whl size=491070 sha256=b802fce4b4bf79bb17962b1db22116bcdeb75d41532b0c681988589db29e3013\n",
            "  Stored in directory: /root/.cache/pip/wheels/8b/99/a0/81daf51dcd359a9377b110a8a886b3895921802d2fc1b2397e\n",
            "Successfully built future\n",
            "Installing collected packages: future, pytorch-lightning\n",
            "  Found existing installation: future 0.16.0\n",
            "    Uninstalling future-0.16.0:\n",
            "      Successfully uninstalled future-0.16.0\n",
            "Successfully installed future-0.18.2 pytorch-lightning-0.7.5\n"
          ],
          "name": "stdout"
        }
      ]
    },
    {
      "cell_type": "code",
      "metadata": {
        "id": "w1FEHvjxgqWh"
      },
      "source": [
        "# Importing requirements\n",
        "from transformers import T5Tokenizer, T5Config, T5ForConditionalGeneration"
      ],
      "execution_count": null,
      "outputs": []
    },
    {
      "cell_type": "code",
      "metadata": {
        "colab": {
          "base_uri": "https://localhost:8080/",
          "height": 164,
          "referenced_widgets": [
            "04bf32ee7ec84073a7ca64118110ed4b",
            "6b208ab0981c4b4696d15fc5102c8c13",
            "7317910ea4994896a75944b06fa4533c",
            "b3b3b4563f034fde93d7725d338a46c9",
            "72616b24fdaa42fab923a61153e5cd5c",
            "2f4f215c109c4b6a9e561c2203ca61a4",
            "d0f771d081504a10897e74785860f151",
            "2da7cda6c02848bb8e45796fd15a52ac",
            "5f39a25691e7498bbb95323890ab7cdd",
            "74b0dfdaac8e4540b9e9386ecd5c5ee9",
            "2473097a46ed4e499573547e32f77fc7",
            "2cb4dbe25f734a12a98c66bf6831c656",
            "cf25b88319e74d93b9e42c245be176c9",
            "af4c9e888f9b42c69e4e785df57b6212",
            "40d91778995f4f00a42808c5b7e97dc1",
            "34f5b8c619cd4b28895bd4cfd1f7d8fa",
            "1a9ced999b4542419d20ccc9eb8c670c",
            "1723b1087967458ba612b36b93d241a2",
            "d5a1ad6e1ff247ad9c54b0056f8de00b",
            "bb1a74fa2ec04c89be9db9aae06e8cf6",
            "956aabb54bea494f83858c217901c49a",
            "5fbb40fe0cab433798e78c58fff70664",
            "1ee06dfccf884aea8a2830bc690be1dc",
            "e96cf06dc0a94cb1931acdac59c82637"
          ]
        },
        "id": "Aa49Sca5gVzk",
        "outputId": "ec172989-83c6-4a19-a92c-5b20ed1c224e"
      },
      "source": [
        "# Instantiating the model and tokenizer \n",
        "my_model = T5ForConditionalGeneration.from_pretrained('t5-small')\n",
        "#my_model.prepare_inputs_for_generation\n",
        "#print(str(my_model))\n",
        "tokenizer = T5Tokenizer.from_pretrained('t5-small')\n",
        "#print(str(tokenizer))"
      ],
      "execution_count": null,
      "outputs": [
        {
          "output_type": "display_data",
          "data": {
            "application/vnd.jupyter.widget-view+json": {
              "model_id": "04bf32ee7ec84073a7ca64118110ed4b",
              "version_minor": 0,
              "version_major": 2
            },
            "text/plain": [
              "HBox(children=(FloatProgress(value=0.0, description='Downloading', max=1197.0, style=ProgressStyle(description…"
            ]
          },
          "metadata": {
            "tags": []
          }
        },
        {
          "output_type": "stream",
          "text": [
            "\n"
          ],
          "name": "stdout"
        },
        {
          "output_type": "display_data",
          "data": {
            "application/vnd.jupyter.widget-view+json": {
              "model_id": "5f39a25691e7498bbb95323890ab7cdd",
              "version_minor": 0,
              "version_major": 2
            },
            "text/plain": [
              "HBox(children=(FloatProgress(value=0.0, description='Downloading', max=242065649.0, style=ProgressStyle(descri…"
            ]
          },
          "metadata": {
            "tags": []
          }
        },
        {
          "output_type": "stream",
          "text": [
            "\n"
          ],
          "name": "stdout"
        },
        {
          "output_type": "display_data",
          "data": {
            "application/vnd.jupyter.widget-view+json": {
              "model_id": "1a9ced999b4542419d20ccc9eb8c670c",
              "version_minor": 0,
              "version_major": 2
            },
            "text/plain": [
              "HBox(children=(FloatProgress(value=0.0, description='Downloading', max=791656.0, style=ProgressStyle(descripti…"
            ]
          },
          "metadata": {
            "tags": []
          }
        },
        {
          "output_type": "stream",
          "text": [
            "\n"
          ],
          "name": "stdout"
        }
      ]
    },
    {
      "cell_type": "code",
      "metadata": {
        "colab": {
          "base_uri": "https://localhost:8080/"
        },
        "id": "xMC_UIFrhGuD",
        "outputId": "fcfd74eb-f28c-44d3-ddf4-c9aa60d129a3"
      },
      "source": [
        "# Concatenating the word \"summarize:\" to raw text\n",
        "text2 = \"summarize:\" + text\n",
        "#print(text2)\n",
        "# encoding the input text\n",
        "input_ids=tokenizer.encode(text2, return_tensors='pt')\n",
        "# Generating summary ids\n",
        "summary_ids = my_model.generate(input_ids)\n",
        "summary_ids\n",
        "\n"
      ],
      "execution_count": null,
      "outputs": [
        {
          "output_type": "execute_result",
          "data": {
            "text/plain": [
              "tensor([[    0, 14348,  5752,  1290,  2618, 16332,     9,   122,   210,   144,\n",
              "           243,     8,   684,   225,  1049, 18279,    11,   161,    38,     3]])"
            ]
          },
          "metadata": {
            "tags": []
          },
          "execution_count": 23
        }
      ]
    },
    {
      "cell_type": "code",
      "metadata": {
        "colab": {
          "base_uri": "https://localhost:8080/"
        },
        "id": "SW01GPc_kbPn",
        "outputId": "580896fd-18eb-4c46-8fcf-9c4932edef7f"
      },
      "source": [
        "# Decoding the tensor and printing the summary.\n",
        "t5_summary = tokenizer.decode(summary_ids[0])\n",
        "print(t5_summary)"
      ],
      "execution_count": null,
      "outputs": [
        {
          "output_type": "stream",
          "text": [
            "RSS chief Mohan Bhagwat said the country should stay united and work as \n"
          ],
          "name": "stdout"
        }
      ]
    },
    {
      "cell_type": "code",
      "metadata": {
        "id": "VZTGRhmvlzAd"
      },
      "source": [
        "# Importing the model\n",
        "from transformers import BartForConditionalGeneration, BartTokenizer, BartConfig"
      ],
      "execution_count": null,
      "outputs": []
    },
    {
      "cell_type": "code",
      "metadata": {
        "id": "o7sIWhtml-ad",
        "colab": {
          "base_uri": "https://localhost:8080/",
          "height": 213,
          "referenced_widgets": [
            "8d9b7090ea4b4bf68a27da6a04e4f1fe",
            "32b2410ceaf2485199762f182580219c",
            "9339ca6f20344d83ac22ab31f3a1f608",
            "c4396c5f30a64d16bc5c54d502fcca34",
            "c0a13e6ce8b841418a4503a7585252fd",
            "45ca16909edf419cbd8971086ba9e432",
            "b1e922e8b038482b8eda1dfd38cf69f5",
            "8df6d7bd500945af80f9f571ea7be467",
            "304db19b371546e4b0e11dcb6b6a8639",
            "63ade30a2c5d410fa8508ad7e792ba85",
            "bade5eee187f41889e66387015f10acf",
            "ce5b95cac4d3436b9e311426802cdfda",
            "d03876ec81e74ff29a703d2a1fc76bdc",
            "8295e935685e4324a0d66e41aebd7d66",
            "1922f46437034df5a7abe9b64df3c8a3",
            "001f0f10b72343ea9d21c1b6464b6edb",
            "4451e211f97d4ebcb81cfaf57c0b7f0f",
            "c8ee8ea36820409d9e7d3904f55f1bf0",
            "313dac40eb9049f88495e9fdb6149b55",
            "2bd7467238bf46a1a0932526f1f41baa",
            "70284014119e4641b914db9c372ec876",
            "9e6ac45400bb40cfbc903a1ecc0ca2f5",
            "7f71e32ce4cc4b698bf2df8dad131e09",
            "248b629f674648cea8be308fb4bc2acd",
            "d01707067a9342cf851aa2b18196522a",
            "494c6b7f4d54424ba46b535f0de1a08f",
            "9016b65bc83c48d49014b36cf0fd9d52",
            "137d9c0f6c80416e9ff5beef646d978a",
            "abc2d87a486a49dd8c64c013292c10df",
            "e1f7a39d07f34d319ddf8308bc2b8eac",
            "0f6d3206841b4f4ca4f51bd86fc94f4d",
            "2526573ce04d49c8a7953aab2e7fb980"
          ]
        },
        "outputId": "ea2a261c-39da-4692-e600-bc29b3dd68f0"
      },
      "source": [
        "# Loading the model and tokenizer for bart-large-cnn\n",
        "\n",
        "tokenizer=BartTokenizer.from_pretrained('facebook/bart-large-cnn')\n",
        "model=BartForConditionalGeneration.from_pretrained('facebook/bart-large-cnn')"
      ],
      "execution_count": null,
      "outputs": [
        {
          "output_type": "display_data",
          "data": {
            "application/vnd.jupyter.widget-view+json": {
              "model_id": "8d9b7090ea4b4bf68a27da6a04e4f1fe",
              "version_minor": 0,
              "version_major": 2
            },
            "text/plain": [
              "HBox(children=(FloatProgress(value=0.0, description='Downloading', max=898823.0, style=ProgressStyle(descripti…"
            ]
          },
          "metadata": {
            "tags": []
          }
        },
        {
          "output_type": "stream",
          "text": [
            "\n"
          ],
          "name": "stdout"
        },
        {
          "output_type": "display_data",
          "data": {
            "application/vnd.jupyter.widget-view+json": {
              "model_id": "304db19b371546e4b0e11dcb6b6a8639",
              "version_minor": 0,
              "version_major": 2
            },
            "text/plain": [
              "HBox(children=(FloatProgress(value=0.0, description='Downloading', max=456318.0, style=ProgressStyle(descripti…"
            ]
          },
          "metadata": {
            "tags": []
          }
        },
        {
          "output_type": "stream",
          "text": [
            "\n"
          ],
          "name": "stdout"
        },
        {
          "output_type": "display_data",
          "data": {
            "application/vnd.jupyter.widget-view+json": {
              "model_id": "4451e211f97d4ebcb81cfaf57c0b7f0f",
              "version_minor": 0,
              "version_major": 2
            },
            "text/plain": [
              "HBox(children=(FloatProgress(value=0.0, description='Downloading', max=1343.0, style=ProgressStyle(description…"
            ]
          },
          "metadata": {
            "tags": []
          }
        },
        {
          "output_type": "stream",
          "text": [
            "\n"
          ],
          "name": "stdout"
        },
        {
          "output_type": "display_data",
          "data": {
            "application/vnd.jupyter.widget-view+json": {
              "model_id": "d01707067a9342cf851aa2b18196522a",
              "version_minor": 0,
              "version_major": 2
            },
            "text/plain": [
              "HBox(children=(FloatProgress(value=0.0, description='Downloading', max=1625270765.0, style=ProgressStyle(descr…"
            ]
          },
          "metadata": {
            "tags": []
          }
        },
        {
          "output_type": "stream",
          "text": [
            "\n"
          ],
          "name": "stdout"
        }
      ]
    },
    {
      "cell_type": "code",
      "metadata": {
        "id": "B-7vYzOWnUEm",
        "colab": {
          "base_uri": "https://localhost:8080/"
        },
        "outputId": "5eba90f2-1ae8-40ef-97ae-9a20d1ad5ceb"
      },
      "source": [
        "# Encoding the inputs and passing them to model.generate()\n",
        "inputs = tokenizer.batch_encode_plus([text],return_tensors='pt')\n",
        "summary_ids = model.generate(inputs['input_ids'], early_stopping=True)"
      ],
      "execution_count": null,
      "outputs": [
        {
          "output_type": "stream",
          "text": [
            "/usr/local/lib/python3.7/dist-packages/torch/_tensor.py:575: UserWarning: floor_divide is deprecated, and will be removed in a future version of pytorch. It currently rounds toward 0 (like the 'trunc' function NOT 'floor'). This results in incorrect rounding for negative values.\n",
            "To keep the current behavior, use torch.div(a, b, rounding_mode='trunc'), or for actual floor division, use torch.div(a, b, rounding_mode='floor'). (Triggered internally at  /pytorch/aten/src/ATen/native/BinaryOps.cpp:467.)\n",
            "  return torch.floor_divide(self, other)\n"
          ],
          "name": "stderr"
        }
      ]
    },
    {
      "cell_type": "code",
      "metadata": {
        "colab": {
          "base_uri": "https://localhost:8080/"
        },
        "id": "IdIw4R3fnIUz",
        "outputId": "d7798db6-93cf-4ed0-da4b-3201e95347e2"
      },
      "source": [
        "# Decoding and printing the summary\n",
        "bart_summary = tokenizer.decode(summary_ids[0], skip_special_tokens=True)\n",
        "print(bart_summary)"
      ],
      "execution_count": null,
      "outputs": [
        {
          "output_type": "stream",
          "text": [
            "RSS chief Mohan Bhagwat urged people to stay positive and proactive to fight the pandemic. He said the country should stay united and work as a team in these testing times, instead of pointing fingers at each other. The RSS chief said there is talk of a third wave. But, we will not be scared. We shall stand like a rock.\n"
          ],
          "name": "stdout"
        }
      ]
    },
    {
      "cell_type": "code",
      "metadata": {
        "colab": {
          "base_uri": "https://localhost:8080/",
          "height": 230,
          "referenced_widgets": [
            "ba384304a4bf4bd9b330a335ef2259c5",
            "1f657e7d78a84605a3ba537c88433ed2",
            "615a87fb4a8b443cb5740206a7ca00e3",
            "6a3704a303b24c459d72ac3a04eef29d",
            "bcf07b6deeb940fe8a42d31f527db9de",
            "64e22445888a4943829b0ab974edd275",
            "6c63d310a0da45cdbe2503013724314e",
            "32f1ac05728e4cbeb177a9af107df993",
            "8a3b1220460c408ca3f4fc7fb2dbe7a4",
            "7706d0e05eb348d5b3b08fe07d0637e5",
            "b743575dc88e4a6e88572562eb930095",
            "52e7327daa0e42418ad2dca98204b23c",
            "709f51b3b76643e38252f26f969fce9e",
            "404ed71e51a34295bc21c69d2c00499a",
            "a1ea009917a3438f97c177bd98c2cdcc",
            "b3d820a545924f6e84d8535f0758619b",
            "be4871b1b7a84223a34858daa288e3d6",
            "61376b957667460caed19b957aac8273",
            "275402757df242e9b67c30f402e19aaa",
            "319fc37a413b44898d97c2235ecd304b",
            "6c342509e996496a90e15a6c108d5fe0",
            "9c559afe244c4570b13129a5a6d77f64",
            "5177c95acc854ff1a3be681e9195df4b",
            "4f417618a4b14191912610b4b47101da",
            "bfbd0fbbfc4c4ec7908733ded87a9bb8",
            "5ee919ce3db14bf8b84901e97566e773",
            "ad2c2cff220848e283728d3baa26afe4",
            "daae55583a974cb6bcb32eed232be827",
            "0174d17d830243598d4161950061513a",
            "7174dd2059df476994ec64190c07e90f",
            "a81e086f054f4898ad103f831a8154d1",
            "109f4d1a614c4604a2f5bcc5ecba2f9b"
          ]
        },
        "id": "lC_ByhAInrK1",
        "outputId": "87d5294e-84d3-43de-94ee-b616d9111c60"
      },
      "source": [
        "# Importing model and tokenizer\n",
        "from transformers import GPT2Tokenizer,GPT2LMHeadModel\n",
        "\n",
        "# Instantiating the model and tokenizer with gpt-2\n",
        "tokenizer=GPT2Tokenizer.from_pretrained('gpt2')\n",
        "model=GPT2LMHeadModel.from_pretrained('gpt2')\n",
        "\n",
        "# Encoding text to get input ids & pass them to model.generate()\n",
        "inputs=tokenizer.batch_encode_plus([text],return_tensors='pt')\n",
        "summary_ids=model.generate(inputs['input_ids'],early_stopping=True)"
      ],
      "execution_count": null,
      "outputs": [
        {
          "output_type": "display_data",
          "data": {
            "application/vnd.jupyter.widget-view+json": {
              "model_id": "ba384304a4bf4bd9b330a335ef2259c5",
              "version_minor": 0,
              "version_major": 2
            },
            "text/plain": [
              "HBox(children=(FloatProgress(value=0.0, description='Downloading', max=1042301.0, style=ProgressStyle(descript…"
            ]
          },
          "metadata": {
            "tags": []
          }
        },
        {
          "output_type": "stream",
          "text": [
            "\n"
          ],
          "name": "stdout"
        },
        {
          "output_type": "display_data",
          "data": {
            "application/vnd.jupyter.widget-view+json": {
              "model_id": "8a3b1220460c408ca3f4fc7fb2dbe7a4",
              "version_minor": 0,
              "version_major": 2
            },
            "text/plain": [
              "HBox(children=(FloatProgress(value=0.0, description='Downloading', max=456318.0, style=ProgressStyle(descripti…"
            ]
          },
          "metadata": {
            "tags": []
          }
        },
        {
          "output_type": "stream",
          "text": [
            "\n"
          ],
          "name": "stdout"
        },
        {
          "output_type": "display_data",
          "data": {
            "application/vnd.jupyter.widget-view+json": {
              "model_id": "be4871b1b7a84223a34858daa288e3d6",
              "version_minor": 0,
              "version_major": 2
            },
            "text/plain": [
              "HBox(children=(FloatProgress(value=0.0, description='Downloading', max=665.0, style=ProgressStyle(description_…"
            ]
          },
          "metadata": {
            "tags": []
          }
        },
        {
          "output_type": "stream",
          "text": [
            "\n"
          ],
          "name": "stdout"
        },
        {
          "output_type": "display_data",
          "data": {
            "application/vnd.jupyter.widget-view+json": {
              "model_id": "bfbd0fbbfc4c4ec7908733ded87a9bb8",
              "version_minor": 0,
              "version_major": 2
            },
            "text/plain": [
              "HBox(children=(FloatProgress(value=0.0, description='Downloading', max=548118077.0, style=ProgressStyle(descri…"
            ]
          },
          "metadata": {
            "tags": []
          }
        },
        {
          "output_type": "stream",
          "text": [
            "\n"
          ],
          "name": "stdout"
        },
        {
          "output_type": "stream",
          "text": [
            "Setting `pad_token_id` to 50256 (first `eos_token_id`) to generate sequence\n"
          ],
          "name": "stderr"
        }
      ]
    },
    {
      "cell_type": "code",
      "metadata": {
        "colab": {
          "base_uri": "https://localhost:8080/"
        },
        "id": "e3idzTc1n_ys",
        "outputId": "3ccce38b-99be-48c0-8071-a0df73313069"
      },
      "source": [
        "# Decoding and printing summary\n",
        "\n",
        "GPT_summary=tokenizer.decode(summary_ids[0],skip_special_tokens=True)\n",
        "print(GPT_summary)"
      ],
      "execution_count": null,
      "outputs": [
        {
          "output_type": "stream",
          "text": [
            "After the first wave of COVID-19, the government, administration and public dropped their guard which led to the current situation, RSS chief Mohan Bhagwat said on Saturday and urged people to stay positive and proactive to fight the pandemic. Addressing a lecture series Positivity Unlimited’, Bhagwat said the country should stay united and work as a team in these testing times, instead of pointing fingers at each other.\n",
            "\n",
            "“We are facing this situation because, whether it was the government, administration or public, everyone dropped their guard after the first wave despite indications from doctors, he said. Bhagwat said there is talk of a third wave. But, we will not be scared. We shall stand like a rock.\n",
            "\n",
            "We have to stay positive and take precautions to keep ourselves COVID negative in the present situation, he said. The RSS chief said that this is not an appropriate time to point fingers and all should avoid making irrational remarks.\n",
            "\n",
            "Citing England’s situation in World War II when everything seemed going against it, Bhagwat said a quote was written on the then prime minister Winston Churchill’s desk which read, “There is no pessimism in this office. We are not interested in the possibilities of defeat. They don’t exist\". Similarly, he said, in this situation we can’t give up on courage. We need to also have steely resolve.\n",
            "\n",
            "Read all the Latest News, Breaking News and Coronavirus News here\n"
          ],
          "name": "stdout"
        }
      ]
    },
    {
      "cell_type": "code",
      "metadata": {
        "colab": {
          "base_uri": "https://localhost:8080/"
        },
        "id": "sATfX62RVekv",
        "outputId": "894a301e-ee55-47a8-9e15-3757101456b5"
      },
      "source": [
        "!pip install rouge/requirements.txt\n",
        "!pip install rouge-score"
      ],
      "execution_count": null,
      "outputs": [
        {
          "output_type": "stream",
          "text": [
            "\u001b[31mERROR: Invalid requirement: 'rouge/requirements.txt'\n",
            "Hint: It looks like a path. File 'rouge/requirements.txt' does not exist.\u001b[0m\n",
            "Collecting rouge-score\n",
            "  Downloading https://files.pythonhosted.org/packages/1f/56/a81022436c08b9405a5247b71635394d44fe7e1dbedc4b28c740e09c2840/rouge_score-0.0.4-py2.py3-none-any.whl\n",
            "Requirement already satisfied: numpy in /usr/local/lib/python3.7/dist-packages (from rouge-score) (1.19.5)\n",
            "Requirement already satisfied: six>=1.14.0 in /usr/local/lib/python3.7/dist-packages (from rouge-score) (1.15.0)\n",
            "Requirement already satisfied: absl-py in /usr/local/lib/python3.7/dist-packages (from rouge-score) (0.12.0)\n",
            "Requirement already satisfied: nltk in /usr/local/lib/python3.7/dist-packages (from rouge-score) (3.2.5)\n",
            "Installing collected packages: rouge-score\n",
            "Successfully installed rouge-score-0.0.4\n"
          ],
          "name": "stdout"
        }
      ]
    },
    {
      "cell_type": "code",
      "metadata": {
        "colab": {
          "base_uri": "https://localhost:8080/"
        },
        "id": "--SkHlwWXGV3",
        "outputId": "60280c49-b159-4238-edb3-8701678db6a5"
      },
      "source": [
        "!pip3 install rogue"
      ],
      "execution_count": null,
      "outputs": [
        {
          "output_type": "stream",
          "text": [
            "Collecting rogue\n",
            "  Downloading https://files.pythonhosted.org/packages/c9/a9/02b89c5a14497a8d24f73bb2a34532a5067b4951c0aaaefead57129e915a/rogue-0.0.2.tar.gz\n",
            "Building wheels for collected packages: rogue\n",
            "  Building wheel for rogue (setup.py) ... \u001b[?25l\u001b[?25hdone\n",
            "  Created wheel for rogue: filename=rogue-0.0.2-cp37-none-any.whl size=7231 sha256=b164781ee343c75f5347f1702268fe7a77934e06578eb03ccb91017f9ae173a9\n",
            "  Stored in directory: /root/.cache/pip/wheels/02/39/20/d62d788c77e226459e17e14df0d04aa5e48ef87d1e05cd06e5\n",
            "Successfully built rogue\n",
            "Installing collected packages: rogue\n",
            "Successfully installed rogue-0.0.2\n"
          ],
          "name": "stdout"
        }
      ]
    },
    {
      "cell_type": "code",
      "metadata": {
        "colab": {
          "base_uri": "https://localhost:8080/"
        },
        "id": "sYrkYyUqYMCt",
        "outputId": "465d1f29-4d3e-4eb3-c379-3cdaff0f6476"
      },
      "source": [
        "!git clone https://github.com/pltrdy/rouge\n",
        "!cd rouge\n",
        "!python3.7 rouge/setup.py install\n",
        "!pip uninstall rouge"
      ],
      "execution_count": null,
      "outputs": [
        {
          "output_type": "stream",
          "text": [
            "fatal: destination path 'rouge' already exists and is not an empty directory.\n",
            "running install\n",
            "running bdist_egg\n",
            "running egg_info\n",
            "writing rouge.egg-info/PKG-INFO\n",
            "writing dependency_links to rouge.egg-info/dependency_links.txt\n",
            "writing entry points to rouge.egg-info/entry_points.txt\n",
            "writing requirements to rouge.egg-info/requires.txt\n",
            "writing top-level names to rouge.egg-info/top_level.txt\n",
            "reading manifest file 'rouge.egg-info/SOURCES.txt'\n",
            "writing manifest file 'rouge.egg-info/SOURCES.txt'\n",
            "installing library code to build/bdist.linux-x86_64/egg\n",
            "running install_lib\n",
            "warning: install_lib: 'build/lib' does not exist -- no Python modules to install\n",
            "\n",
            "creating build/bdist.linux-x86_64/egg\n",
            "creating build/bdist.linux-x86_64/egg/EGG-INFO\n",
            "copying rouge.egg-info/PKG-INFO -> build/bdist.linux-x86_64/egg/EGG-INFO\n",
            "copying rouge.egg-info/SOURCES.txt -> build/bdist.linux-x86_64/egg/EGG-INFO\n",
            "copying rouge.egg-info/dependency_links.txt -> build/bdist.linux-x86_64/egg/EGG-INFO\n",
            "copying rouge.egg-info/entry_points.txt -> build/bdist.linux-x86_64/egg/EGG-INFO\n",
            "copying rouge.egg-info/requires.txt -> build/bdist.linux-x86_64/egg/EGG-INFO\n",
            "copying rouge.egg-info/top_level.txt -> build/bdist.linux-x86_64/egg/EGG-INFO\n",
            "zip_safe flag not set; analyzing archive contents...\n",
            "creating 'dist/rouge-1.0.0rc2-py3.7.egg' and adding 'build/bdist.linux-x86_64/egg' to it\n",
            "removing 'build/bdist.linux-x86_64/egg' (and everything under it)\n",
            "Processing rouge-1.0.0rc2-py3.7.egg\n",
            "Removing /usr/local/lib/python3.7/dist-packages/rouge-1.0.0rc2-py3.7.egg\n",
            "Copying rouge-1.0.0rc2-py3.7.egg to /usr/local/lib/python3.7/dist-packages\n",
            "rouge 1.0.0rc2 is already the active version in easy-install.pth\n",
            "Installing rouge script to /usr/local/bin\n",
            "\n",
            "Installed /usr/local/lib/python3.7/dist-packages/rouge-1.0.0rc2-py3.7.egg\n",
            "Processing dependencies for rouge==1.0.0rc2\n",
            "Searching for six==1.15.0\n",
            "Best match: six 1.15.0\n",
            "Adding six 1.15.0 to easy-install.pth file\n",
            "\n",
            "Using /usr/local/lib/python3.7/dist-packages\n",
            "Finished processing dependencies for rouge==1.0.0rc2\n",
            "Uninstalling rouge-1.0.0rc2:\n",
            "  Would remove:\n",
            "    /usr/local/lib/python3.7/dist-packages/rouge-1.0.0rc2-py3.7.egg\n",
            "Proceed (y/n)? y\n",
            "  Successfully uninstalled rouge-1.0.0rc2\n"
          ],
          "name": "stdout"
        }
      ]
    },
    {
      "cell_type": "code",
      "metadata": {
        "colab": {
          "base_uri": "https://localhost:8080/"
        },
        "id": "wXmF60yaYmME",
        "outputId": "e3fb3087-ab9a-4fcf-a17c-914e370ab6a0"
      },
      "source": [
        "!pip install executor"
      ],
      "execution_count": null,
      "outputs": [
        {
          "output_type": "stream",
          "text": [
            "Collecting executor\n",
            "\u001b[?25l  Downloading https://files.pythonhosted.org/packages/cf/1b/cad3a5e33cba6982fd5df15c0ac531caed56b167c3981bd4e3625024edac/executor-23.2-py2.py3-none-any.whl (85kB)\n",
            "\u001b[K     |████████████████████████████████| 92kB 4.5MB/s \n",
            "\u001b[?25hCollecting fasteners>=0.14.1\n",
            "  Downloading https://files.pythonhosted.org/packages/31/91/6630ebd169ca170634ca8a10dfcc5f5c11b0621672d4c2c9e40381c6d81a/fasteners-0.16.3-py2.py3-none-any.whl\n",
            "Collecting property-manager>=3.0\n",
            "  Downloading https://files.pythonhosted.org/packages/b1/9f/be7d2ab00492710007cee08d2577f0176f3cf41c6b769963dc709bbdf653/property_manager-3.0-py2.py3-none-any.whl\n",
            "Collecting coloredlogs>=3.5\n",
            "\u001b[?25l  Downloading https://files.pythonhosted.org/packages/a7/06/3d6badcf13db419e25b07041d9c7b4a2c331d3f4e7134445ec5df57714cd/coloredlogs-15.0.1-py2.py3-none-any.whl (46kB)\n",
            "\u001b[K     |████████████████████████████████| 51kB 6.1MB/s \n",
            "\u001b[?25hCollecting humanfriendly>=8.0\n",
            "\u001b[?25l  Downloading https://files.pythonhosted.org/packages/92/7e/a06472f484fa589933f39bfb41a7b849ca49f6d8e4fdfe978e27f0e3075c/humanfriendly-9.2-py2.py3-none-any.whl (86kB)\n",
            "\u001b[K     |████████████████████████████████| 92kB 9.5MB/s \n",
            "\u001b[?25hRequirement already satisfied: six>=1.9.0 in /usr/local/lib/python3.7/dist-packages (from executor) (1.15.0)\n",
            "Collecting verboselogs>=1.1\n",
            "  Downloading https://files.pythonhosted.org/packages/b8/9d/c5c3cb0093642042fd604b53928ac65e7650fdc5a8a97814288e29beab84/verboselogs-1.7-py2.py3-none-any.whl\n",
            "Installing collected packages: fasteners, verboselogs, humanfriendly, property-manager, coloredlogs, executor\n",
            "Successfully installed coloredlogs-15.0.1 executor-23.2 fasteners-0.16.3 humanfriendly-9.2 property-manager-3.0 verboselogs-1.7\n"
          ],
          "name": "stdout"
        }
      ]
    },
    {
      "cell_type": "code",
      "metadata": {
        "id": "ioEtru3dc2tp"
      },
      "source": [
        "from rouge_score import rouge_scorer"
      ],
      "execution_count": null,
      "outputs": []
    },
    {
      "cell_type": "code",
      "metadata": {
        "id": "7a4bzsEcc4i1"
      },
      "source": [
        "scorer = rouge_scorer.RougeScorer(['rouge1', 'rougeL'], use_stemmer=True)\n",
        "scores = scorer.score('The quick brown fox jumps over the lazy dog',\n",
        "                      'The quick brown dog jumps on the log.')"
      ],
      "execution_count": null,
      "outputs": []
    },
    {
      "cell_type": "code",
      "metadata": {
        "id": "OYgzoo43dBhj",
        "colab": {
          "base_uri": "https://localhost:8080/"
        },
        "outputId": "ce55bb60-9e16-4ce5-b81b-c9ed442315f9"
      },
      "source": [
        "print(str(scores))"
      ],
      "execution_count": null,
      "outputs": [
        {
          "output_type": "stream",
          "text": [
            "{'rouge1': Score(precision=0.75, recall=0.6666666666666666, fmeasure=0.7058823529411765), 'rougeL': Score(precision=0.625, recall=0.5555555555555556, fmeasure=0.5882352941176471)}\n"
          ],
          "name": "stdout"
        }
      ]
    },
    {
      "cell_type": "code",
      "metadata": {
        "colab": {
          "base_uri": "https://localhost:8080/",
          "height": 990
        },
        "id": "fDISsc97Lud8",
        "outputId": "34d552ef-630e-43a2-aa70-cc5a0994d0e5"
      },
      "source": [
        "!pip3 install python-csv"
      ],
      "execution_count": null,
      "outputs": [
        {
          "output_type": "stream",
          "text": [
            "Collecting python-csv\n",
            "  Downloading https://files.pythonhosted.org/packages/fd/df/ae7b5086b3d1f399041dac75a3a0bc20f303a97035445b13c6c3a5e7778d/python-csv-0.0.13.tar.gz\n",
            "Collecting argparse\n",
            "  Downloading https://files.pythonhosted.org/packages/f2/94/3af39d34be01a24a6e65433d19e107099374224905f1e0cc6bbe1fd22a2f/argparse-1.4.0-py2.py3-none-any.whl\n",
            "Requirement already satisfied: numpy in /usr/local/lib/python3.7/dist-packages (from python-csv) (1.19.5)\n",
            "Requirement already satisfied: pandas in /usr/local/lib/python3.7/dist-packages (from python-csv) (1.1.5)\n",
            "Requirement already satisfied: matplotlib in /usr/local/lib/python3.7/dist-packages (from python-csv) (3.2.2)\n",
            "Requirement already satisfied: xlrd in /usr/local/lib/python3.7/dist-packages (from python-csv) (1.1.0)\n",
            "Collecting xmltodict\n",
            "  Downloading https://files.pythonhosted.org/packages/28/fd/30d5c1d3ac29ce229f6bdc40bbc20b28f716e8b363140c26eff19122d8a5/xmltodict-0.12.0-py2.py3-none-any.whl\n",
            "Collecting demjson\n",
            "\u001b[?25l  Downloading https://files.pythonhosted.org/packages/96/67/6db789e2533158963d4af689f961b644ddd9200615b8ce92d6cad695c65a/demjson-2.2.4.tar.gz (131kB)\n",
            "\u001b[K     |████████████████████████████████| 133kB 15.6MB/s \n",
            "\u001b[?25hCollecting leven\n",
            "  Downloading https://files.pythonhosted.org/packages/73/02/37084115516cfd595ee2f9a873fffe8b85c6b1538523ff6a8b8dd7ff7d46/leven-1.0.4.tar.gz\n",
            "Collecting jtutils\n",
            "  Downloading https://files.pythonhosted.org/packages/97/75/7f7b2856faf51319fdfff586d56c31bd06b19f61967d282cc62c2ad97eed/jtutils-0.0.8.tar.gz\n",
            "Requirement already satisfied: python-dateutil>=2.7.3 in /usr/local/lib/python3.7/dist-packages (from pandas->python-csv) (2.8.1)\n",
            "Requirement already satisfied: pytz>=2017.2 in /usr/local/lib/python3.7/dist-packages (from pandas->python-csv) (2018.9)\n",
            "Requirement already satisfied: cycler>=0.10 in /usr/local/lib/python3.7/dist-packages (from matplotlib->python-csv) (0.10.0)\n",
            "Requirement already satisfied: kiwisolver>=1.0.1 in /usr/local/lib/python3.7/dist-packages (from matplotlib->python-csv) (1.3.1)\n",
            "Requirement already satisfied: pyparsing!=2.0.4,!=2.1.2,!=2.1.6,>=2.0.1 in /usr/local/lib/python3.7/dist-packages (from matplotlib->python-csv) (2.4.7)\n",
            "Requirement already satisfied: six in /usr/local/lib/python3.7/dist-packages (from leven->python-csv) (1.15.0)\n",
            "Collecting nose\n",
            "\u001b[?25l  Downloading https://files.pythonhosted.org/packages/15/d8/dd071918c040f50fa1cf80da16423af51ff8ce4a0f2399b7bf8de45ac3d9/nose-1.3.7-py3-none-any.whl (154kB)\n",
            "\u001b[K     |████████████████████████████████| 163kB 36.3MB/s \n",
            "\u001b[?25hRequirement already satisfied: requests in /usr/local/lib/python3.7/dist-packages (from jtutils->python-csv) (2.23.0)\n",
            "Requirement already satisfied: beautifulsoup4 in /usr/local/lib/python3.7/dist-packages (from jtutils->python-csv) (4.6.3)\n",
            "Collecting selenium\n",
            "\u001b[?25l  Downloading https://files.pythonhosted.org/packages/80/d6/4294f0b4bce4de0abf13e17190289f9d0613b0a44e5dd6a7f5ca98459853/selenium-3.141.0-py2.py3-none-any.whl (904kB)\n",
            "\u001b[K     |████████████████████████████████| 911kB 38.9MB/s \n",
            "\u001b[?25hRequirement already satisfied: chardet<4,>=3.0.2 in /usr/local/lib/python3.7/dist-packages (from requests->jtutils->python-csv) (3.0.4)\n",
            "Requirement already satisfied: certifi>=2017.4.17 in /usr/local/lib/python3.7/dist-packages (from requests->jtutils->python-csv) (2021.5.30)\n",
            "Requirement already satisfied: urllib3!=1.25.0,!=1.25.1,<1.26,>=1.21.1 in /usr/local/lib/python3.7/dist-packages (from requests->jtutils->python-csv) (1.24.3)\n",
            "Requirement already satisfied: idna<3,>=2.5 in /usr/local/lib/python3.7/dist-packages (from requests->jtutils->python-csv) (2.10)\n",
            "Building wheels for collected packages: python-csv, demjson, leven, jtutils\n",
            "  Building wheel for python-csv (setup.py) ... \u001b[?25l\u001b[?25hdone\n",
            "  Created wheel for python-csv: filename=python_csv-0.0.13-cp37-none-any.whl size=34813 sha256=ef6a0e6f641bacb4f0e00a8279068c86a8baa4bbf92e213bdf2560c6910508c1\n",
            "  Stored in directory: /root/.cache/pip/wheels/2a/17/81/2360123e1e963e6533dc6503b0e7194c14edd263baefec1c59\n",
            "  Building wheel for demjson (setup.py) ... \u001b[?25l\u001b[?25hdone\n",
            "  Created wheel for demjson: filename=demjson-2.2.4-cp37-none-any.whl size=73566 sha256=24cddf1df3c6df955a8394a453da6d7a58ff3fec28cd95455d4a68ff7892c1a4\n",
            "  Stored in directory: /root/.cache/pip/wheels/c5/d2/ab/a54fb5ea53ac3badba098160e8452fa126a51febda80440ded\n",
            "  Building wheel for leven (setup.py) ... \u001b[?25l\u001b[?25hdone\n",
            "  Created wheel for leven: filename=leven-1.0.4-cp37-cp37m-linux_x86_64.whl size=55486 sha256=2daa6a7902c74eda3df0c8af7e3a42ab06663b904f34957fe3f1cc196a2d8389\n",
            "  Stored in directory: /root/.cache/pip/wheels/54/64/a5/439db671d666a50f3b3cebd2dcab3fbbab02785adf58e47552\n",
            "  Building wheel for jtutils (setup.py) ... \u001b[?25l\u001b[?25hdone\n",
            "  Created wheel for jtutils: filename=jtutils-0.0.8-cp37-none-any.whl size=7901 sha256=fb28ef8b1aa24be36b027199b6f4f656aa4f77ed2db0b32fc586aa8e0d445a7d\n",
            "  Stored in directory: /root/.cache/pip/wheels/28/f7/5a/8b3e483dcf79531067dd55938adc522306f7195cf2cc151713\n",
            "Successfully built python-csv demjson leven jtutils\n",
            "Installing collected packages: argparse, xmltodict, demjson, nose, leven, selenium, jtutils, python-csv\n",
            "Successfully installed argparse-1.4.0 demjson-2.2.4 jtutils-0.0.8 leven-1.0.4 nose-1.3.7 python-csv-0.0.13 selenium-3.141.0 xmltodict-0.12.0\n"
          ],
          "name": "stdout"
        },
        {
          "output_type": "display_data",
          "data": {
            "application/vnd.colab-display-data+json": {
              "pip_warning": {
                "packages": [
                  "argparse"
                ]
              }
            }
          },
          "metadata": {
            "tags": []
          }
        }
      ]
    },
    {
      "cell_type": "markdown",
      "metadata": {
        "id": "3cD_HlU6Ntky"
      },
      "source": [
        "##CREATION OF DATASET AND CUSTOM MODEL IMPLEMENTATION## \n",
        "1) BBC politics news dataset , classified as folders \n",
        "2) read the news and summary and store in a csv file\n",
        "3) read The csv and store data in pandas dataframe\n",
        "4) clean the data "
      ]
    },
    {
      "cell_type": "code",
      "metadata": {
        "id": "RasTC2dz7n8T"
      },
      "source": [
        "import csv \n",
        "import os"
      ],
      "execution_count": null,
      "outputs": []
    },
    {
      "cell_type": "code",
      "metadata": {
        "colab": {
          "base_uri": "https://localhost:8080/",
          "height": 120
        },
        "id": "ehowQB0ROF0f",
        "outputId": "662cb9d0-93a9-4e90-931f-c3d7e84a6d25"
      },
      "source": [
        "\n",
        "print(str(os.listdir()))\n",
        "# List all files in a directory using os.listdir\n",
        "newspath = '/content/PoliticsNews'\n",
        "summarypath='/content/PoliticsNewsSummary'\n",
        "newsList=[]\n",
        "summaryList=[]\n",
        "\n",
        "'''for entry in os.listdir(newspath):\n",
        "    if os.path.isfile(os.path.join(newspath, entry)):\n",
        "        #print(entry)\n",
        "        filename=os.path.join(newspath, entry)\n",
        "        with open(filename) as f: \n",
        "         newsList.append(f.read())\n",
        "for entry in os.listdir(summarypath):\n",
        "    if os.path.isfile(os.path.join(summarypath, entry)):\n",
        "        #print(entry)\n",
        "        filename=os.path.join(summarypath, entry)\n",
        "        with open(filename) as f: \n",
        "         summaryList.append(f.read())\n",
        "print(str(len(newsList)))\n",
        "print(str(len(summaryList)))'''"
      ],
      "execution_count": null,
      "outputs": [
        {
          "output_type": "stream",
          "text": [
            "['.config', '.ipynb_checkpoints', 'summary-dataset.csv', 'PoliticsNews', 'sample_data']\n"
          ],
          "name": "stdout"
        },
        {
          "output_type": "execute_result",
          "data": {
            "application/vnd.google.colaboratory.intrinsic+json": {
              "type": "string"
            },
            "text/plain": [
              "'for entry in os.listdir(newspath):\\n    if os.path.isfile(os.path.join(newspath, entry)):\\n        #print(entry)\\n        filename=os.path.join(newspath, entry)\\n        with open(filename) as f: \\n         newsList.append(f.read())\\nfor entry in os.listdir(summarypath):\\n    if os.path.isfile(os.path.join(summarypath, entry)):\\n        #print(entry)\\n        filename=os.path.join(summarypath, entry)\\n        with open(filename) as f: \\n         summaryList.append(f.read())\\nprint(str(len(newsList)))\\nprint(str(len(summaryList)))'"
            ]
          },
          "metadata": {
            "tags": []
          },
          "execution_count": 41
        }
      ]
    },
    {
      "cell_type": "code",
      "metadata": {
        "id": "4NOjUVZARGGU"
      },
      "source": [
        "\n",
        "with open('/content/summary-dataset.csv', mode='w') as dataset:\n",
        "    employee_writer = csv.writer(dataset, delimiter='$', quotechar='\"', quoting=csv.QUOTE_MINIMAL)\n",
        "\n",
        "    employee_writer.writerow(['ID','NEWS','SUMMARY'])\n",
        "    count=1;\n",
        "    for j in range(len(newsList)):\n",
        "     employee_writer.writerow([str(count),str(newsList[j]).replace(\"\\n\",\" \"),str(summaryList[j]).replace(\"\\n\",\" \")])\n",
        "     count+=1\n",
        "     "
      ],
      "execution_count": null,
      "outputs": []
    },
    {
      "cell_type": "code",
      "metadata": {
        "colab": {
          "base_uri": "https://localhost:8080/",
          "height": 204
        },
        "id": "i83o_0geUwlu",
        "outputId": "03f178d1-b254-444b-c037-9e5e45c720fe"
      },
      "source": [
        "import pandas as pd\n",
        "\n",
        "data=pd.read_csv(\"/content/summary-dataset.csv\",delimiter=\"$\")\n",
        "data.head()\n"
      ],
      "execution_count": null,
      "outputs": [
        {
          "output_type": "execute_result",
          "data": {
            "text/html": [
              "<div>\n",
              "<style scoped>\n",
              "    .dataframe tbody tr th:only-of-type {\n",
              "        vertical-align: middle;\n",
              "    }\n",
              "\n",
              "    .dataframe tbody tr th {\n",
              "        vertical-align: top;\n",
              "    }\n",
              "\n",
              "    .dataframe thead th {\n",
              "        text-align: right;\n",
              "    }\n",
              "</style>\n",
              "<table border=\"1\" class=\"dataframe\">\n",
              "  <thead>\n",
              "    <tr style=\"text-align: right;\">\n",
              "      <th></th>\n",
              "      <th>ID</th>\n",
              "      <th>NEWS</th>\n",
              "      <th>SUMMARY</th>\n",
              "    </tr>\n",
              "  </thead>\n",
              "  <tbody>\n",
              "    <tr>\n",
              "      <th>0</th>\n",
              "      <td>1</td>\n",
              "      <td>Job cuts 'false economy'  - TUC  Plans to shed...</td>\n",
              "      <td>Plans to shed 71,000 civil service jobs will p...</td>\n",
              "    </tr>\n",
              "    <tr>\n",
              "      <th>1</th>\n",
              "      <td>2</td>\n",
              "      <td>Probe launched on Ken Nazi jibe  An investigat...</td>\n",
              "      <td>Ms Gavron said she thought Mr Livingstone's co...</td>\n",
              "    </tr>\n",
              "    <tr>\n",
              "      <th>2</th>\n",
              "      <td>3</td>\n",
              "      <td>Blair blasts Tory spending plans  Tony Blair h...</td>\n",
              "      <td>In his speech, Mr Blair contrasted a reformed ...</td>\n",
              "    </tr>\n",
              "    <tr>\n",
              "      <th>3</th>\n",
              "      <td>4</td>\n",
              "      <td>Iraq advice claim sparks new row  The Tories s...</td>\n",
              "      <td>\"After that Downing Street proceeded to set ou...</td>\n",
              "    </tr>\n",
              "    <tr>\n",
              "      <th>4</th>\n",
              "      <td>5</td>\n",
              "      <td>Women MPs reveal sexist taunts  Women MPs endu...</td>\n",
              "      <td>But she said there was a difference between th...</td>\n",
              "    </tr>\n",
              "  </tbody>\n",
              "</table>\n",
              "</div>"
            ],
            "text/plain": [
              "   ID  ...                                            SUMMARY\n",
              "0   1  ...  Plans to shed 71,000 civil service jobs will p...\n",
              "1   2  ...  Ms Gavron said she thought Mr Livingstone's co...\n",
              "2   3  ...  In his speech, Mr Blair contrasted a reformed ...\n",
              "3   4  ...  \"After that Downing Street proceeded to set ou...\n",
              "4   5  ...  But she said there was a difference between th...\n",
              "\n",
              "[5 rows x 3 columns]"
            ]
          },
          "metadata": {
            "tags": []
          },
          "execution_count": 49
        }
      ]
    },
    {
      "cell_type": "code",
      "metadata": {
        "id": "K-3WGrXlWIZA"
      },
      "source": [
        "contractions = { \n",
        "\"ain't\": \"am not\",\n",
        "\"aren't\": \"are not\",\n",
        "\"can't\": \"cannot\",\n",
        "\"can't've\": \"cannot have\",\n",
        "\"'cause\": \"because\",\n",
        "\"could've\": \"could have\",\n",
        "\"couldn't\": \"could not\",\n",
        "\"couldn't've\": \"could not have\",\n",
        "\"didn't\": \"did not\",\n",
        "\"doesn't\": \"does not\",\n",
        "\"don't\": \"do not\",\n",
        "\"hadn't\": \"had not\",\n",
        "\"hadn't've\": \"had not have\",\n",
        "\"hasn't\": \"has not\",\n",
        "\"haven't\": \"have not\",\n",
        "\"he'd\": \"he would\",\n",
        "\"he'd've\": \"he would have\",\n",
        "\"he'll\": \"he will\",\n",
        "\"he's\": \"he is\",\n",
        "\"how'd\": \"how did\",\n",
        "\"how'll\": \"how will\",\n",
        "\"how's\": \"how is\",\n",
        "\"i'd\": \"i would\",\n",
        "\"i'll\": \"i will\",\n",
        "\"i'm\": \"i am\",\n",
        "\"i've\": \"i have\",\n",
        "\"isn't\": \"is not\",\n",
        "\"it'd\": \"it would\",\n",
        "\"it'll\": \"it will\",\n",
        "\"it's\": \"it is\",\n",
        "\"let's\": \"let us\",\n",
        "\"ma'am\": \"madam\",\n",
        "\"mayn't\": \"may not\",\n",
        "\"might've\": \"might have\",\n",
        "\"mightn't\": \"might not\",\n",
        "\"must've\": \"must have\",\n",
        "\"mustn't\": \"must not\",\n",
        "\"needn't\": \"need not\",\n",
        "\"oughtn't\": \"ought not\",\n",
        "\"shan't\": \"shall not\",\n",
        "\"sha'n't\": \"shall not\",\n",
        "\"she'd\": \"she would\",\n",
        "\"she'll\": \"she will\",\n",
        "\"she's\": \"she is\",\n",
        "\"should've\": \"should have\",\n",
        "\"shouldn't\": \"should not\",\n",
        "\"that'd\": \"that would\",\n",
        "\"that's\": \"that is\",\n",
        "\"there'd\": \"there had\",\n",
        "\"there's\": \"there is\",\n",
        "\"they'd\": \"they would\",\n",
        "\"they'll\": \"they will\",\n",
        "\"they're\": \"they are\",\n",
        "\"they've\": \"they have\",\n",
        "\"wasn't\": \"was not\",\n",
        "\"we'd\": \"we would\",\n",
        "\"we'll\": \"we will\",\n",
        "\"we're\": \"we are\",\n",
        "\"we've\": \"we have\",\n",
        "\"weren't\": \"were not\",\n",
        "\"what'll\": \"what will\",\n",
        "\"what're\": \"what are\",\n",
        "\"what's\": \"what is\",\n",
        "\"what've\": \"what have\",\n",
        "\"where'd\": \"where did\",\n",
        "\"where's\": \"where is\",\n",
        "\"who'll\": \"who will\",\n",
        "\"who's\": \"who is\",\n",
        "\"won't\": \"will not\",\n",
        "\"wouldn't\": \"would not\",\n",
        "\"you'd\": \"you would\",\n",
        "\"you'll\": \"you will\",\n",
        "\"you're\": \"you are\"\n",
        "}"
      ],
      "execution_count": null,
      "outputs": []
    },
    {
      "cell_type": "code",
      "metadata": {
        "colab": {
          "base_uri": "https://localhost:8080/"
        },
        "id": "ehtUVOZHXLr0",
        "outputId": "2be413eb-1884-4db5-c503-487d63d4130c"
      },
      "source": [
        "import nltk\n",
        "nltk.download('stopwords')"
      ],
      "execution_count": null,
      "outputs": [
        {
          "output_type": "stream",
          "text": [
            "[nltk_data] Downloading package stopwords to /root/nltk_data...\n",
            "[nltk_data]   Unzipping corpora/stopwords.zip.\n"
          ],
          "name": "stdout"
        },
        {
          "output_type": "execute_result",
          "data": {
            "text/plain": [
              "True"
            ]
          },
          "metadata": {
            "tags": []
          },
          "execution_count": 51
        }
      ]
    },
    {
      "cell_type": "code",
      "metadata": {
        "id": "i-HBi5VYWL4d"
      },
      "source": [
        "import re\n",
        "from nltk.corpus import stopwords\n",
        "def clean_text(text, remove_stopwords = True):\n",
        "    '''Remove unwanted characters, stopwords, and format the text to create fewer nulls word embeddings'''\n",
        "    \n",
        "    # Convert words to lower case\n",
        "    text = text.lower()\n",
        "    \n",
        "    # Replace contractions with their longer forms \n",
        "    if True:\n",
        "        text = text.split()\n",
        "        new_text = []\n",
        "        for word in text:\n",
        "            if word in contractions:\n",
        "                new_text.append(contractions[word])\n",
        "            else:\n",
        "                new_text.append(word)\n",
        "        text = \" \".join(new_text)\n",
        "    \n",
        "    # Format words and remove unwanted characters\n",
        "    text = re.sub(r'https?:\\/\\/.*[\\r\\n]*', '', text, flags=re.MULTILINE)\n",
        "    text = re.sub(r'\\<a href', ' ', text)\n",
        "    text = re.sub(r'&amp;', '', text) \n",
        "    text = re.sub(r'[_\"\\-;%()|+&=*%.,!?:#$@\\[\\]/]', ' ', text)\n",
        "    text = re.sub(r'<br />', ' ', text)\n",
        "    text = re.sub(r'\\'', ' ', text)\n",
        "    \n",
        "    # Optionally, remove stop words\n",
        "    if remove_stopwords:\n",
        "        text = text.split()\n",
        "        stops = set(stopwords.words(\"english\"))\n",
        "        text = [w for w in text if not w in stops]\n",
        "        text = \" \".join(text)\n",
        "\n",
        "    return text"
      ],
      "execution_count": null,
      "outputs": []
    },
    {
      "cell_type": "code",
      "metadata": {
        "colab": {
          "base_uri": "https://localhost:8080/"
        },
        "id": "HASlDeXuWish",
        "outputId": "dd13011d-a5d9-4864-86f9-18e980754466"
      },
      "source": [
        "# Clean the summaries and texts\n",
        "clean_summaries = []\n",
        "for summary in data.SUMMARY:\n",
        "    clean_summaries.append(clean_text(summary, remove_stopwords=False))\n",
        "print(\"Summaries are complete.\")\n",
        "\n",
        "clean_texts = []\n",
        "for text in data.NEWS:\n",
        "    clean_texts.append(clean_text(text))\n",
        "print(\"Texts are complete.\")"
      ],
      "execution_count": null,
      "outputs": [
        {
          "output_type": "stream",
          "text": [
            "Summaries are complete.\n",
            "Texts are complete.\n"
          ],
          "name": "stdout"
        }
      ]
    },
    {
      "cell_type": "code",
      "metadata": {
        "colab": {
          "base_uri": "https://localhost:8080/",
          "height": 238
        },
        "id": "RU4-R14HYTVl",
        "outputId": "cce4b070-202a-4d85-8fa1-14a99bb80da4"
      },
      "source": [
        "data['NEWS']=data['NEWS'].apply(lambda x:clean_text(x,remove_stopwords=False))\n",
        "data['SUMMARY']=data['SUMMARY'].apply(lambda x:clean_text(x,remove_stopwords=False))\n",
        "data['WORD_COUNT_SUMMARY']=data['SUMMARY'].apply(lambda x:len(str(x).split()))\n",
        "data['WORD_COUNT_TEXT']=data['NEWS'].apply(lambda x:len(str(x).split()))\n",
        "data.head()"
      ],
      "execution_count": null,
      "outputs": [
        {
          "output_type": "execute_result",
          "data": {
            "text/html": [
              "<div>\n",
              "<style scoped>\n",
              "    .dataframe tbody tr th:only-of-type {\n",
              "        vertical-align: middle;\n",
              "    }\n",
              "\n",
              "    .dataframe tbody tr th {\n",
              "        vertical-align: top;\n",
              "    }\n",
              "\n",
              "    .dataframe thead th {\n",
              "        text-align: right;\n",
              "    }\n",
              "</style>\n",
              "<table border=\"1\" class=\"dataframe\">\n",
              "  <thead>\n",
              "    <tr style=\"text-align: right;\">\n",
              "      <th></th>\n",
              "      <th>ID</th>\n",
              "      <th>NEWS</th>\n",
              "      <th>SUMMARY</th>\n",
              "      <th>WORD_COUNT_SUMMARY</th>\n",
              "      <th>WORD_COUNT_TEXT</th>\n",
              "    </tr>\n",
              "  </thead>\n",
              "  <tbody>\n",
              "    <tr>\n",
              "      <th>0</th>\n",
              "      <td>1</td>\n",
              "      <td>job cuts  false economy    tuc plans to shed 7...</td>\n",
              "      <td>plans to shed 71 000 civil service jobs will p...</td>\n",
              "      <td>112</td>\n",
              "      <td>261</td>\n",
              "    </tr>\n",
              "    <tr>\n",
              "      <th>1</th>\n",
              "      <td>2</td>\n",
              "      <td>probe launched on ken nazi jibe an investigati...</td>\n",
              "      <td>ms gavron said she thought mr livingstone s co...</td>\n",
              "      <td>140</td>\n",
              "      <td>343</td>\n",
              "    </tr>\n",
              "    <tr>\n",
              "      <th>2</th>\n",
              "      <td>3</td>\n",
              "      <td>blair blasts tory spending plans tony blair ha...</td>\n",
              "      <td>in his speech  mr blair contrasted a reformed ...</td>\n",
              "      <td>259</td>\n",
              "      <td>582</td>\n",
              "    </tr>\n",
              "    <tr>\n",
              "      <th>3</th>\n",
              "      <td>4</td>\n",
              "      <td>iraq advice claim sparks new row the tories sa...</td>\n",
              "      <td>after that downing street proceeded to set ou...</td>\n",
              "      <td>256</td>\n",
              "      <td>618</td>\n",
              "    </tr>\n",
              "    <tr>\n",
              "      <th>4</th>\n",
              "      <td>5</td>\n",
              "      <td>women mps reveal sexist taunts women mps endur...</td>\n",
              "      <td>but she said there was a difference between th...</td>\n",
              "      <td>271</td>\n",
              "      <td>543</td>\n",
              "    </tr>\n",
              "  </tbody>\n",
              "</table>\n",
              "</div>"
            ],
            "text/plain": [
              "   ID  ... WORD_COUNT_TEXT\n",
              "0   1  ...             261\n",
              "1   2  ...             343\n",
              "2   3  ...             582\n",
              "3   4  ...             618\n",
              "4   5  ...             543\n",
              "\n",
              "[5 rows x 5 columns]"
            ]
          },
          "metadata": {
            "tags": []
          },
          "execution_count": 54
        }
      ]
    },
    {
      "cell_type": "code",
      "metadata": {
        "colab": {
          "base_uri": "https://localhost:8080/"
        },
        "id": "04f9avsPXX89",
        "outputId": "7d023662-d217-424d-c267-93509a6dc2df"
      },
      "source": [
        "# Inspect the cleaned summaries and texts to ensure they have been cleaned well\n",
        "for i in range(5):\n",
        "    print(\"Clean Review #\",i+1)\n",
        "    print(clean_summaries[i])\n",
        "    print(clean_texts[i])\n",
        "    print()"
      ],
      "execution_count": null,
      "outputs": [
        {
          "output_type": "stream",
          "text": [
            "Clean Review # 1\n",
            "plans to shed 71 000 civil service jobs will prove to be a  false economy  that could hamper public sector reforms  according to a tuc report  public services are improving but looking for simple savings through job cuts at this stage could be a false economy  they may shoot a tory fox  but cutting thousands of civil service jobs will hit the morale and capabilities of the public servants expected to implement government reforms public and commercial services union members have already voted to strike over cuts for one day on 5 november general secretary brendan barber warned the  costs could easily outweigh the benefits  the costs could easily outweigh the benefits  \n",
            "job cuts false economy tuc plans shed 71 000 civil service jobs prove false economy could hamper public sector reforms according tuc report public commercial services union members already voted strike cuts one day 5 november tuc said cuts would deliver less 6 £22bn ministers hope save efficiency reforms general secretary brendan barber warned costs could easily outweigh benefits government big boost public spending showing results said mr barber public services improving looking simple savings job cuts stage could false economy may shoot tory fox cutting thousands civil service jobs hit morale capabilities public servants expected implement government reforms costs could easily outweigh benefits next friday strike action pcs biggest civil service since 1993 hitting jobcentres benefit agencies pensions offices customs driving tests union says concerned pensions sick pay forced relocation well cut jobs last month announced total 37 social security offices jobcentres across uk would close first wave plans shed civil service jobs number civil servants britain rose 520 000 april areas strike affect include passports museums galleries libraries health safety inspections\n",
            "\n",
            "Clean Review # 2\n",
            "ms gavron said she thought mr livingstone s comments were  inappropriate  but she did not believe the mayor was anti semitic speaking after the investigation was announced bob neill  leader of the london assembly conservatives  said   he has behaved in a manner unbecoming of his office and in so doing  has shown extraordinarily poor civic leadership an investigation by the standards board is under way following allegations that ken livingstone has brought his office into disrepute on sunday  deputy mayor nicky gavron told the bbc s politics show she believed the mayor of london would say sorry on tuesday for offending the wider jewish community it has the power to suspend or bar labour s mr livingstone from office the prime minister tony blair is among those who have called for an apology but so far the mayor has refused \n",
            "probe launched ken nazi jibe investigation standards board way following allegations ken livingstone brought office disrepute probe follows london mayor comments jewish journalist comparing concentration camp guard party week ago local government watchdog also said allegation related failure respect others power suspend bar labour mr livingstone office complaint made body board deputies british jews commission racial equality speaking investigation announced bob neill leader london assembly conservatives said behaved manner unbecoming office shown extraordinarily poor civic leadership administration crisis sunday deputy mayor nicky gavron told bbc politics show believed mayor london would say sorry tuesday offending wider jewish community prime minister tony blair among called apology far mayor refused mayor accused oliver finegold evening standard newspaper doorstepping predominately gay event held mp chris smith ms gavron said thought mr livingstone comments inappropriate believe mayor anti semitic said work closely ken speak like guarded unguarded moments way anti jewish would moment work hand think remarks inappropriate believe important believe come point says regret caused offence wider jewish community hope soon mooted going make sort statement tuesday\n",
            "\n",
            "Clean Review # 3\n",
            "in his speech  mr blair contrasted a reformed labour party  which had learned to occupy the political centre ground  with a hidebound tory party  which he said would turn the clock back with spending cuts tory leader michael howard has said his party would cut £35bn in  wasteful  spending to allow £4bn in tax cuts mr blair said   the conservative tax and spending proposals would put at risk  both britain s hard won economic stability   the lowest mortgages  inflation  unemployment  for decades   and the key investment in public services the chancellor said the conservatives  plans would see some £50bn in spending cuts by 2011  which the tories deny meanwhile  tory shadow chancellor oliver letwin accused mr blair of  misrepresenting  the party s proposals and questioned how labour would fund its own plans on saturday  tory shadow home secretary david davis said the tories would fund the cuts by removing  inefficiencies  which had  burgeoned  under labour the prime minister has told a labour party gathering that the tory policies would cause economic failure in response  david davis said the tories would make cuts  such as removing regional assemblies  but would bring in more police officers and match labour s spending on health and education mr davis said labour had been responsible for  huge waste  huge overspending  not on the frontline at all but on bureaucracy   once again mr blair and his chancellor have failed to answer the question that lies at the heart of this election   which taxes will they put up to fill the £8bn shortfall in their plans  \n",
            "blair blasts tory spending plans tony blair launched attack conservative spending plans saying ludicrous improbability prime minister told labour party gathering tory policies would cause economic failure tory leader michael howard said party would cut £35bn wasteful spending allow £4bn tax cuts saturday tory shadow home secretary david davis said tories would fund cuts removing inefficiencies burgeoned labour speech mr blair contrasted reformed labour party learned occupy political centre ground hidebound tory party said would turn clock back spending cuts mr blair said conservative tax spending proposals would put risk britain hard economic stability lowest mortgages inflation unemployment decades key investment public services believe tory plans plain call return past possible imagine said recipe exactly boom bust economics cuts public services hallmark 18 years conservative government mr blair added conservatives learned nothing contrast said new labour listened electorate changed mr blair went list government achievements issue rallying call party choice defend record build go fulfil promise give go back say fight response david davis said tories would make cuts removing regional assemblies would bring police officers match labour spending health education everybody knows lived government last seven years faced lots stealth tactics lots increases taxes improvement public services said mr davis said labour responsible huge waste huge overspending frontline bureaucracy public face choice waste taxes government less waste lower taxes tory government concluded gordon brown addressed conference behind closed doors chancellor said conservatives plans would see £50bn spending cuts 2011 tories deny mr brown also issued call party unity warn dangers allowing distracted diverted according advance text released officials told delegates must show strength unity purpose take long term decisions necessary meet mr brown warned tories planning biggest cuts ever history election manifesto meanwhile tory shadow chancellor oliver letwin accused mr blair misrepresenting party proposals questioned labour would fund plans still cannot accept simple truth spend matters people schools hospitals police offer value money lower taxes mr letwin said mr blair chancellor failed answer question lies heart election taxes put fill £8bn shortfall plans\n",
            "\n",
            "Clean Review # 4\n",
            " after that downing street proceeded to set out his  lord goldsmith s  view in a parliamentary answer which was then published on 17 march   said mr sands downing street has denied the claims  made in a new book about the attorney general lord goldsmith s advice but a short statement about lord goldsmith s position was presented in a written parliamentary answer on 17 march 2003   just before a crucial commons vote on the military action in a statement to newsnight  lord goldsmith said   in my parliamentary answer on march 17 2003  i explained my genuinely held independent view  that military action was lawful under the existing security council resolutions this would be wrong even if lord goldsmith had signed the statement  mr cook said  because the attorney general s advice should be an  independent legal opinion   not subject to  political negotiation of this kind  lord goldsmith also denied them  saying he was not  leaned on  in any way the government has consistently refused to publish lord goldsmith s advice on the legality of the war   saying such papers have always been kept confidential the tories say ministers must respond in parliament to claims that the legal advice used to justify the iraq war was drawn up at number 10 liberal democrat foreign affairs spokesman menzies campbell repeated his party s calls for lord goldsmith s first piece of legal advice to be made public but the conservatives and liberal democrats say they want the publication of the full legal advice given by the attorney general \n",
            "iraq advice claim sparks new row tories say ministers must respond parliament claims legal advice used justify iraq war drawn number 10 downing street denied claims made new book attorney general lord goldsmith advice lord goldsmith also denied saying leaned way conservatives liberal democrats say want publication full legal advice given attorney general government consistently refused publish lord goldsmith advice legality war saying papers always kept confidential short statement lord goldsmith position presented written parliamentary answer 17 march 2003 crucial commons vote military action said plain iraq continued material breach un resolution 1441 new book lawless world philippe sands qc international law professor suggests parliamentary answer written downing street according mr sands lord goldsmith warned tony blair document 7 march 2003 use force iraq could illegal would safer seek second un resolution sanctioning military action mr sands told newsnight government prepared legal team able defend case case legal action taken uk war 10 march military chiefs reportedly asked unequivocal statement legality war make sure troops could defended court law book serialised guardian newspaper says 13 march lord goldsmith met home office minister lord falconer downing street adviser baroness morgan downing street proceeded set lord goldsmith view parliamentary answer published 17 march said mr sands tory leader michael howard reiterated calls publication full legal advice given attorney general warning issue go away revelations throw intensive spotlight cavalier way government operates even issue important peace war government needs act restore public confidence trust liberal democrat foreign affairs spokesman menzies campbell repeated party calls lord goldsmith first piece legal advice made public public interest government claims justifies non publication whole advice served fullest disclosure statement newsnight lord goldsmith said parliamentary answer march 17 2003 explained genuinely held independent view military action lawful existing security council resolutions certainly view expressed result leaned way already made clear written number 10 prime minister official spokesman also rejected claims saying attorney general made clear words judgement ex foreign secretary robin cook says advice published said claims suggested parliament received pr 233 cis lord goldsmith second opinion actually drafted 10 would wrong even lord goldsmith signed statement mr cook said attorney general advice independent legal opinion subject political negotiation kind\n",
            "\n",
            "Clean Review # 5\n",
            "but she said there was a difference between the experiences of women before the 1997 intake and afterwards even after the great influx of women mps at the 1997 general election  and greater numbers of women in the cabinet  female mps often say they feel stuck on the edge of a male world this was mainly because there were more women present in parliament who were not prepared to  put up with  the sexist attitudes they came across  prof lovenduski said male mps pretended to juggle imaginary breasts and jeered  melons  as women made commons speeches  researchers from birkbeck college were told prof joni lovenduski  who conducted the study with the help of margaret moran mp and a team of journalists  said she was shocked at the findings but she added   some women  including the women who came in 1997  received extraordinary treatment and i am not convinced that if the number of women changed back to what it was before 1997 that things would not change back labour s yvette cooper said she found it hard to persuade commons officials she was a minister and not a secretary women mps endure  shocking  levels of sexist abuse at the hands of their male counterparts  a new study shows and ex tory education secretary gillian shepherd remembered how one of her male colleagues called all women  betty  barbara follet  one of the so called  blair babes  elected in 1997  told researchers   i remember some conservatives   whenever a labour woman got up to speak they would take their breasts   imaginary breasts   in their hands and wiggle them and say  melons  as we spoke  \n",
            "women mps reveal sexist taunts women mps endure shocking levels sexist abuse hands male counterparts new study shows male mps pretended juggle imaginary breasts jeered melons women made commons speeches researchers birkbeck college told labour yvette cooper said found hard persuade commons officials minister secretary 83 mps gave answers 100 hours taped interviews study whose secretary minister research team professor joni lovenduski set look achievements experiences women westminster emerged complaints mps parties sexist barracking chamber sexist insults patronising assumptions abilities barbara follet one called blair babes elected 1997 told researchers remember conservatives whenever labour woman got speak would take breasts imaginary breasts hands wiggle say melons spoke former liberal democrat mp jackie ballard recalled stream remarks leading mp topics women legs sexual persuasion ex tory education secretary gillian shepherd remembered one male colleagues called women betty said look know name betty said ah call betty harriet harman told researchers sheer hostility prompted advancement cabinet well succeeded woman another current member cabinet says told oh fast rise sleeping even great influx women mps 1997 general election greater numbers women cabinet female mps often say feel stuck edge male world liberal democrat sarah teather recent female mp elected told researchers lots people say like old boys club always said feels like teenage public school know public school full teenagers prof joni lovenduski conducted study help margaret moran mp team journalists said shocked findings expected bit nothing like extent expected find couple shocking episodes said difference experiences women 1997 intake afterwards mainly women present parliament prepared put sexist attitudes came across prof lovenduski said added women including women came 1997 received extraordinary treatment convinced number women changed back 1997 things would change back think shocking general public things go house commons interviews placed british library historical record\n",
            "\n"
          ],
          "name": "stdout"
        }
      ]
    },
    {
      "cell_type": "code",
      "metadata": {
        "id": "jbUEKxGfXdJf"
      },
      "source": [
        "def count_words(count_dict, text):\n",
        "    '''Count the number of occurrences of each word in a set of text'''\n",
        "    for sentence in text:\n",
        "        for word in sentence.split():\n",
        "            if word not in count_dict:\n",
        "                count_dict[word] = 1\n",
        "            else:\n",
        "                count_dict[word] += 1"
      ],
      "execution_count": null,
      "outputs": []
    },
    {
      "cell_type": "code",
      "metadata": {
        "colab": {
          "base_uri": "https://localhost:8080/"
        },
        "id": "DfH6bw8vXlyA",
        "outputId": "a21aff8e-1ef1-456f-b64f-0f96a100dbbf"
      },
      "source": [
        "# Find the number of times each word was used and the size of the vocabulary\n",
        "word_counts = {}\n",
        "\n",
        "count_words(word_counts, clean_summaries)\n",
        "count_words(word_counts, clean_texts)\n",
        "            \n",
        "print(\"Size of Vocabulary:\", len(word_counts))"
      ],
      "execution_count": null,
      "outputs": [
        {
          "output_type": "stream",
          "text": [
            "Size of Vocabulary: 11306\n"
          ],
          "name": "stdout"
        }
      ]
    },
    {
      "cell_type": "code",
      "metadata": {
        "id": "C_NZud7gZtpC"
      },
      "source": [
        "import numpy as np\n",
        "\n",
        "\n",
        "def printPercentilevalues(dataframe,start,end,jump):\n",
        " for i in range(start,end,jump):\n",
        "   var=dataframe.values\n",
        "   var=np.sort(var,axis=None)\n",
        "   print(\"{} Percentile is {}\".format(i,var[int(len(var)*float(i)/100)]))\n"
      ],
      "execution_count": null,
      "outputs": []
    },
    {
      "cell_type": "code",
      "metadata": {
        "colab": {
          "base_uri": "https://localhost:8080/"
        },
        "id": "NlMZG3h_fhwn",
        "outputId": "cd66d730-b89d-44ba-c94d-abe2d3dad1c4"
      },
      "source": [
        "print(\"PERCENTILE OF NEWS LENGTH\")\n",
        "printPercentilevalues(data['WORD_COUNT_TEXT'],0,100,10)\n",
        "print(\"PERCENTILE OF SUMMARY LENGTH\")\n",
        "printPercentilevalues(data['WORD_COUNT_SUMMARY'],0,100,10)\n",
        "print(\"90-100/PERCENTILE OF NEWS LENGTH\")\n",
        "printPercentilevalues(data['WORD_COUNT_TEXT'],90,100,1)\n",
        "print(\"90-100/PERCENTILE OF SUMMARY LENGTH\")\n",
        "printPercentilevalues(data['WORD_COUNT_SUMMARY'],90,100,1)\n",
        "\n"
      ],
      "execution_count": null,
      "outputs": [
        {
          "output_type": "stream",
          "text": [
            "PERCENTILE OF NEWS LENGTH\n",
            "0 Percentile is 91\n",
            "10 Percentile is 253\n",
            "20 Percentile is 295\n",
            "30 Percentile is 350\n",
            "40 Percentile is 406\n",
            "50 Percentile is 450\n",
            "60 Percentile is 491\n",
            "70 Percentile is 518\n",
            "80 Percentile is 567\n",
            "90 Percentile is 621\n",
            "PERCENTILE OF SUMMARY LENGTH\n",
            "0 Percentile is 40\n",
            "10 Percentile is 106\n",
            "20 Percentile is 129\n",
            "30 Percentile is 151\n",
            "40 Percentile is 178\n",
            "50 Percentile is 197\n",
            "60 Percentile is 211\n",
            "70 Percentile is 231\n",
            "80 Percentile is 255\n",
            "90 Percentile is 289\n",
            "90-100/PERCENTILE OF NEWS LENGTH\n",
            "90 Percentile is 621\n",
            "91 Percentile is 625\n",
            "92 Percentile is 636\n",
            "93 Percentile is 647\n",
            "94 Percentile is 675\n",
            "95 Percentile is 696\n",
            "96 Percentile is 718\n",
            "97 Percentile is 767\n",
            "98 Percentile is 868\n",
            "99 Percentile is 985\n",
            "90-100/PERCENTILE OF SUMMARY LENGTH\n",
            "90 Percentile is 289\n",
            "91 Percentile is 290\n",
            "92 Percentile is 295\n",
            "93 Percentile is 301\n",
            "94 Percentile is 307\n",
            "95 Percentile is 320\n",
            "96 Percentile is 333\n",
            "97 Percentile is 339\n",
            "98 Percentile is 400\n",
            "99 Percentile is 453\n"
          ],
          "name": "stdout"
        }
      ]
    },
    {
      "cell_type": "code",
      "metadata": {
        "id": "sDsZa6uwdD2H"
      },
      "source": [
        "import matplotlib.pyplot as plt"
      ],
      "execution_count": null,
      "outputs": []
    },
    {
      "cell_type": "code",
      "metadata": {
        "colab": {
          "base_uri": "https://localhost:8080/",
          "height": 281
        },
        "id": "UonVBFEGguv_",
        "outputId": "88e60764-3069-4590-c95c-744aa97c3655"
      },
      "source": [
        "## PLOT HISTOGRAMS OF TEXT AND SUMMARY DISTRIBUTIONS\n",
        "import matplotlib.pyplot as plt\n",
        "text_word_count = []\n",
        "summary_word_count = []\n",
        "\n",
        "# populate the lists with sentence lengths\n",
        "for i in data['NEWS']:\n",
        "      text_word_count.append(len(i.split()))\n",
        "\n",
        "for i in data['SUMMARY']:\n",
        "      summary_word_count.append(len(i.split()))\n",
        "\n",
        "length_df = pd.DataFrame({'text':text_word_count, 'summary':summary_word_count})\n",
        "length_df.hist(bins=200)\n",
        "plt.show()"
      ],
      "execution_count": null,
      "outputs": [
        {
          "output_type": "display_data",
          "data": {
            "image/png": "[encoded data removed]",
            "text/plain": [
              "<Figure size 432x288 with 2 Axes>"
            ]
          },
          "metadata": {
            "tags": [],
            "needs_background": "light"
          }
        }
      ]
    },
    {
      "cell_type": "code",
      "metadata": {
        "id": "qZj47YMydLtP"
      },
      "source": [
        "\n",
        "def boxPlotFromSeriesObject(series,title):\n",
        "\n",
        " series.plot.box(title=title, xticks=[]);\n",
        " print(series.describe());\n",
        " plt.xlabel('Summary statistics through box and whisker');\n",
        " plt.show(block=True);"
      ],
      "execution_count": null,
      "outputs": []
    },
    {
      "cell_type": "code",
      "metadata": {
        "colab": {
          "base_uri": "https://localhost:8080/",
          "height": 845
        },
        "id": "Kil2hHI9jCPi",
        "outputId": "11621aaf-87b0-4423-b251-50b7febd18cd"
      },
      "source": [
        "boxPlotFromSeriesObject(data['WORD_COUNT_TEXT'],\"BOX_PLOT_FOR_NEWS\")\n",
        "boxPlotFromSeriesObject(data['WORD_COUNT_SUMMARY'],\"BOX_PLOT_FOR_SUMMARY\")\n"
      ],
      "execution_count": null,
      "outputs": [
        {
          "output_type": "stream",
          "text": [
            "count     417.000000\n",
            "mean      461.417266\n",
            "std       305.009392\n",
            "min        91.000000\n",
            "25%       321.000000\n",
            "50%       450.000000\n",
            "75%       535.000000\n",
            "max      4489.000000\n",
            "Name: WORD_COUNT_TEXT, dtype: float64\n"
          ],
          "name": "stdout"
        },
        {
          "output_type": "display_data",
          "data": {
            "image/png": "[encoded data removed]",
            "text/plain": [
              "<Figure size 432x288 with 1 Axes>"
            ]
          },
          "metadata": {
            "tags": [],
            "needs_background": "light"
          }
        },
        {
          "output_type": "stream",
          "text": [
            "count     417.000000\n",
            "mean      206.438849\n",
            "std       148.005430\n",
            "min        40.000000\n",
            "25%       140.000000\n",
            "50%       197.000000\n",
            "75%       243.000000\n",
            "max      2197.000000\n",
            "Name: WORD_COUNT_SUMMARY, dtype: float64\n"
          ],
          "name": "stdout"
        },
        {
          "output_type": "display_data",
          "data": {
            "image/png": "[encoded data removed]",
            "text/plain": [
              "<Figure size 432x288 with 1 Axes>"
            ]
          },
          "metadata": {
            "tags": [],
            "needs_background": "light"
          }
        }
      ]
    },
    {
      "cell_type": "code",
      "metadata": {
        "id": "wy-WuguZdufd"
      },
      "source": [
        "max_length_summary=206\n",
        "max_length_news=500\n"
      ],
      "execution_count": null,
      "outputs": []
    },
    {
      "cell_type": "code",
      "metadata": {
        "id": "CHyJiP4Pksqf"
      },
      "source": [
        "from sklearn.model_selection import train_test_split\n",
        "x_tr,x_val,y_tr,y_val=train_test_split(data['NEWS'],data['SUMMARY'],test_size=0.1,random_state=0,shuffle=True)"
      ],
      "execution_count": null,
      "outputs": []
    },
    {
      "cell_type": "code",
      "metadata": {
        "id": "8IVedC8zlJjf"
      },
      "source": [
        "#prepare a tokenizer for reviews on training data\n",
        "from keras.preprocessing.text import Tokenizer\n",
        "from keras.preprocessing.sequence import pad_sequences\n"
      ],
      "execution_count": null,
      "outputs": []
    },
    {
      "cell_type": "code",
      "metadata": {
        "id": "v_DMaV4BnLZS"
      },
      "source": [
        "def getTokenisedAndPaddedValuesForTrainingData(tr,val,maxlength):\n",
        "  x_tokenizer = Tokenizer()\n",
        "  x_tokenizer.fit_on_texts(list(tr))\n",
        "\n",
        "#convert text sequences into integer sequences\n",
        "  tr    =   x_tokenizer.texts_to_sequences(tr) \n",
        "  val   =   x_tokenizer.texts_to_sequences(val)\n",
        "\n",
        "#padding zero upto maximum length\n",
        "  tr    =   pad_sequences(tr,  maxlen=maxlength, padding='post') \n",
        "  val   =   pad_sequences(val, maxlen=maxlength, padding='post')\n",
        "\n",
        "  x_voc_size   =  len(x_tokenizer.word_index) +1\n",
        "  return tr,val,x_voc_size\n"
      ],
      "execution_count": null,
      "outputs": []
    },
    {
      "cell_type": "code",
      "metadata": {
        "id": "u5DnFLpEJf_9"
      },
      "source": [
        "def getTokeniserAndPaddedValuesForTrainingData(tr,val,maxlength):\n",
        "  x_tokenizer = Tokenizer()\n",
        "  x_tokenizer.fit_on_texts(list(tr))\n",
        "\n",
        "#convert text sequences into integer sequences\n",
        "  tr    =   x_tokenizer.texts_to_sequences(tr) \n",
        "  val   =   x_tokenizer.texts_to_sequences(val)\n",
        "\n",
        "#padding zero upto maximum length\n",
        "  tr    =   pad_sequences(tr,  maxlen=maxlength, padding='post') \n",
        "  val   =   pad_sequences(val, maxlen=maxlength, padding='post')\n",
        "\n",
        "  x_voc_size   =  len(x_tokenizer.word_index) +1\n",
        "  return tr,val,x_voc_size,x_tokenizer"
      ],
      "execution_count": null,
      "outputs": []
    },
    {
      "cell_type": "code",
      "metadata": {
        "colab": {
          "base_uri": "https://localhost:8080/"
        },
        "id": "uoNiV53j9r_1",
        "outputId": "53c1eb6c-bab8-4720-84cf-0f8df4ebc99a"
      },
      "source": [
        "#Loading our Glove Model \n",
        "embeddings_index = dict()\n",
        "f = open('/content/glove.6B.100d.txt')\n",
        "for line in f:\n",
        "\tvalues = line.split()\n",
        "\tword = values[0]\n",
        "\tcoefs = np.asarray(values[1:], dtype='float32')\n",
        "\tembeddings_index[word] = coefs\n",
        "f.close()\n",
        "print('Loaded %s word vectors.' % len(embeddings_index))\n",
        "\n",
        "#Calculating Percentage of words from train text present in Word2vec model\n",
        "words_source_train = []\n",
        "for i in data[\"NEWS\"] :\n",
        "  words_source_train.extend(i.split(' '))\n",
        "## Find the total number of words in the Train data of Essays.\n",
        "print(\"all the words in the corpus\", len(words_source_train))\n",
        "## Find the unique words in this set of words\n",
        "words_source_train = set(words_source_train)\n",
        "print(\"the unique words in the corpus\", len(words_source_train))\n",
        "## Find the words present in both Glove Vectors as well as our corpus.\n",
        "inter_words = set(embeddings_index.keys()).intersection(words_source_train)\n",
        "print(\"The number of words that are present in both glove vectors and our corpus are {} which \\\n",
        "is nearly {}% \".format(len(inter_words), np.round((float(len(inter_words))/len(words_source_train))\n",
        "*100)))\n",
        "words_corpus_source_train = {}\n",
        "words_glove = set(embeddings_index.keys())\n",
        "for i in words_source_train:\n",
        "  if i in words_glove:\n",
        "    words_corpus_source_train[i] = embeddings_index[i]\n",
        "print(\"word 2 vec length\", len(words_corpus_source_train))"
      ],
      "execution_count": null,
      "outputs": [
        {
          "output_type": "stream",
          "text": [
            "Loaded 81788 word vectors.\n",
            "all the words in the corpus 217493\n",
            "the unique words in the corpus 11311\n",
            "The number of words that are present in both glove vectors and our corpus are 10482 which is nearly 93.0% \n",
            "word 2 vec length 10482\n"
          ],
          "name": "stdout"
        }
      ]
    },
    {
      "cell_type": "code",
      "metadata": {
        "id": "V2V_zDPKI0Xa"
      },
      "source": [
        "x_tr,x_val,x_voc_size,x_tokenizer=getTokeniserAndPaddedValuesForTrainingData(x_tr,x_val,max_length_news)\n",
        "word_index = x_tokenizer.word_index\n",
        "embedding_matrix = np.zeros((len(word_index) + 1, 100))\n",
        "for word, i in word_index.items():\n",
        "    embedding_vector = embeddings_index.get(word)\n",
        "    if embedding_vector is not None:\n",
        "        # words not found in embedding index will be all-zeros.\n",
        "        embedding_matrix[i] = embedding_vector"
      ],
      "execution_count": null,
      "outputs": []
    },
    {
      "cell_type": "code",
      "metadata": {
        "colab": {
          "base_uri": "https://localhost:8080/"
        },
        "id": "aWZMvxwuKuFK",
        "outputId": "c148ce69-d085-4759-a9e5-3fbfe0bbae04"
      },
      "source": [
        "print(embedding_matrix.shape)"
      ],
      "execution_count": null,
      "outputs": [
        {
          "output_type": "stream",
          "text": [
            "(10773, 100)\n"
          ],
          "name": "stdout"
        }
      ]
    },
    {
      "cell_type": "code",
      "metadata": {
        "id": "NoTAp-m8oXSS"
      },
      "source": [
        "x_tr,x_val,x_voc_size=getTokenisedAndPaddedValuesForTrainingData(x_tr,x_val,max_length_summary)\n",
        "y_tr,y_val,y_voc_size=getTokenisedAndPaddedValuesForTrainingData(y_tr,y_val,max_length_summary)\n"
      ],
      "execution_count": null,
      "outputs": []
    },
    {
      "cell_type": "code",
      "metadata": {
        "colab": {
          "base_uri": "https://localhost:8080/"
        },
        "id": "Ym5Tq-4SVopi",
        "outputId": "f785cf34-240b-4b8c-881b-6b8a9ba665a3"
      },
      "source": [
        "print(str(x_tr.shape))\n",
        "print(str(y_val.shape))"
      ],
      "execution_count": null,
      "outputs": [
        {
          "output_type": "stream",
          "text": [
            "(375, 206)\n",
            "(42, 206)\n"
          ],
          "name": "stdout"
        }
      ]
    },
    {
      "cell_type": "code",
      "metadata": {
        "colab": {
          "base_uri": "https://localhost:8080/"
        },
        "id": "0pO-XPZ8UCVA",
        "outputId": "0495f1dd-b55b-4eca-ea55-e6e3ee679335"
      },
      "source": [
        "!git clone https://github.com/chen0040/keras-text-summarization.git"
      ],
      "execution_count": null,
      "outputs": [
        {
          "output_type": "stream",
          "text": [
            "Cloning into 'keras-text-summarization'...\n",
            "remote: Enumerating objects: 552, done.\u001b[K\n",
            "remote: Total 552 (delta 0), reused 0 (delta 0), pack-reused 552\u001b[K\n",
            "Receiving objects: 100% (552/552), 312.25 MiB | 29.52 MiB/s, done.\n",
            "Resolving deltas: 100% (330/330), done.\n"
          ],
          "name": "stdout"
        }
      ]
    },
    {
      "cell_type": "code",
      "metadata": {
        "colab": {
          "base_uri": "https://localhost:8080/"
        },
        "id": "z-rLPtL1dU-E",
        "outputId": "5023a614-800d-41db-ada5-01461ead7107"
      },
      "source": [
        "!pip3 install rogue\n",
        "!pip install rouge-score"
      ],
      "execution_count": null,
      "outputs": [
        {
          "output_type": "stream",
          "text": [
            "Requirement already satisfied: rogue in /usr/local/lib/python3.7/dist-packages (0.0.2)\n",
            "Requirement already satisfied: rouge-score in /usr/local/lib/python3.7/dist-packages (0.0.4)\n",
            "Requirement already satisfied: nltk in /usr/local/lib/python3.7/dist-packages (from rouge-score) (3.2.5)\n",
            "Requirement already satisfied: numpy in /usr/local/lib/python3.7/dist-packages (from rouge-score) (1.19.5)\n",
            "Requirement already satisfied: absl-py in /usr/local/lib/python3.7/dist-packages (from rouge-score) (0.12.0)\n",
            "Requirement already satisfied: six>=1.14.0 in /usr/local/lib/python3.7/dist-packages (from rouge-score) (1.15.0)\n"
          ],
          "name": "stdout"
        }
      ]
    },
    {
      "cell_type": "code",
      "metadata": {
        "colab": {
          "base_uri": "https://localhost:8080/",
          "height": 1000
        },
        "id": "aPDqZRpm_SWC",
        "outputId": "c8c6cf78-67d5-4b62-de51-068d6084547f"
      },
      "source": [
        "%cd /content/keras-text-summarization\n",
        "from __future__ import print_function\n",
        "\n",
        "import pandas as pd\n",
        "from sklearn.model_selection import train_test_split\n",
        "from keras_text_summarization.library.utility.plot_utils import plot_and_save_history\n",
        "from keras_text_summarization.library.seq2seq import Seq2SeqSummarizer\n",
        "from keras_text_summarization.library.applications.fake_news_loader import fit_text\n",
        "import numpy as np\n",
        "\n",
        "LOAD_EXISTING_WEIGHTS = True\n",
        "\n",
        "np.random.seed(42)\n",
        "data_dir_path = '/content' # refers to the demo/data folder\n",
        "model_dir_path = '/content/keras-text-summarization/demo/models/' # refers to the demo/models folder\n",
        "report_dir_path = './content'\n",
        "\n",
        "\n",
        "print('loading csv file ...')\n",
        "df = pd.read_csv(data_dir_path + \"/summary-dataset.csv\",error_bad_lines=False,delimiter=\"$\")\n",
        "\n",
        "print('extract configuration from input texts ...')\n",
        "X = df['NEWS']\n",
        "Y = df['SUMMARY']\n",
        "\n",
        "\n",
        "config = fit_text(X, Y,target_seq_max_length=206)\n",
        "\n",
        "summarizer = Seq2SeqSummarizer(config)\n",
        "\n",
        "if LOAD_EXISTING_WEIGHTS:\n",
        "    summarizer.load_weights(weight_file_path=Seq2SeqSummarizer.get_weight_file_path(model_dir_path=model_dir_path))\n",
        "\n",
        "Xtrain, Xtest, Ytrain, Ytest = train_test_split(X, Y, test_size=0.2, random_state=42)\n",
        "\n",
        "history = summarizer.fit(Xtrain, Ytrain, Xtest, Ytest, epochs=100,model_dir_path=model_dir_path)\n",
        "\n",
        "history_plot_file_path = report_dir_path + '/' + Seq2SeqSummarizer.model_name + '-history.png'\n",
        "if LOAD_EXISTING_WEIGHTS:\n",
        "    history_plot_file_path = report_dir_path + '/' + Seq2SeqSummarizer.model_name + '-history-v' + str(summarizer.version) + '.png'\n",
        "plot_and_save_history(history, summarizer.model_name, history_plot_file_path, metrics={'loss', 'acc'})\n",
        "\n",
        "\n"
      ],
      "execution_count": null,
      "outputs": [
        {
          "output_type": "stream",
          "text": [
            "/content/keras-text-summarization\n",
            "loading csv file ...\n",
            "extract configuration from input texts ...\n"
          ],
          "name": "stdout"
        },
        {
          "output_type": "stream",
          "text": [
            "/content/keras-text-summarization/keras_text_summarization/library/seq2seq.py:97: VisibleDeprecationWarning: Creating an ndarray from ragged nested sequences (which is a list-or-tuple of lists-or-tuples-or ndarrays with different lengths or shapes) is deprecated. If you meant to do this, you must specify 'dtype=object' when creating the ndarray\n",
            "  temp = np.array(temp)\n",
            "/usr/local/lib/python3.7/dist-packages/keras/engine/training.py:1915: UserWarning: `Model.fit_generator` is deprecated and will be removed in a future version. Please use `Model.fit`, which supports generators.\n",
            "  warnings.warn('`Model.fit_generator` is deprecated and '\n"
          ],
          "name": "stderr"
        },
        {
          "output_type": "stream",
          "text": [
            "(333,)\n",
            "(84,)\n",
            "(333, 500)\n",
            "(84, 500)\n",
            "Epoch 1/100\n",
            "5/5 [==============================] - 55s 5s/step - loss: 11.3257 - accuracy: 0.0131 - val_loss: 11.5405 - val_accuracy: 0.0170\n",
            "Epoch 2/100\n",
            "5/5 [==============================] - 21s 4s/step - loss: 12.2091 - accuracy: 0.0169 - val_loss: 12.1072 - val_accuracy: 0.0195\n",
            "Epoch 3/100\n",
            "5/5 [==============================] - 22s 4s/step - loss: 12.2843 - accuracy: 0.0174 - val_loss: 11.5994 - val_accuracy: 0.0190\n",
            "Epoch 4/100\n",
            "5/5 [==============================] - 21s 4s/step - loss: 11.7238 - accuracy: 0.0173 - val_loss: 11.9127 - val_accuracy: 0.0199\n",
            "Epoch 5/100\n",
            "5/5 [==============================] - 24s 5s/step - loss: 11.9835 - accuracy: 0.0187 - val_loss: 11.2659 - val_accuracy: 0.0178\n",
            "Epoch 6/100\n",
            "5/5 [==============================] - 21s 4s/step - loss: 11.1603 - accuracy: 0.0166 - val_loss: 10.5007 - val_accuracy: 0.0157\n",
            "Epoch 7/100\n",
            "5/5 [==============================] - 21s 4s/step - loss: 10.7403 - accuracy: 0.0156 - val_loss: 11.1744 - val_accuracy: 0.0178\n",
            "Epoch 8/100\n",
            "5/5 [==============================] - 21s 4s/step - loss: 11.2569 - accuracy: 0.0176 - val_loss: 10.7108 - val_accuracy: 0.0182\n",
            "Epoch 9/100\n",
            "5/5 [==============================] - 22s 4s/step - loss: 10.7091 - accuracy: 0.0166 - val_loss: 10.2252 - val_accuracy: 0.0172\n",
            "Epoch 10/100\n",
            "5/5 [==============================] - 21s 4s/step - loss: 10.1561 - accuracy: 0.0150 - val_loss: 9.7413 - val_accuracy: 0.0153\n",
            "Epoch 11/100\n",
            "5/5 [==============================] - 23s 5s/step - loss: 9.7036 - accuracy: 0.0139 - val_loss: 9.3555 - val_accuracy: 0.0147\n",
            "Epoch 12/100\n",
            "5/5 [==============================] - 22s 4s/step - loss: 9.2967 - accuracy: 0.0131 - val_loss: 8.9779 - val_accuracy: 0.0136\n",
            "Epoch 13/100\n",
            "5/5 [==============================] - 22s 5s/step - loss: 8.9099 - accuracy: 0.0120 - val_loss: 8.6288 - val_accuracy: 0.0125\n",
            "Epoch 14/100\n",
            "5/5 [==============================] - 21s 4s/step - loss: 8.5568 - accuracy: 0.0112 - val_loss: 8.3136 - val_accuracy: 0.0121\n",
            "Epoch 15/100\n",
            "5/5 [==============================] - 22s 4s/step - loss: 8.2273 - accuracy: 0.0111 - val_loss: 7.9889 - val_accuracy: 0.0103\n",
            "Epoch 16/100\n",
            "5/5 [==============================] - 21s 4s/step - loss: 7.8952 - accuracy: 0.0097 - val_loss: 7.6713 - val_accuracy: 0.0093\n",
            "Epoch 17/100\n",
            "5/5 [==============================] - 21s 4s/step - loss: 7.5773 - accuracy: 0.0084 - val_loss: 7.3747 - val_accuracy: 0.0093\n",
            "Epoch 18/100\n",
            "5/5 [==============================] - 21s 4s/step - loss: 7.2914 - accuracy: 0.0074 - val_loss: 7.1084 - val_accuracy: 0.0080\n",
            "Epoch 19/100\n",
            "5/5 [==============================] - 21s 4s/step - loss: 7.0208 - accuracy: 0.0073 - val_loss: 6.8606 - val_accuracy: 0.0081\n",
            "Epoch 20/100\n",
            "5/5 [==============================] - 21s 4s/step - loss: 6.7783 - accuracy: 0.0074 - val_loss: 6.6226 - val_accuracy: 0.0078\n",
            "Epoch 21/100\n",
            "5/5 [==============================] - 21s 4s/step - loss: 6.5432 - accuracy: 0.0071 - val_loss: 6.4097 - val_accuracy: 0.0077\n",
            "Epoch 22/100\n",
            "5/5 [==============================] - 21s 4s/step - loss: 6.3351 - accuracy: 0.0076 - val_loss: 6.2147 - val_accuracy: 0.0080\n",
            "Epoch 23/100\n",
            "5/5 [==============================] - 23s 5s/step - loss: 6.1500 - accuracy: 0.0076 - val_loss: 6.0588 - val_accuracy: 0.0072\n",
            "Epoch 24/100\n",
            "5/5 [==============================] - 20s 4s/step - loss: 6.0045 - accuracy: 0.0079 - val_loss: 5.9426 - val_accuracy: 0.0081\n",
            "Epoch 25/100\n",
            "5/5 [==============================] - 22s 5s/step - loss: 5.8918 - accuracy: 0.0098 - val_loss: 5.8431 - val_accuracy: 0.0126\n",
            "Epoch 26/100\n",
            "5/5 [==============================] - 22s 5s/step - loss: 5.7896 - accuracy: 0.0142 - val_loss: 5.7561 - val_accuracy: 0.0157\n",
            "Epoch 27/100\n",
            "5/5 [==============================] - 23s 5s/step - loss: 5.7114 - accuracy: 0.0179 - val_loss: 5.6957 - val_accuracy: 0.0149\n",
            "Epoch 28/100\n",
            "5/5 [==============================] - 22s 5s/step - loss: 5.6652 - accuracy: 0.0169 - val_loss: 5.6363 - val_accuracy: 0.0160\n",
            "Epoch 29/100\n",
            "5/5 [==============================] - 23s 5s/step - loss: 5.5929 - accuracy: 0.0192 - val_loss: 5.5329 - val_accuracy: 0.0231\n",
            "Epoch 30/100\n",
            "5/5 [==============================] - 23s 5s/step - loss: 5.4909 - accuracy: 0.0246 - val_loss: 5.4276 - val_accuracy: 0.0297\n",
            "Epoch 31/100\n",
            "5/5 [==============================] - 25s 5s/step - loss: 5.3856 - accuracy: 0.0302 - val_loss: 5.3435 - val_accuracy: 0.0308\n",
            "Epoch 32/100\n",
            "5/5 [==============================] - 27s 6s/step - loss: 5.2985 - accuracy: 0.0330 - val_loss: 5.2701 - val_accuracy: 0.0341\n",
            "Epoch 33/100\n",
            "5/5 [==============================] - 24s 5s/step - loss: 5.2254 - accuracy: 0.0349 - val_loss: 5.2464 - val_accuracy: 0.0308\n",
            "Epoch 34/100\n",
            "5/5 [==============================] - 24s 5s/step - loss: 5.1993 - accuracy: 0.0306 - val_loss: 5.1944 - val_accuracy: 0.0205\n",
            "Epoch 35/100\n",
            "5/5 [==============================] - 24s 5s/step - loss: 5.1515 - accuracy: 0.0231 - val_loss: 5.1569 - val_accuracy: 0.0158\n",
            "Epoch 36/100\n",
            "5/5 [==============================] - 23s 5s/step - loss: 5.1122 - accuracy: 0.0190 - val_loss: 5.1339 - val_accuracy: 0.0118\n",
            "Epoch 37/100\n",
            "5/5 [==============================] - 24s 5s/step - loss: 5.0839 - accuracy: 0.0158 - val_loss: 5.0918 - val_accuracy: 0.0116\n",
            "Epoch 38/100\n",
            "5/5 [==============================] - 23s 5s/step - loss: 5.0351 - accuracy: 0.0173 - val_loss: 5.0389 - val_accuracy: 0.0145\n",
            "Epoch 39/100\n",
            "5/5 [==============================] - 24s 5s/step - loss: 4.9889 - accuracy: 0.0179 - val_loss: 4.9953 - val_accuracy: 0.0137\n",
            "Epoch 40/100\n",
            "5/5 [==============================] - 23s 5s/step - loss: 4.9404 - accuracy: 0.0174 - val_loss: 4.9405 - val_accuracy: 0.0164\n",
            "Epoch 41/100\n",
            "5/5 [==============================] - 24s 5s/step - loss: 4.9108 - accuracy: 0.0214 - val_loss: 5.0146 - val_accuracy: 0.0243\n",
            "Epoch 42/100\n",
            "5/5 [==============================] - 23s 5s/step - loss: 4.9479 - accuracy: 0.0301 - val_loss: 4.9504 - val_accuracy: 0.0262\n",
            "Epoch 43/100\n",
            "5/5 [==============================] - 23s 5s/step - loss: 4.8868 - accuracy: 0.0307 - val_loss: 4.8909 - val_accuracy: 0.0319\n",
            "Epoch 44/100\n",
            "5/5 [==============================] - 23s 5s/step - loss: 4.8662 - accuracy: 0.0356 - val_loss: 4.8657 - val_accuracy: 0.0359\n",
            "Epoch 45/100\n",
            "5/5 [==============================] - 23s 5s/step - loss: 4.8518 - accuracy: 0.0358 - val_loss: 4.8474 - val_accuracy: 0.0287\n",
            "Epoch 46/100\n",
            "5/5 [==============================] - 23s 5s/step - loss: 4.7987 - accuracy: 0.0344 - val_loss: 4.7874 - val_accuracy: 0.0319\n",
            "Epoch 47/100\n",
            "5/5 [==============================] - 23s 5s/step - loss: 4.7390 - accuracy: 0.0368 - val_loss: 4.7418 - val_accuracy: 0.0351\n",
            "Epoch 48/100\n",
            "5/5 [==============================] - 23s 5s/step - loss: 4.6951 - accuracy: 0.0399 - val_loss: 4.7340 - val_accuracy: 0.0360\n",
            "Epoch 49/100\n",
            "5/5 [==============================] - 23s 5s/step - loss: 4.6880 - accuracy: 0.0401 - val_loss: 4.7328 - val_accuracy: 0.0363\n",
            "Epoch 50/100\n",
            "5/5 [==============================] - 23s 5s/step - loss: 4.6721 - accuracy: 0.0410 - val_loss: 4.7057 - val_accuracy: 0.0365\n",
            "Epoch 51/100\n",
            "5/5 [==============================] - 23s 5s/step - loss: 4.6447 - accuracy: 0.0418 - val_loss: 4.6810 - val_accuracy: 0.0385\n",
            "Epoch 52/100\n",
            "5/5 [==============================] - 24s 5s/step - loss: 4.6454 - accuracy: 0.0421 - val_loss: 4.6508 - val_accuracy: 0.0404\n",
            "Epoch 53/100\n",
            "5/5 [==============================] - 23s 5s/step - loss: 4.5910 - accuracy: 0.0428 - val_loss: 4.6028 - val_accuracy: 0.0401\n",
            "Epoch 54/100\n",
            "5/5 [==============================] - 23s 5s/step - loss: 4.5447 - accuracy: 0.0439 - val_loss: 4.5686 - val_accuracy: 0.0407\n",
            "Epoch 55/100\n",
            "5/5 [==============================] - 23s 5s/step - loss: 4.5116 - accuracy: 0.0450 - val_loss: 4.5427 - val_accuracy: 0.0415\n",
            "Epoch 56/100\n",
            "5/5 [==============================] - 23s 5s/step - loss: 4.4849 - accuracy: 0.0471 - val_loss: 4.5201 - val_accuracy: 0.0437\n",
            "Epoch 57/100\n",
            "5/5 [==============================] - 23s 5s/step - loss: 4.4616 - accuracy: 0.0489 - val_loss: 4.4997 - val_accuracy: 0.0463\n",
            "Epoch 58/100\n",
            "5/5 [==============================] - 28s 6s/step - loss: 4.4399 - accuracy: 0.0510 - val_loss: 4.4776 - val_accuracy: 0.0465\n",
            "Epoch 59/100\n",
            "5/5 [==============================] - 24s 5s/step - loss: 4.4158 - accuracy: 0.0512 - val_loss: 4.4539 - val_accuracy: 0.0470\n",
            "Epoch 60/100\n",
            "5/5 [==============================] - 24s 5s/step - loss: 4.3921 - accuracy: 0.0517 - val_loss: 4.4378 - val_accuracy: 0.0465\n",
            "Epoch 61/100\n",
            "5/5 [==============================] - 23s 5s/step - loss: 4.3736 - accuracy: 0.0516 - val_loss: 4.4258 - val_accuracy: 0.0449\n",
            "Epoch 62/100\n",
            "5/5 [==============================] - 23s 5s/step - loss: 4.4110 - accuracy: 0.0471 - val_loss: 4.5044 - val_accuracy: 0.0394\n",
            "Epoch 63/100\n",
            "5/5 [==============================] - 23s 5s/step - loss: 4.4285 - accuracy: 0.0448 - val_loss: 4.4696 - val_accuracy: 0.0403\n",
            "Epoch 64/100\n",
            "5/5 [==============================] - 24s 5s/step - loss: 4.4041 - accuracy: 0.0447 - val_loss: 4.4463 - val_accuracy: 0.0415\n",
            "Epoch 65/100\n",
            "5/5 [==============================] - 23s 5s/step - loss: 4.3670 - accuracy: 0.0470 - val_loss: 4.3994 - val_accuracy: 0.0454\n",
            "Epoch 66/100\n",
            "5/5 [==============================] - 27s 6s/step - loss: 4.3324 - accuracy: 0.0494 - val_loss: 4.3742 - val_accuracy: 0.0466\n",
            "Epoch 67/100\n",
            "5/5 [==============================] - 24s 5s/step - loss: 4.2965 - accuracy: 0.0511 - val_loss: 4.3527 - val_accuracy: 0.0464\n",
            "Epoch 68/100\n",
            "5/5 [==============================] - 23s 5s/step - loss: 4.2732 - accuracy: 0.0519 - val_loss: 4.3364 - val_accuracy: 0.0473\n",
            "Epoch 69/100\n",
            "5/5 [==============================] - 23s 5s/step - loss: 4.2618 - accuracy: 0.0514 - val_loss: 4.3333 - val_accuracy: 0.0466\n",
            "Epoch 70/100\n",
            "5/5 [==============================] - 24s 5s/step - loss: 4.2524 - accuracy: 0.0511 - val_loss: 4.3199 - val_accuracy: 0.0466\n",
            "Epoch 71/100\n",
            "5/5 [==============================] - 23s 5s/step - loss: 4.2443 - accuracy: 0.0514 - val_loss: 4.3215 - val_accuracy: 0.0466\n",
            "Epoch 72/100\n",
            "5/5 [==============================] - 25s 5s/step - loss: 4.2335 - accuracy: 0.0516 - val_loss: 4.3067 - val_accuracy: 0.0469\n",
            "Epoch 73/100\n",
            "5/5 [==============================] - 23s 5s/step - loss: 4.2239 - accuracy: 0.0520 - val_loss: 4.3033 - val_accuracy: 0.0471\n",
            "Epoch 74/100\n",
            "5/5 [==============================] - 23s 5s/step - loss: 4.2122 - accuracy: 0.0522 - val_loss: 4.2880 - val_accuracy: 0.0473\n",
            "Epoch 75/100\n",
            "5/5 [==============================] - 24s 5s/step - loss: 4.2010 - accuracy: 0.0527 - val_loss: 4.2829 - val_accuracy: 0.0473\n",
            "Epoch 76/100\n",
            "5/5 [==============================] - 24s 5s/step - loss: 4.1890 - accuracy: 0.0529 - val_loss: 4.2654 - val_accuracy: 0.0469\n",
            "Epoch 77/100\n",
            "5/5 [==============================] - 23s 5s/step - loss: 4.1768 - accuracy: 0.0530 - val_loss: 4.2592 - val_accuracy: 0.0472\n",
            "Epoch 78/100\n",
            "5/5 [==============================] - 23s 5s/step - loss: 4.1633 - accuracy: 0.0535 - val_loss: 4.2412 - val_accuracy: 0.0473\n",
            "Epoch 79/100\n",
            "5/5 [==============================] - 24s 5s/step - loss: 4.1510 - accuracy: 0.0535 - val_loss: 4.2351 - val_accuracy: 0.0471\n",
            "Epoch 80/100\n",
            "5/5 [==============================] - 22s 5s/step - loss: 4.1387 - accuracy: 0.0534 - val_loss: 4.2194 - val_accuracy: 0.0474\n",
            "Epoch 81/100\n",
            "5/5 [==============================] - 23s 5s/step - loss: 4.1285 - accuracy: 0.0536 - val_loss: 4.2150 - val_accuracy: 0.0473\n",
            "Epoch 82/100\n",
            "5/5 [==============================] - 25s 5s/step - loss: 4.1152 - accuracy: 0.0542 - val_loss: 4.2000 - val_accuracy: 0.0475\n",
            "Epoch 83/100\n",
            "5/5 [==============================] - 24s 5s/step - loss: 4.1065 - accuracy: 0.0545 - val_loss: 4.1921 - val_accuracy: 0.0472\n",
            "Epoch 84/100\n",
            "5/5 [==============================] - 23s 5s/step - loss: 4.0985 - accuracy: 0.0543 - val_loss: 4.1768 - val_accuracy: 0.0473\n",
            "Epoch 85/100\n",
            "5/5 [==============================] - 23s 5s/step - loss: 4.0905 - accuracy: 0.0546 - val_loss: 4.1855 - val_accuracy: 0.0475\n",
            "Epoch 86/100\n",
            "5/5 [==============================] - 22s 5s/step - loss: 4.0842 - accuracy: 0.0546 - val_loss: 4.1705 - val_accuracy: 0.0475\n",
            "Epoch 87/100\n",
            "5/5 [==============================] - 23s 5s/step - loss: 4.0758 - accuracy: 0.0554 - val_loss: 4.1686 - val_accuracy: 0.0476\n",
            "Epoch 88/100\n",
            "5/5 [==============================] - 24s 5s/step - loss: 4.0681 - accuracy: 0.0556 - val_loss: 4.1508 - val_accuracy: 0.0472\n",
            "Epoch 89/100\n",
            "5/5 [==============================] - 23s 5s/step - loss: 4.0633 - accuracy: 0.0552 - val_loss: 4.1572 - val_accuracy: 0.0465\n",
            "Epoch 90/100\n",
            "5/5 [==============================] - 22s 5s/step - loss: 4.0598 - accuracy: 0.0544 - val_loss: 4.1516 - val_accuracy: 0.0467\n",
            "Epoch 91/100\n",
            "5/5 [==============================] - 22s 4s/step - loss: 4.0562 - accuracy: 0.0544 - val_loss: 4.1599 - val_accuracy: 0.0468\n",
            "Epoch 92/100\n",
            "5/5 [==============================] - 28s 6s/step - loss: 4.0545 - accuracy: 0.0541 - val_loss: 4.1459 - val_accuracy: 0.0470\n",
            "Epoch 93/100\n",
            "5/5 [==============================] - 22s 5s/step - loss: 4.0499 - accuracy: 0.0546 - val_loss: 4.1417 - val_accuracy: 0.0469\n",
            "Epoch 94/100\n",
            "5/5 [==============================] - 23s 5s/step - loss: 4.0454 - accuracy: 0.0547 - val_loss: 4.1382 - val_accuracy: 0.0467\n",
            "Epoch 95/100\n",
            "5/5 [==============================] - 23s 5s/step - loss: 4.0411 - accuracy: 0.0553 - val_loss: 4.1387 - val_accuracy: 0.0471\n",
            "Epoch 96/100\n",
            "5/5 [==============================] - 24s 5s/step - loss: 4.0363 - accuracy: 0.0562 - val_loss: 4.1393 - val_accuracy: 0.0473\n",
            "Epoch 97/100\n",
            "5/5 [==============================] - 24s 5s/step - loss: 4.0317 - accuracy: 0.0561 - val_loss: 4.1328 - val_accuracy: 0.0476\n",
            "Epoch 98/100\n",
            "5/5 [==============================] - 24s 5s/step - loss: 4.0266 - accuracy: 0.0562 - val_loss: 4.1194 - val_accuracy: 0.0474\n",
            "Epoch 99/100\n",
            "5/5 [==============================] - 23s 5s/step - loss: 4.0220 - accuracy: 0.0564 - val_loss: 4.1205 - val_accuracy: 0.0475\n",
            "Epoch 100/100\n",
            "5/5 [==============================] - 24s 5s/step - loss: 4.0163 - accuracy: 0.0566 - val_loss: 4.1239 - val_accuracy: 0.0473\n"
          ],
          "name": "stdout"
        },
        {
          "output_type": "error",
          "ename": "KeyError",
          "evalue": "ignored",
          "traceback": [
            "\u001b[0;31m---------------------------------------------------------------------------\u001b[0m",
            "\u001b[0;31mKeyError\u001b[0m                                  Traceback (most recent call last)",
            "\u001b[0;32m<ipython-input-67-a56ddea2417d>\u001b[0m in \u001b[0;36m<module>\u001b[0;34m()\u001b[0m\n\u001b[1;32m     39\u001b[0m \u001b[0;32mif\u001b[0m \u001b[0mLOAD_EXISTING_WEIGHTS\u001b[0m\u001b[0;34m:\u001b[0m\u001b[0;34m\u001b[0m\u001b[0;34m\u001b[0m\u001b[0m\n\u001b[1;32m     40\u001b[0m     \u001b[0mhistory_plot_file_path\u001b[0m \u001b[0;34m=\u001b[0m \u001b[0mreport_dir_path\u001b[0m \u001b[0;34m+\u001b[0m \u001b[0;34m'/'\u001b[0m \u001b[0;34m+\u001b[0m \u001b[0mSeq2SeqSummarizer\u001b[0m\u001b[0;34m.\u001b[0m\u001b[0mmodel_name\u001b[0m \u001b[0;34m+\u001b[0m \u001b[0;34m'-history-v'\u001b[0m \u001b[0;34m+\u001b[0m \u001b[0mstr\u001b[0m\u001b[0;34m(\u001b[0m\u001b[0msummarizer\u001b[0m\u001b[0;34m.\u001b[0m\u001b[0mversion\u001b[0m\u001b[0;34m)\u001b[0m \u001b[0;34m+\u001b[0m \u001b[0;34m'.png'\u001b[0m\u001b[0;34m\u001b[0m\u001b[0;34m\u001b[0m\u001b[0m\n\u001b[0;32m---> 41\u001b[0;31m \u001b[0mplot_and_save_history\u001b[0m\u001b[0;34m(\u001b[0m\u001b[0mhistory\u001b[0m\u001b[0;34m,\u001b[0m \u001b[0msummarizer\u001b[0m\u001b[0;34m.\u001b[0m\u001b[0mmodel_name\u001b[0m\u001b[0;34m,\u001b[0m \u001b[0mhistory_plot_file_path\u001b[0m\u001b[0;34m,\u001b[0m \u001b[0mmetrics\u001b[0m\u001b[0;34m=\u001b[0m\u001b[0;34m{\u001b[0m\u001b[0;34m'loss'\u001b[0m\u001b[0;34m,\u001b[0m \u001b[0;34m'acc'\u001b[0m\u001b[0;34m}\u001b[0m\u001b[0;34m)\u001b[0m\u001b[0;34m\u001b[0m\u001b[0;34m\u001b[0m\u001b[0m\n\u001b[0m\u001b[1;32m     42\u001b[0m \u001b[0;34m\u001b[0m\u001b[0m\n\u001b[1;32m     43\u001b[0m \u001b[0;34m\u001b[0m\u001b[0m\n",
            "\u001b[0;32m/content/keras-text-summarization/keras_text_summarization/library/utility/plot_utils.py\u001b[0m in \u001b[0;36mplot_and_save_history\u001b[0;34m(history, model_name, file_path, metrics)\u001b[0m\n\u001b[1;32m    103\u001b[0m     \u001b[0;32mif\u001b[0m \u001b[0mmetrics\u001b[0m \u001b[0;32mis\u001b[0m \u001b[0;32mNone\u001b[0m\u001b[0;34m:\u001b[0m\u001b[0;34m\u001b[0m\u001b[0;34m\u001b[0m\u001b[0m\n\u001b[1;32m    104\u001b[0m         \u001b[0mmetrics\u001b[0m \u001b[0;34m=\u001b[0m \u001b[0;34m{\u001b[0m\u001b[0;34m'acc'\u001b[0m\u001b[0;34m,\u001b[0m \u001b[0;34m'loss'\u001b[0m\u001b[0;34m}\u001b[0m\u001b[0;34m\u001b[0m\u001b[0;34m\u001b[0m\u001b[0m\n\u001b[0;32m--> 105\u001b[0;31m     \u001b[0mcreate_history_plot\u001b[0m\u001b[0;34m(\u001b[0m\u001b[0mhistory\u001b[0m\u001b[0;34m,\u001b[0m \u001b[0mmodel_name\u001b[0m\u001b[0;34m,\u001b[0m \u001b[0mmetrics\u001b[0m\u001b[0;34m)\u001b[0m\u001b[0;34m\u001b[0m\u001b[0;34m\u001b[0m\u001b[0m\n\u001b[0m\u001b[1;32m    106\u001b[0m     \u001b[0mplt\u001b[0m\u001b[0;34m.\u001b[0m\u001b[0msavefig\u001b[0m\u001b[0;34m(\u001b[0m\u001b[0mfile_path\u001b[0m\u001b[0;34m)\u001b[0m\u001b[0;34m\u001b[0m\u001b[0;34m\u001b[0m\u001b[0m\n",
            "\u001b[0;32m/content/keras-text-summarization/keras_text_summarization/library/utility/plot_utils.py\u001b[0m in \u001b[0;36mcreate_history_plot\u001b[0;34m(history, model_name, metrics)\u001b[0m\n\u001b[1;32m     85\u001b[0m         \u001b[0mmetrics\u001b[0m \u001b[0;34m=\u001b[0m \u001b[0;34m{\u001b[0m\u001b[0;34m'acc'\u001b[0m\u001b[0;34m,\u001b[0m \u001b[0;34m'loss'\u001b[0m\u001b[0;34m}\u001b[0m\u001b[0;34m\u001b[0m\u001b[0;34m\u001b[0m\u001b[0m\n\u001b[1;32m     86\u001b[0m     \u001b[0;32mif\u001b[0m \u001b[0;34m'acc'\u001b[0m \u001b[0;32min\u001b[0m \u001b[0mmetrics\u001b[0m\u001b[0;34m:\u001b[0m\u001b[0;34m\u001b[0m\u001b[0;34m\u001b[0m\u001b[0m\n\u001b[0;32m---> 87\u001b[0;31m         \u001b[0mplt\u001b[0m\u001b[0;34m.\u001b[0m\u001b[0mplot\u001b[0m\u001b[0;34m(\u001b[0m\u001b[0mhistory\u001b[0m\u001b[0;34m.\u001b[0m\u001b[0mhistory\u001b[0m\u001b[0;34m[\u001b[0m\u001b[0;34m'acc'\u001b[0m\u001b[0;34m]\u001b[0m\u001b[0;34m,\u001b[0m \u001b[0mcolor\u001b[0m\u001b[0;34m=\u001b[0m\u001b[0;34m'g'\u001b[0m\u001b[0;34m,\u001b[0m \u001b[0mlabel\u001b[0m\u001b[0;34m=\u001b[0m\u001b[0;34m'Train Accuracy'\u001b[0m\u001b[0;34m)\u001b[0m\u001b[0;34m\u001b[0m\u001b[0;34m\u001b[0m\u001b[0m\n\u001b[0m\u001b[1;32m     88\u001b[0m         \u001b[0mplt\u001b[0m\u001b[0;34m.\u001b[0m\u001b[0mplot\u001b[0m\u001b[0;34m(\u001b[0m\u001b[0mhistory\u001b[0m\u001b[0;34m.\u001b[0m\u001b[0mhistory\u001b[0m\u001b[0;34m[\u001b[0m\u001b[0;34m'val_acc'\u001b[0m\u001b[0;34m]\u001b[0m\u001b[0;34m,\u001b[0m \u001b[0mcolor\u001b[0m\u001b[0;34m=\u001b[0m\u001b[0;34m'b'\u001b[0m\u001b[0;34m,\u001b[0m \u001b[0mlabel\u001b[0m\u001b[0;34m=\u001b[0m\u001b[0;34m'Validation Accuracy'\u001b[0m\u001b[0;34m)\u001b[0m\u001b[0;34m\u001b[0m\u001b[0;34m\u001b[0m\u001b[0m\n\u001b[1;32m     89\u001b[0m     \u001b[0;32mif\u001b[0m \u001b[0;34m'loss'\u001b[0m \u001b[0;32min\u001b[0m \u001b[0mmetrics\u001b[0m\u001b[0;34m:\u001b[0m\u001b[0;34m\u001b[0m\u001b[0;34m\u001b[0m\u001b[0m\n",
            "\u001b[0;31mKeyError\u001b[0m: 'acc'"
          ]
        },
        {
          "output_type": "display_data",
          "data": {
            "image/png": "[encoded data removed]",
            "text/plain": [
              "<Figure size 432x288 with 1 Axes>"
            ]
          },
          "metadata": {
            "tags": [],
            "needs_background": "light"
          }
        }
      ]
    },
    {
      "cell_type": "code",
      "metadata": {
        "colab": {
          "base_uri": "https://localhost:8080/"
        },
        "id": "EPjIHqEwUJ6D",
        "outputId": "3ca9eeee-a3a6-47ed-be59-fcaa2fcba74e"
      },
      "source": [
        "%cd /content/keras-text-summarization\n",
        "from __future__ import print_function\n",
        "from rouge_score import rouge_scorer\n",
        "import pandas as pd\n",
        "from keras_text_summarization.library.seq2seq import Seq2SeqSummarizer\n",
        "import numpy as np\n",
        "\n",
        "np.random.seed(42)\n",
        "data_dir_path = '/content' # refers to the demo/data folder\n",
        "model_dir_path = '/content/keras-text-summarization/demo/models/' # refers to the demo/models folder\n",
        "\n",
        "print('loading csv file ...')\n",
        "df = pd.read_csv(data_dir_path + \"/summary-dataset.csv\",error_bad_lines=False,delimiter=\"$\")\n",
        "df.head()\n",
        "X = df['NEWS']\n",
        "Y = df['SUMMARY']\n",
        "\n",
        "config = np.load(Seq2SeqSummarizer.get_config_file_path(model_dir_path=model_dir_path),allow_pickle=True).item()\n",
        "\n",
        "summarizer = Seq2SeqSummarizer(config)\n",
        "summarizer.load_weights(weight_file_path=Seq2SeqSummarizer.get_weight_file_path(model_dir_path=model_dir_path))\n",
        "\n",
        "print('start predicting ...')\n",
        "scorer = rouge_scorer.RougeScorer(['rouge1', 'rougeL'], use_stemmer=True)\n",
        "\n",
        "for i in range(20):\n",
        "    x = X[i]\n",
        "    actual_headline = Y[i]\n",
        "    headline = summarizer.summarize(x)\n",
        "    print('Article: ', x)\n",
        "    print('Generated Headline: ', headline)\n",
        "    print('Original Headline: ', actual_headline)\n",
        "    scores = scorer.score(actual_headline,\n",
        "                      headline)\n",
        "    \n",
        "    print(str(scores))\n",
        "    print(\"####################\")\n"
      ],
      "execution_count": null,
      "outputs": [
        {
          "output_type": "stream",
          "text": [
            "/content/keras-text-summarization\n",
            "loading csv file ...\n",
            "start predicting ...\n",
            "Article:  Job cuts 'false economy'  - TUC  Plans to shed 71,000 civil service jobs will prove to be a \"false economy\" that could hamper public sector reforms, according to a TUC report.  Public and Commercial Services union members have already voted to strike over cuts for one day on 5 November. The TUC said cuts would deliver less than 6% of the £22bn ministers hope to save through efficiency reforms. General secretary Brendan Barber warned the \"costs could easily outweigh the benefits\". \"The government's big boost to public spending is now showing results,\" said Mr Barber. \"Public services are improving but looking for simple savings through job cuts at this stage could be a false economy.  \"They may shoot a Tory fox, but cutting thousands of civil service jobs will hit the morale and capabilities of the public servants expected to implement government reforms. The costs could easily outweigh the benefits.\" Next Friday's strike action by the PCS is the biggest in the civil service since 1993, hitting Jobcentres, benefit agencies, pensions offices, customs and driving tests. The union says it is concerned about pensions, sick pay and forced relocation as well as the cut in jobs. Last month it was announced that a total of 37 social security offices and Jobcentres across the UK would close in the first wave of plans to shed civil service jobs. The number of civil servants in Britain rose to more than 520,000 in April. Other areas the strike will affect include passports, museums and galleries, libraries and health and safety inspections. \n",
            "Generated Headline:  mr mr were that the the the the the the the the the the the the the the the the the the the the the the the the the the the the the the the for the the the the the the the the for the the the the the the the the for the the the the the the the the for the the the the the the the the for the the the the the the the for the the the the the the the the for the the the the the the the the for the the the the the the the the for the the the the the the the the for the the the the the the the the for the the the the the the the for the the the the the the the the for the the the the the the the the for the the the the the the the the for the the the the the the the the for the the the the the the the the the in the the the the the the the the the the in the the the the the the the the the the for the the the the the\n",
            "Original Headline:  Plans to shed 71,000 civil service jobs will prove to be a \"false economy\" that could hamper public sector reforms, according to a TUC report.\"Public services are improving but looking for simple savings through job cuts at this stage could be a false economy.\"They may shoot a Tory fox, but cutting thousands of civil service jobs will hit the morale and capabilities of the public servants expected to implement government reforms.Public and Commercial Services union members have already voted to strike over cuts for one day on 5 November.General secretary Brendan Barber warned the \"costs could easily outweigh the benefits\".The costs could easily outweigh the benefits.\"\n",
            "{'rouge1': Score(precision=0.043689320388349516, recall=0.08035714285714286, fmeasure=0.05660377358490566), 'rougeL': Score(precision=0.043689320388349516, recall=0.08035714285714286, fmeasure=0.05660377358490566)}\n",
            "####################\n",
            "Article:  Probe launched on Ken Nazi jibe  An investigation by the Standards Board is under way following allegations that Ken Livingstone has brought his office into disrepute.  The probe follows the London mayor's comments to a Jewish journalist comparing him to a concentration camp guard, after a party about a week ago. The local government watchdog also said the allegation related to a failure to respect others. It has the power to suspend or bar Labour's Mr Livingstone from office. A complaint was made to the body by the Board of Deputies of British Jews and the Commission for Racial Equality.  Speaking after the investigation was announced Bob Neill, leader of the London Assembly Conservatives, said: \"He has behaved in a manner unbecoming of his office and in so doing, has shown extraordinarily poor civic leadership. \"His administration is now in crisis.\" On Sunday, Deputy Mayor Nicky Gavron told the BBC's Politics Show she believed the Mayor of London would say sorry on Tuesday for offending the wider Jewish community. The Prime Minister Tony Blair is among those who have called for an apology but so far the mayor has refused.  The mayor accused Oliver Finegold, of the Evening Standard newspaper, of \"doorstepping\" him at a \"predominately gay event\" held for MP Chris Smith. Ms Gavron said she thought Mr Livingstone's comments were \"inappropriate\" but she did not believe the mayor was anti-Semitic. She said: \"I work very closely with Ken so I can speak of what he's like in his guarded and unguarded moments and... he is in no way anti-Jewish, I wouldn't for a moment work with him if he were. \"On the other hand, I think his remarks were inappropriate and I believe it is important, and I believe he will, come to the point where he says, 'I regret that I have caused offence to the wider Jewish community'. \"I hope he will do it soon and it is mooted that he is going to make some sort of statement on Tuesday.\" \n",
            "Generated Headline:  ms by with with the the the the the the the the the the the the the the the the the the the the the the the the the the the the the the the for the the the the the the the the for the the the the the the the the for the the the the the the the the for the the the the the the the the for the the the the the the the the the in the the the the the the the the the the for the the the the the the the in the the the the the the the the the the the in the the the the the the the the the the in the the the the the the the the the the in the the the the the the the the the the in the the the the the the the the the the in the the the the the the the the the the in the the the the the the the the the the in the the the the the the the the the the in the the the the the the the the the the in the the the the the\n",
            "Original Headline:  Ms Gavron said she thought Mr Livingstone's comments were \"inappropriate\" but she did not believe the mayor was anti-Semitic.Speaking after the investigation was announced Bob Neill, leader of the London Assembly Conservatives, said: \"He has behaved in a manner unbecoming of his office and in so doing, has shown extraordinarily poor civic leadership.An investigation by the Standards Board is under way following allegations that Ken Livingstone has brought his office into disrepute.On Sunday, Deputy Mayor Nicky Gavron told the BBC's Politics Show she believed the Mayor of London would say sorry on Tuesday for offending the wider Jewish community.It has the power to suspend or bar Labour's Mr Livingstone from office.The Prime Minister Tony Blair is among those who have called for an apology but so far the mayor has refused.\n",
            "{'rouge1': Score(precision=0.07766990291262135, recall=0.11428571428571428, fmeasure=0.09248554913294796), 'rougeL': Score(precision=0.06310679611650485, recall=0.09285714285714286, fmeasure=0.07514450867052024)}\n",
            "####################\n",
            "Article:  Blair blasts Tory spending plans  Tony Blair has launched an attack on Conservative spending plans, saying they are a \"ludicrous improbability\".  The prime minister has told a Labour Party gathering that the Tory policies would cause economic failure. Tory leader Michael Howard has said his party would cut £35bn in \"wasteful\" spending to allow £4bn in tax cuts. On Saturday, Tory shadow home secretary David Davis said the Tories would fund the cuts by removing \"inefficiencies\" which had \"burgeoned\" under Labour. In his speech, Mr Blair contrasted a reformed Labour party, which had learned to occupy the political centre ground, with a hidebound Tory party, which he said would turn the clock back with spending cuts. Mr Blair said: \"The Conservative tax and spending proposals would put at risk, both Britain's hard-won economic stability - the lowest mortgages, inflation, unemployment, for decades - and the key investment in public services.  \"I believe that the Tory plans are as plain a call to return to the past as it's possible to imagine,\" he said. \"It's a recipe for exactly the same boom and bust economics and cuts in public services that were their hallmark in 18 years of Conservative government.\" Mr Blair added: \"They, the Conservatives have learned nothing.\" By contrast, he said, New Labour had listened to its electorate and changed.  Mr Blair went on to list his government's achievements and to issue a rallying call to the party. \"So now we have a choice, we can defend this record and we can build on it and go on and fulfil the promise or give up and go back. And I say we have to fight.\" In response, David Davis said the Tories would make cuts, such as removing regional assemblies, but would bring in more police officers and match Labour's spending on health and education. \"Everybody knows, having lived through this government the last seven years, that they faced lots of stealth tactics, lots of increases in taxes, but no improvement in public services,\" he said. Mr Davis said Labour had been responsible for \"huge waste, huge overspending, not on the frontline at all but on bureaucracy\". \"The public face a choice between more waste and more taxes with this government, less waste and lower taxes with a Tory government,\" he concluded.  Gordon Brown has addressed the conference behind closed doors. The Chancellor said the Conservatives' plans would see some £50bn in spending cuts by 2011, which the Tories deny. Mr Brown also issued call for party unity and warn of the dangers of allowing themselves to be \"distracted or diverted\". According to an advance text released by officials, he told delegates: \"We must all show the strength and unity of purpose to take the long-term decisions necessary to meet them.\"  Mr Brown warned that the Tories were planning \"the biggest cuts ever in the history of any election manifesto\". Meanwhile, Tory shadow chancellor Oliver Letwin accused Mr Blair of \"misrepresenting\" the party's proposals and questioned how Labour would fund its own plans. \"He still cannot accept the simple truth, which is that we will spend more on what matters to people - schools, hospitals and police - and that we will offer value for money and lower taxes,\" Mr Letwin said. \"Once again Mr Blair and his Chancellor have failed to answer the question that lies at the heart of this election - which taxes will they put up to fill the £8bn shortfall in their plans?\" \n",
            "Generated Headline:  under the the the the the the the the the the the the the the the the the the the the the the the the the the the the the the the the the for the the the the the the the the for the the the the the the the the for the the the the the the the the for the the the the the the the the for the the the the the the the the for the the the the the the the the for the the the the the the the the for the the the the the the the for the the the the the the the the for the the the the the the the the for the the the the the the the the for the the the the the the the the for the the the the the the the the the in the the the the the the the the the the in the the the the the the the the the the in the the the the the the the the the the in the the the the the the the the the the and the the the and the the the on the the\n",
            "Original Headline:  In his speech, Mr Blair contrasted a reformed Labour party, which had learned to occupy the political centre ground, with a hidebound Tory party, which he said would turn the clock back with spending cuts.Tory leader Michael Howard has said his party would cut £35bn in \"wasteful\" spending to allow £4bn in tax cuts.Mr Blair said: \"The Conservative tax and spending proposals would put at risk, both Britain's hard-won economic stability - the lowest mortgages, inflation, unemployment, for decades - and the key investment in public services.The Chancellor said the Conservatives' plans would see some £50bn in spending cuts by 2011, which the Tories deny.Meanwhile, Tory shadow chancellor Oliver Letwin accused Mr Blair of \"misrepresenting\" the party's proposals and questioned how Labour would fund its own plans.On Saturday, Tory shadow home secretary David Davis said the Tories would fund the cuts by removing \"inefficiencies\" which had \"burgeoned\" under Labour.The prime minister has told a Labour Party gathering that the Tory policies would cause economic failure.In response, David Davis said the Tories would make cuts, such as removing regional assemblies, but would bring in more police officers and match Labour's spending on health and education.Mr Davis said Labour had been responsible for \"huge waste, huge overspending, not on the frontline at all but on bureaucracy\".\"Once again Mr Blair and his Chancellor have failed to answer the question that lies at the heart of this election - which taxes will they put up to fill the £8bn shortfall in their plans?\"\n",
            "{'rouge1': Score(precision=0.13592233009708737, recall=0.10810810810810811, fmeasure=0.12043010752688171), 'rougeL': Score(precision=0.12135922330097088, recall=0.09652509652509653, fmeasure=0.10752688172043011)}\n",
            "####################\n",
            "Article:  Iraq advice claim sparks new row  The Tories say ministers must respond in Parliament to claims that the legal advice used to justify the Iraq war was drawn up at Number 10.  Downing Street has denied the claims, made in a new book about the Attorney General Lord Goldsmith's advice. Lord Goldsmith also denied them, saying he was not \"leaned on\" in any way. But the Conservatives and Liberal Democrats say they want the publication of the full legal advice given by the Attorney General.  The government has consistently refused to publish Lord Goldsmith's advice on the legality of the war - saying such papers have always been kept confidential.  But a short statement about Lord Goldsmith's position was presented in a written parliamentary answer on 17 March 2003 - just before a crucial Commons vote on the military action. It said it was \"plain\" Iraq continued to be in material breach of UN resolution 1441. In his new book, Lawless World, Philippe Sands, a QC and international law professor, suggests the parliamentary answer was written in Downing Street. According to Mr Sands, Lord Goldsmith had warned Tony Blair in a document on 7 March 2003 that the use of force against Iraq could be illegal and that it would have been safer to seek a second UN resolution sanctioning military action.  Mr Sands told Newsnight the government had prepared a legal team to be able to defend its case, in case legal action was taken against the UK over the war. On 10 March, military chiefs reportedly asked for an unequivocal statement about the legality of the war to make sure troops could be defended in a court of law. The book, being serialised in the Guardian newspaper, says on 13 March Lord Goldsmith met then Home Office Minister Lord Falconer and Downing Street adviser Baroness Morgan. \"After that Downing Street proceeded to set out his [Lord Goldsmith's] view in a parliamentary answer which was then published on 17 March,\" said Mr Sands.  Tory leader Michael Howard reiterated calls for the publication of the full legal advice given by the Attorney General, warning: \"This issue will not go away.\" \"These revelations throw an intensive spotlight on to the cavalier way in which this government operates - even on an issue as important as peace and war. \"The government needs to act to restore public confidence and trust.\" Liberal Democrat foreign affairs spokesman Menzies Campbell repeated his party's calls for Lord Goldsmith's first piece of legal advice to be made public. \"The public interest, which the government claims justifies non-publication of the whole of the advice, can only be served now by the fullest disclosure.\"  In a statement to Newsnight, Lord Goldsmith said: \"In my parliamentary answer on March 17 2003, I explained my genuinely held independent view, that military action was lawful under the existing Security Council resolutions. \"It was certainly not a view that I expressed as a result of being leaned on in any way, nor as I have already made clear, was it written by or at Number 10.\" The prime minister's official spokesman also rejected the claims, saying: \"The attorney general made it clear the words and the judgement were his.\" But ex-foreign secretary Robin Cook says all the advice should now be published. He said the claims suggested Parliament had only received a pr&#233;cis of Lord Goldsmith's second opinion - and that it was actually drafted in No 10. This would be wrong even if Lord Goldsmith had signed the statement, Mr Cook said, because the attorney general's advice should be an \"independent legal opinion\", not subject to \"political negotiation of this kind\". \n",
            "Generated Headline:  mr involve said of the the the the the the the the the the the the the the the the the the the the the the the the the the for the the the the the the the the for the the the the the the the the for the the the the the the the the for the the the the the the the the the for the the the the the the the the in the the the the the the the the the the the in the the the the the the the the the the in the the the the the the the the the the in the the the the the the the the the the in the the the the the the the the the the in the the the the the the the the the the in the the the the the the the the the the in the the the the the the the the the the in the the the the the the the the the the in the the the the the the the the the the in the the the the the the the the the the in the the the the the the the\n",
            "Original Headline:  \"After that Downing Street proceeded to set out his [Lord Goldsmith's] view in a parliamentary answer which was then published on 17 March,\" said Mr Sands.Downing Street has denied the claims, made in a new book about the Attorney General Lord Goldsmith's advice.But a short statement about Lord Goldsmith's position was presented in a written parliamentary answer on 17 March 2003 - just before a crucial Commons vote on the military action.In a statement to Newsnight, Lord Goldsmith said: \"In my parliamentary answer on March 17 2003, I explained my genuinely held independent view, that military action was lawful under the existing Security Council resolutions.This would be wrong even if Lord Goldsmith had signed the statement, Mr Cook said, because the attorney general's advice should be an \"independent legal opinion\", not subject to \"political negotiation of this kind\".Lord Goldsmith also denied them, saying he was not \"leaned on\" in any way.The government has consistently refused to publish Lord Goldsmith's advice on the legality of the war - saying such papers have always been kept confidential.The Tories say ministers must respond in Parliament to claims that the legal advice used to justify the Iraq war was drawn up at Number 10.Liberal Democrat foreign affairs spokesman Menzies Campbell repeated his party's calls for Lord Goldsmith's first piece of legal advice to be made public.But the Conservatives and Liberal Democrats say they want the publication of the full legal advice given by the Attorney General.\n",
            "{'rouge1': Score(precision=0.13106796116504854, recall=0.10546875, fmeasure=0.11688311688311688), 'rougeL': Score(precision=0.11165048543689321, recall=0.08984375, fmeasure=0.09956709956709957)}\n",
            "####################\n",
            "Article:  Women MPs reveal sexist taunts  Women MPs endure \"shocking\" levels of sexist abuse at the hands of their male counterparts, a new study shows.  Male MPs pretended to juggle imaginary breasts and jeered \"melons\" as women made Commons speeches, researchers from Birkbeck College were told. Labour's Yvette Cooper said she found it hard to persuade Commons officials she was a minister and not a secretary. Some 83 MPs gave their answers in 100 hours of taped interviews for the study \"Whose Secretary are You, minister\".  The research team, under Professor Joni Lovenduski, had set out to look at the achievements and experiences of women at Westminster. But what emerged was complaints from MPs of all parties of sexist barracking in the Chamber, sexist insults and patronising assumptions about their abilities. Barbara Follet, one of the so-called \"Blair Babes\" elected in 1997, told researchers: \"I remember some Conservatives - whenever a Labour woman got up to speak they would take their breasts - imaginary breasts - in their hands and wiggle them and say 'melons' as we spoke.\" Former Liberal Democrat MP Jackie Ballard recalled a stream of remarks from a leading MP on topics such as women's legs or their sexual persuasion. And ex-Tory education secretary Gillian Shepherd remembered how one of her male colleagues called all women \"Betty\".  \"When I said, 'Look you know my name isn't Betty', he said, 'ah but you're all the same, so I call you all Betty'.\" Harriet Harman told researchers of the sheer hostility prompted by her advancement to the Cabinet: \"Well, you've only succeeded because you're a woman.\" Another current member of the Cabinet says she was told: \"Oh, you've had a very fast rise, who have you been sleeping with?\" Even after the great influx of women MPs at the 1997 general election, and greater numbers of women in the Cabinet, female MPs often say they feel stuck on the edge of a male world.  Liberal Democrat Sarah Teather, the most recent female MP to be elected, told researchers: \"Lots of people say it's like an old boys club. \"I've always said to me it feels more like a teenage public school - you know a public school full of teenagers.\" Prof Joni Lovenduski, who conducted the study with the help of Margaret Moran MP and a team of journalists, said she was shocked at the findings. \"We expected a bit of this but nothing like this extent. We expected to find a couple of shocking episodes.\" But she said there was a difference between the experiences of women before the 1997 intake and afterwards. This was mainly because there were more women present in Parliament who were not prepared to \"put up with\" the sexist attitudes they came across, Prof Lovenduski said. But she added: \"Some women, including the women who came in 1997, received extraordinary treatment and I am not convinced that if the number of women changed back to what it was before 1997 that things would not change back. \"What I think is shocking to the general public is that these things go on in the House of Commons.\" The interviews are to be placed in the British Library as a historical record. \n",
            "Generated Headline:  national blair said dinner to the the the the the the the the the the the the the the the the the the the the the the the for the the the the the the the the for the the the the the the the the the in the the the the the the the the the the the in the the the the the the the the the the in the the the the the the the the the the in the the the the the the the the the the in the the the the the the the the the the in the the the the the the the the the the in the the the the the the the the the the in the the the the the the the the the the in the the the the the the the the the the in the the the the the the the the the the in the the the the the the the the the the in the the the the the the the the the the in the the the the the the the the the the in the the the the the the the the the the in the the the\n",
            "Original Headline:  But she said there was a difference between the experiences of women before the 1997 intake and afterwards.Even after the great influx of women MPs at the 1997 general election, and greater numbers of women in the Cabinet, female MPs often say they feel stuck on the edge of a male world.This was mainly because there were more women present in Parliament who were not prepared to \"put up with\" the sexist attitudes they came across, Prof Lovenduski said.Male MPs pretended to juggle imaginary breasts and jeered \"melons\" as women made Commons speeches, researchers from Birkbeck College were told.Prof Joni Lovenduski, who conducted the study with the help of Margaret Moran MP and a team of journalists, said she was shocked at the findings.But she added: \"Some women, including the women who came in 1997, received extraordinary treatment and I am not convinced that if the number of women changed back to what it was before 1997 that things would not change back.Labour's Yvette Cooper said she found it hard to persuade Commons officials she was a minister and not a secretary.Women MPs endure \"shocking\" levels of sexist abuse at the hands of their male counterparts, a new study shows.And ex-Tory education secretary Gillian Shepherd remembered how one of her male colleagues called all women \"Betty\".Barbara Follet, one of the so-called \"Blair Babes\" elected in 1997, told researchers: \"I remember some Conservatives - whenever a Labour woman got up to speak they would take their breasts - imaginary breasts - in their hands and wiggle them and say 'melons' as we spoke.\"\n",
            "{'rouge1': Score(precision=0.10679611650485436, recall=0.08118081180811808, fmeasure=0.09224318658280921), 'rougeL': Score(precision=0.0970873786407767, recall=0.07380073800738007, fmeasure=0.08385744234800838)}\n",
            "####################\n",
            "Article:  Parties build up poll war chests  The Labour Party received more than £5m in donations in the final quarter of 2004, new figures show.  This is nearly half of the £11,724,929 received by 16 political parties listed by the Electoral Commission. The Conservatives were in second place with donations totalling £4,610,849, while the Liberal Democrats received just over £1m. The majority of Labour's donations came from affiliated trade unions. There were also large sums from individuals. Lord Drayson, whose company PowderJect won multi-million pound contracts to provide smallpox vaccine to the government after the 11 September terror attacks, gave £500,000 to the party just days before Christmas.  This followed an earlier donation of the same amount earlier in 2004. He was made a lord by Tony Blair last year. Other significant donations came from retired millionaire businessman and philanthropist Sir Christopher Ondaatje who gave the party a sum of £500,000, and refrigerator magnate William Haughey OBE who gave £330,000. The totals for the fourth quarter were well up on the same period of 2003, as the parties built up their war chests for the general election campaign. The largest donation to the Conservatives was a bequest from Ruth Beardmore of nearly £400,000. The joint founder of merchant bank Hambro Magan gave £325,417. There were also donations topping £250,000 for the Conservatives from Scottish Business Groups Focus on Scotland and the Institute of International Research, the world's largest independent conference company.  Also among the gifts to the Tories were 24 donations totalling £161,840 from Bearwood Corporate Services. This company is controlled by the party's former treasurer Lord Ashcroft which has directed almost £300,000 to specific marginal constituencies over the past two years. The Liberal Democrats' largest donor was the Joseph Rowntree Reform Trust Ltd, a company which promotes political reform and constitutional change, which gave a sum of £250,000. And fast food giants McDonald's are listed as donating a sum of £10,575. This was a fee the firm paid for a room for an event held with the work and skills foundation during the party's conference. The UK Independence Party, which lost its main donor Paul Sykes amid the row over Robert Kilroy-Silk's bid for the leadership last autumn, took in £63,081. Just £8,170 of this was cash and the remainder came in gifts in kind, such as office space and printing. Registered political parties are required to set out each quarter all donations over £5,000 to their headquarters and over £1,000 to local constituency parties they receive. It is an offence for a person to knowingly or recklessly make a false declaration about party donations. \n",
            "Generated Headline:  week, cabinet of the the the the the the the the the the the the the the the the the the the the the the the the the for the the the the the the the the for the the the the the the the the for the the the the the the the the for the the the the the the the the for the the the the the the the the for the the the the the the the the for the the the the the the the the for the the the the the the the the for the the the the the the the the for the the the the the the the the the for the the the the the the the in the the the the the the the the the the the in the the the the the the the the the the in the the the the the the the the the the in the the the the the the the the the the in the the the the the the the the the the in the the the the the the the the the the in the the the the the the the the the the in\n",
            "Original Headline:  Registered political parties are required to set out each quarter all donations over £5,000 to their headquarters and over £1,000 to local constituency parties they receive.The Labour Party received more than £5m in donations in the final quarter of 2004, new figures show.Other significant donations came from retired millionaire businessman and philanthropist Sir Christopher Ondaatje who gave the party a sum of £500,000, and refrigerator magnate William Haughey OBE who gave £330,000.The largest donation to the Conservatives was a bequest from Ruth Beardmore of nearly £400,000.The Conservatives were in second place with donations totalling £4,610,849, while the Liberal Democrats received just over £1m.The Liberal Democrats' largest donor was the Joseph Rowntree Reform Trust Ltd, a company which promotes political reform and constitutional change, which gave a sum of £250,000.This is nearly half of the £11,724,929 received by 16 political parties listed by the Electoral Commission.There were also donations topping £250,000 for the Conservatives from Scottish Business Groups Focus on Scotland and the Institute of International Research, the world's largest independent conference company.Also among the gifts to the Tories were 24 donations totalling £161,840 from Bearwood Corporate Services.\n",
            "{'rouge1': Score(precision=0.10194174757281553, recall=0.10096153846153846, fmeasure=0.10144927536231885), 'rougeL': Score(precision=0.09223300970873786, recall=0.09134615384615384, fmeasure=0.09178743961352658)}\n",
            "####################\n",
            "Article:  Jamieson issues warning to bigots  Scotland's justice minister has warned bigoted soccer fans that she wants to hit them \"where it hurts most\" by banning them from matches.  Cathy Jamieson said exclusion orders are one of a series of measures being considered in the Scottish Executive campaign against sectarianism. She praised Celtic and Rangers for their work in tackling the problem. However, the minister said stopping sectarian abuse associated with Old Firm matches is a key objective. Ms Jamieson was speaking ahead of the third round Scottish Cup clash between the Glasgow clubs at Parkhead on Sunday. The sectarianism long associated with sections of the support from both clubs has become a significant target for the executive. Last week Ms Jamieson and First Minister Jack McConnell met supporters' representatives from both clubs to discuss the issue.  They plan to hold an anti-sectarian summit next month with officials from the clubs, church leaders, senior police officers and local authority chiefs among those to be invited. Speaking on BBC Radio Scotland's Sunday Live programme, Ms Jamieson described Friday's meeting as \"very productive\" and said putting the squeeze on the bigots would be a key aim. Ms Jamieson stressed that sectarianism has not been confined to football but it can act as a \"trigger\" for tensions and violence. Clubs have taken action in the past to ban troublesome fans and supporters' groups expressed their desire to ensure that the game is no longer tainted by the problem.  Ms Jamieson said the executive should have a role in tackling the soccer troublemakers. She said: \"We can't get away from the fact that in some instances some of the religious hatred that some people try to associate with football boils over into violence. \"That is the kind of thing we want to stop and that's the kind of thing supporters' groups are very clear they don't want to be part of either, and they will work with us to try and deal with that.\"  Ms Jamieson praised the police for their action and said: \"The police do want to identify whether there are particular individuals who are going over the top and inciting hatred or violence - they will crack down very effectively on them. \"We have of course already indicated that we will consider the introduction of banning orders to give additional powers to where there are people who are going over the top, who have made inappropriate behaviour at football matches, to be able to stop them attending the games. \"That's the kind of thing that will hit those kind of people where it hurts the most in not allowing them to attend the games,\" she said. Praising Celtic and Rangers for their efforts, she said: \"I don't think there is any doubt that we have seen some positive moves from the clubs. \"Both Rangers and Celtic football clubs have been involved in working with the executive to produce, for example, an educational pack for young people.\" \n",
            "Generated Headline:  ms he said said the the the the the the the the the the the the the the the the for the the the the the the the for the the the the the the the the for the the the the the the the for the the the the the the the the for the the the the the the the the for the the the the the the the the for the the the the the the the the for the the the the the the the the for the the the the the the the the the for the the the the the the the the in the the the the the the the the the the in the the the the the the the the the the in the the the the the the the the the the in the the the the the the the the the the in the the the the the the the the the the in the the the the the the the the the the in the the the the the the the the the the in the the the the the the the the the the in the the the the the the the the\n",
            "Original Headline:  Ms Jamieson said the executive should have a role in tackling the soccer troublemakers.Ms Jamieson praised the police for their action and said: \"The police do want to identify whether there are particular individuals who are going over the top and inciting hatred or violence - they will crack down very effectively on them.Ms Jamieson stressed that sectarianism has not been confined to football but it can act as a \"trigger\" for tensions and violence.Cathy Jamieson said exclusion orders are one of a series of measures being considered in the Scottish Executive campaign against sectarianism.\"That's the kind of thing that will hit those kind of people where it hurts the most in not allowing them to attend the games,\" she said.Speaking on BBC Radio Scotland's Sunday Live programme, Ms Jamieson described Friday's meeting as \"very productive\" and said putting the squeeze on the bigots would be a key aim.\"Both Rangers and Celtic football clubs have been involved in working with the executive to produce, for example, an educational pack for young people.\"Last week Ms Jamieson and First Minister Jack McConnell met supporters' representatives from both clubs to discuss the issue.\n",
            "{'rouge1': Score(precision=0.11650485436893204, recall=0.12060301507537688, fmeasure=0.11851851851851852), 'rougeL': Score(precision=0.0970873786407767, recall=0.10050251256281408, fmeasure=0.09876543209876543)}\n",
            "####################\n",
            "Article:  School sport 'is back', says PM  Tony Blair has promised that \"sport is back\" as a priority for schools.  The prime minister launched a £500m initiative to allow school sports clubs in England to provide up to three hours of extra activity a week by 2010. \"It's an important part of education and it's an important part of health,\" Mr Blair said. But the Conservatives say government proposals - which include two hours' PE within school for 75% of pupils by 2006 - are unrealistic.  The latest move is aimed at encouraging more diversity in sport, with activities such as yoga and Tai Chi being options. Launching the initiative, Mr Blair completed an agility course and shot basketball hoops with students from the all-girl Waverley Sports College in Southwark, south London. He said: \"You've got to bring back school sport. It's got to be done differently than it was 30 or 40 years ago. It's still very, very important.\"  Earlier, Education Secretary Charles Clarke told BBC News there were at least three areas which needed \"a coherent framework\" and \"dedicated funding\". These were training for PE teachers, establishing more specialist schools and the development of partnerships for activities such as inter-school competitions. He added the government had originally pledged \"for every pupil to get at least two hours of high-quality physical education\" a week. The proportion was currently at 62%, and the government was hoping this would rise to 85% by 2008 and 100% by 2010. The money for the initiative will come from a new £500m fund.  The £500m move will also increase the number of specialist sport colleges from 350 to 400. But the Conservatives warned of rising obesity levels and said that since only a third of children do two hours of sport a week currently, the government is promising something it cannot guarantee. Shadow spokesman for sport Hugh Robertson said: \"I suspect the correct way to tackle it is to look at the other end of the spectrum and try to enable the clubs - which is where the real passion for sport exists - to deliver the school sport offer.\" He said more emphasis should be put on traditional sports, saying that an \"anti-competitive sport agenda\" had been pursued in recent years. Martin Ward, of the Secondary Heads Association, said members did not like \"ring-fenced funds\" and that it should be up to the schools themselves to decide how to spend their money. \n",
            "Generated Headline:  he it by the the the the the the the the the the the the the the the the the the the the the the the the the the the the said the the the the the the for the the the the the the the the for the the the the the the the the the in the the the the the the the the the the in the the the the the the the the the the in the the the the the the the the the the in the the the the the the the the the the in the the the the the the the the the the in the the the the the the the the the the in the the the the the the the the the the in the the the the the the the the the the in the the the the the the the the the the in the the the the the the the the the the in the the the the the the the the the the in the the the the the the the the the the in the the the the the the the the the the in the the the the the\n",
            "Original Headline:  He said: \"You've got to bring back school sport.The prime minister launched a £500m initiative to allow school sports clubs in England to provide up to three hours of extra activity a week by 2010.Shadow spokesman for sport Hugh Robertson said: \"I suspect the correct way to tackle it is to look at the other end of the spectrum and try to enable the clubs - which is where the real passion for sport exists - to deliver the school sport offer.\"But the Conservatives warned of rising obesity levels and said that since only a third of children do two hours of sport a week currently, the government is promising something it cannot guarantee.\"It's an important part of education and it's an important part of health,\" Mr Blair said.The £500m move will also increase the number of specialist sport colleges from 350 to 400.He said more emphasis should be put on traditional sports, saying that an \"anti-competitive sport agenda\" had been pursued in recent years.Tony Blair has promised that \"sport is back\" as a priority for schools.\n",
            "{'rouge1': Score(precision=0.09223300970873786, recall=0.10215053763440861, fmeasure=0.09693877551020409), 'rougeL': Score(precision=0.07766990291262135, recall=0.08602150537634409, fmeasure=0.08163265306122448)}\n",
            "####################\n",
            "Article:  Hunt ban support is 'in decline'  Support for a ban on hunting has fallen in the past six years, a poll suggests.  Less than half the UK wants a ban compared to almost two-thirds in 1999, the Mori survey of 2,000 adults for BBC One's Countryfile programme suggests. The number opposed to a ban remains constant, but those \"neither supporting nor opposing\" has increased by 11%. Most city-dwellers support the ban but rural people were evenly split between supporters, opponents and undecided.  Polling company Mori carried out both surveys. In July 1999 they asked 801 adults if they supported the ban for the Mail on Sunday. For Countryfile they asked 2,234 adults across the country the same question. The Mail on Sunday survey found that 63% supported a hunting ban compared with 24% against. In the Countryfile survey, 47% said they supported the legislation, with 26% against. But the programme makers suggest the British public are becoming \"increasingly neutral\" to the issue because around one quarter said they \"neither support nor oppose\" a ban. \n",
            "Generated Headline:  in not was of of of in of the the the the the the the the the the the the the the the the the the the the the the the the the the the the the the the the the the for the the the the the the the the for the the the the the the the the the for the the the the the the the the in the the the the the the the the the the the in the the the the the the the the the the in the the the the the the the the the the in the the the the the the the the the the in the the the the the the the the the the in the the the the the the the the the the in the the the the the the the the the the in the the the the the the the the the the in the the the the the the the the the the in the the the the the the the the the the in the the the the the the the the the the in the the the the the the the the the the in the the\n",
            "Original Headline:  In July 1999 they asked 801 adults if they supported the ban for the Mail on Sunday.The Mail on Sunday survey found that 63% supported a hunting ban compared with 24% against.Less than half the UK wants a ban compared to almost two-thirds in 1999, the Mori survey of 2,000 adults for BBC One's Countryfile programme suggests.Support for a ban on hunting has fallen in the past six years, a poll suggests.\n",
            "{'rouge1': Score(precision=0.06310679611650485, recall=0.16666666666666666, fmeasure=0.09154929577464789), 'rougeL': Score(precision=0.05339805825242718, recall=0.14102564102564102, fmeasure=0.07746478873239436)}\n",
            "####################\n",
            "Article:  Burglar defence guidelines issued  Householders who injure or even kill intruders are unlikely to be prosecuted - providing they were acting \"honestly and instinctively\", new guidelines say.  The law also protects those who use \"something to hand\" as a weapon. The leaflet, published by police and prosecutors, aims to combat confusion about current legislation, which lets people use \"reasonable force\". The guidance, relating to England and Wales, follows a recent decision by ministers not to change the law. Doing what you \"honestly and instinctively\" believed was necessary would be the strongest evidence of acting lawfully, the guidance said.  And the law protects those who use \"something to hand\" as a weapon, said the leaflet published jointly by the Crown Prosecution Service (CPS) and Association of Chief Police Officers (ACPO).  As a general rule, the more extreme the circumstances and fear felt, the more force can be used lawfully in self-defence, it said, adding that householders do not have to wait to be attacked before defending themselves. But knocking someone unconscious then killing them or hurting them further, or setting a trap for an intruder without involving the police were given as examples of \"excessive and gratuitous\" force. The Tories have called for a change in the law so householders are only prosecuted if they use \"grossly disproportionate\" force. Their demands have been backed by former Metropolitan Police Commissioner Sir John Stevens. Tory frontbencher Patrick Mercer is now pursuing the proposal through a private member's bill in Parliament.  The government instead mounted a publicity campaign to clear up public uncertainty after a review concluded no law change was necessary. Home Secretary Charles Clarke said: \"I believe in that old adage 'an Englishman's home is his castle'. That's exactly what should be the case and I believe the current law provides that.\" An \"informal trawl\" of CPS records found 11 people had been prosecuted after attacking intruders in the past 15 years, five of whom were convicted. They included a man who laid in wait for a burglar on commercial premises in Cheshire, before beating him up, throwing him into a pit and setting him on fire.  A CPS spokesperson said the figures were not definitive because prosecutions are not listed according to whether they were committed by a householder on an intruder. In one of Britain's highest profile cases, Norfolk farmer Tony Martin was jailed for life for murdering 16-year-old burglar Fred Barras, in 1999. The conviction was later reduced to manslaughter on appeal and the sentence cut to five years. Mr Martin was freed from prison in July 2003. The guidance published on Tuesday, said the police had a duty to investigate all incidents involving a death or injury. In cases involving householders attacking intruders prosecutors and police were \"determined\" they would be dealt with \"as swiftly and as sympathetically as possible\", it said. \n",
            "Generated Headline:  as due giving out of the the the the the the the the the the the the the the the the the the the the the the the the the the the for the the the the the the the the for the the the the the the the the for the the the the the the the the for the the the the the the the the for the the the the the the the the for the the the the the the the the for the the the the the the the the for the the the the the the the for the the the the the the the the for the the the the the the the the for the the the the the the the the for the the the the the the the the for the the the the the the the the for the the the the the the the the for the the the the the the the the the for the the the the the the the in the the the the the the the the the the the in the the the the the the the the the the in the the the the the the the\n",
            "Original Headline:  And the law protects those who use \"something to hand\" as a weapon, said the leaflet published jointly by the Crown Prosecution Service (CPS) and Association of Chief Police Officers (ACPO).In cases involving householders attacking intruders prosecutors and police were \"determined\" they would be dealt with \"as swiftly and as sympathetically as possible\", it said.The Tories have called for a change in the law so householders are only prosecuted if they use \"grossly disproportionate\" force.Doing what you \"honestly and instinctively\" believed was necessary would be the strongest evidence of acting lawfully, the guidance said.The guidance published on Tuesday, said the police had a duty to investigate all incidents involving a death or injury.A CPS spokesperson said the figures were not definitive because prosecutions are not listed according to whether they were committed by a householder on an intruder.The leaflet, published by police and prosecutors, aims to combat confusion about current legislation, which lets people use \"reasonable force\".The law also protects those who use \"something to hand\" as a weapon.But knocking someone unconscious then killing them or hurting them further, or setting a trap for an intruder without involving the police were given as examples of \"excessive and gratuitous\" force.\n",
            "{'rouge1': Score(precision=0.09223300970873786, recall=0.09178743961352658, fmeasure=0.0920096852300242), 'rougeL': Score(precision=0.07281553398058252, recall=0.07246376811594203, fmeasure=0.07263922518159806)}\n",
            "####################\n",
            "Article:  Brown hits back in Blair rift row  Gordon Brown has criticised a union leader who said conflict between himself and Tony Blair was harming the workings of government.  Jonathan Baume, of the top civil servants' union, spoke of \"competing agendas\" between Mr Brown and Mr Blair. But the chancellor said Mr Baume was never at meetings between himself and the prime minister so could not judge. He said the union leader was trying to block civil service reform which threatened his members' jobs. It suited the purpose of Mr Baume's union, the First Division Association, to suggest there were two agendas battling against each other because the union was trying to resist the planned reforms, Mr Brown told BBC Radio 4's Today programme.  Under the plans, unveiled in the Gershon report, some 84,000 civil servants jobs will be axed or changed and the savings ploughed back into frontline services. Mr Brown said: \"To be honest I don't think you can rely on his [Mr Baume's] judgement on this matter when it comes to the decisions that the government are making. \"Mr Blair and I are making exactly the same decisions on civil service reforms. We are determined to go on with the Gershon reforms.\" He also said that as Mr Baume was never present at meetings between himself and the prime minister, he was not in a position to judge. On Wednesday, ahead of the Chancellor's pre-Budget report, Mr Baume told BBC News there were sometimes \"conflicting and competing agendas for government\" between Number 10 and the Treasury.  What the chancellor wanted was \"not by any means what Alan Milburn and the prime minister want to see\", Mr Baume said. \"Government departments get their money from the Treasury on the basis of public service agreements they sign up to, but at the same time the prime minister also has an agenda and that's not necessarily the same as the Treasury's and the prime minister is of course a very powerful figure in any government. \"He also sends instructions and messages and directions to departments about how he would like each secretary of state and each department to implement a policy agenda. \"The problem is that on many occasions these two don't add up and individual cabinet ministers as well as departments have to make sense of this battle.\" Number 10 said ministers were interested in governing and not a \"soap opera\" about Mr Blair and Mr Brown. Tory shadow chancellor Oliver Letwin said: \"The battle Royal that the top civil servants are now reporting on between the chancellor and Tony Blair is preventing them both from getting on with the business of getting taxpayers value for money.\" \n",
            "Generated Headline:  but mr the the the the the the the the the the the the the the the the the the the the the the the the the the the the the the the the the the the the the the the the the the the the the the for the the the the the the the the for the the the the the the the the for the the the the the the the the for the the the the the the the the for the the the the the the the the for the the the the the the the for the the the the the the the the for the the the the the the the the for the the the the the the the the for the the the the the the the the for the the the the the the the the for the the the the the the the for the the the the the the the the for the the the the the the the the for the the the the the the the the for the the the the the the the the for the the the the the the the the for the the the the the the\n",
            "Original Headline:  But the chancellor said Mr Baume was never at meetings between himself and the prime minister so could not judge.He also said that as Mr Baume was never present at meetings between himself and the prime minister, he was not in a position to judge.Number 10 said ministers were interested in governing and not a \"soap opera\" about Mr Blair and Mr Brown.Jonathan Baume, of the top civil servants' union, spoke of \"competing agendas\" between Mr Brown and Mr Blair.What the chancellor wanted was \"not by any means what Alan Milburn and the prime minister want to see\", Mr Baume said.Mr Brown said: \"To be honest I don't think you can rely on his [Mr Baume's] judgement on this matter when it comes to the decisions that the government are making.\"Mr Blair and I are making exactly the same decisions on civil service reforms.\n",
            "{'rouge1': Score(precision=0.05339805825242718, recall=0.07236842105263158, fmeasure=0.06145251396648044), 'rougeL': Score(precision=0.04854368932038835, recall=0.06578947368421052, fmeasure=0.0558659217877095)}\n",
            "####################\n",
            "Article:  Blair rejects Iraq advice calls  Tony Blair has rejected calls for the publication of advice on the legality of the Iraq war amid growing calls for an investigation.  The prime minister told his monthly press conference the matter had been dealt with by the Attorney General. Earlier, Conservative MP Michael Mates joined calls for a probe into claims Lord Goldsmith's statement to Parliament was drawn up at Number 10. Mr Blair said the statement was a \"fair summary\" of Lord Goldsmith's opinion.  \"That's what he (Lord Goldsmith) said and that's what I say. He has dealt with this time and time and time again,\" Mr Blair told his monthly news conference in Downing Street. He refused to answer further questions on the issue, saying it had been dealt with \"literally scores of times and the position has not changed\". Lord Goldsmith has denied being \"leaned on\" and says the words written were his.  The government refuses to publish his advice on the legality of the war - saying such papers have always been kept confidential. Mr Mates, who is a member of the Commons intelligence and security committee and was part of the Butler inquiry into pre-war intelligence, told the BBC on Friday: \"That, as a general rule, is right, but it's not an absolute rule.\" He said there had been other occasions when advice had been published, most recently regarding Prince Charles's marriage plans. The government could not pick and choose when to use the convention, he said.  Mr Mates added: \"We discovered that there were two or three occasions in the past when law officers' advice to the government has been published. \"And this may be one of those special occasions... when it would be in the public interest to see the advice which the attorney general gave to the prime minister.\" This is argument was rejected by Mr Blair, who said: \"Firstly, we haven't broken the precedent, and secondly Peter Goldsmith has made his statement and I have got absolutely nothing to add to it.\" In a book published this week, Philippe Sands QC, a member of Cherie Blair's Matrix Chambers, says Lord Goldsmith warned Tony Blair on 7 March 2003 that the Iraq war could be illegal without a second UN resolution sanctioning military action.  But a short statement about Lord Goldsmith's position was presented in a written parliamentary answer on 17 March 2003 - just before a crucial Commons vote on the military action. Mr Sands' book suggests it was actually written by Home Office Minister Lord Falconer and Downing Street adviser Baroness Morgan. Former minister Clare Short, who resigned from the government over the Iraq war, said it was the same statement that was earlier shown to the cabinet as it discussed military action. She told the BBC the full advice should have been attached, according to the ministerial code.  \"My view is we need the House of Lords to set up a special committee, summon the attorney, get all the papers out, look at exactly what happened,\" she said. The Conservatives and Liberal Democrats say they want the publication of the full legal advice given by the Attorney General. On Thursday, Lord Goldsmith said his statement had not been \"written by or at Number 10\". \"In my parliamentary answer on March 17 2003, I explained my genuinely held independent view, that military action was lawful under the existing Security Council resolutions,\" he said. \n",
            "Generated Headline:  mr mr for the the the the the the the the the the the the the the the the the the the the the the the the the the the the the for the the the the the the the the for the the the the the the the the for the the the the the the the the for the the the the the the the the for the the the the the the the for the the the the the the the the for the the the the the the the the for the the the the the the the the for the the the the the the the the for the the the the the the the the for the the the the the the the the the in the the the the the the the the the the in the the the the the the the the the the in the the the the the the the the the the in the the the the the the the the the the in the the the the the the the the the the in the the the the the the the the the the in the the the the the the the the\n",
            "Original Headline:  Mr Blair said the statement was a \"fair summary\" of Lord Goldsmith's opinion.On Thursday, Lord Goldsmith said his statement had not been \"written by or at Number 10\".Former minister Clare Short, who resigned from the government over the Iraq war, said it was the same statement that was earlier shown to the cabinet as it discussed military action.But a short statement about Lord Goldsmith's position was presented in a written parliamentary answer on 17 March 2003 - just before a crucial Commons vote on the military action.This is argument was rejected by Mr Blair, who said: \"Firstly, we haven't broken the precedent, and secondly Peter Goldsmith has made his statement and I have got absolutely nothing to add to it.\"\"That's what he (Lord Goldsmith) said and that's what I say.Lord Goldsmith has denied being \"leaned on\" and says the words written were his.In a book published this week, Philippe Sands QC, a member of Cherie Blair's Matrix Chambers, says Lord Goldsmith warned Tony Blair on 7 March 2003 that the Iraq war could be illegal without a second UN resolution sanctioning military action.Mr Sands' book suggests it was actually written by Home Office Minister Lord Falconer and Downing Street adviser Baroness Morgan.Mr Mates added: \"We discovered that there were two or three occasions in the past when law officers' advice to the government has been published.\n",
            "{'rouge1': Score(precision=0.07766990291262135, recall=0.06666666666666667, fmeasure=0.0717488789237668), 'rougeL': Score(precision=0.07281553398058252, recall=0.0625, fmeasure=0.06726457399103139)}\n",
            "####################\n",
            "Article:  UK plan to deport terror suspects  Deals are being sought to allow the UK to deport terror suspects to their home countries without risk of them being tortured or sentenced to death.  Home Secretary Charles Clarke told the Times he hoped agreement with several countries could be reached. The move follows a Law Lords judgement that the detention of 12 men at Belmarsh prison, London, and Woodhill, Milton Keynes, was unlawful. The 12 affected by the ruling are from Algeria, Tunisia, Egypt and Jordan. The government was told that using anti-terror legislation brought in after 11 September to hold the men indefinitely without charge broke human rights laws.  Mr Clarke told The Times: \"I think we should be prosecuting much more energetically our ability to deport the individuals concerned to the countries from which they come.\" He said it was a route that was being pursued in collaboration with Foreign Secretary Jack Straw \"in a very positive way\". Mr Clarke said that he was seeking \"memorandums of understanding\" between overseas governments and Britain to ensure suspects would not be subjected to the death penalty on their return. However, he added: \"I do not think the solution to the Law Lords' judgement for this government is in deportations, but they will help. \"There are other strands that we have to do.\" But the Liberal Democrat's shadow home secretary, Mark Oaten, accused Mr Clarke of avoiding the main issue with the Belmarsh detainees.  \"The critical issue that the home secretary is dodging at this stage is to deal with the very principle, to deal with how we tackle this problem in the future,\" he told BBC News. \"And I do want him to grasp those issues and that means looking at how we can actually secure convictions in this country allowing, for example, intercept communications, telephone tapping to be included,\" Mr Oaten said. \"Deportation may tackle this initial problem but I want to see a wider debate urgently about how we can actually get trials and convictions in this country.\" \"Unless we get that, the Liberal Democrats will vote against this measure when it comes for renewal in March.\"  The BBC's home affairs correspondent, Daniel Sandford, said it appeared Mr Clarke was putting more emphasis on the possibility of deportation than his predecessor, David Blunkett. But he said reaching an understanding with some of the detainees' home countries could be difficult. \"Some of these people are accused of very, very serious crimes in their home countries so it's not an easy agreement to get and I think for some of these suspects it won't be the solution.\" Daniel Sandford said ministers may try to put forward other solutions - such as allowing more secret evidence to be put into normal criminal trials or developing a more secret trials process - in the next few weeks. \"The government may try and deport some of them and then those that are left see if they can work out some way of putting them on trial,\" he said. \n",
            "Generated Headline:  mr home the the the the the the the the the the the the the the the the the the the the the the the the the the the the the the the the the the the the the the the the the the the for the the the the the the the the for the the the the the the the the for the the the the the the the the for the the the the the the the the for the the the the the the the the for the the the the the the the the for the the the the the the the the for the the the the the the the for the the the the the the the the for the the the the the the the the for the the the the the the the the for the the the the the the the the the for the the the the the the the the in the the the the the the the the the the in the the the the the the the the the the in the the the the the the the the the the in the the the the the the the the the the\n",
            "Original Headline:  Home Secretary Charles Clarke told the Times he hoped agreement with several countries could be reached.But he said reaching an understanding with some of the detainees' home countries could be difficult.The BBC's home affairs correspondent, Daniel Sandford, said it appeared Mr Clarke was putting more emphasis on the possibility of deportation than his predecessor, David Blunkett.But the Liberal Democrat's shadow home secretary, Mark Oaten, accused Mr Clarke of avoiding the main issue with the Belmarsh detainees.\"Some of these people are accused of very, very serious crimes in their home countries so it's not an easy agreement to get and I think for some of these suspects it won't be the solution.\"Mr Clarke said that he was seeking \"memorandums of understanding\" between overseas governments and Britain to ensure suspects would not be subjected to the death penalty on their return.Mr Clarke told The Times: \"I think we should be prosecuting much more energetically our ability to deport the individuals concerned to the countries from which they come.\"\"The government may try and deport some of them and then those that are left see if they can work out some way of putting them on trial,\" he said.\n",
            "{'rouge1': Score(precision=0.0825242718446602, recall=0.0825242718446602, fmeasure=0.0825242718446602), 'rougeL': Score(precision=0.07281553398058252, recall=0.07281553398058252, fmeasure=0.07281553398058252)}\n",
            "####################\n",
            "Article:  BNP leader Nick Griffin arrested  The leader of the British National Party has been arrested as part of a police inquiry following the screening of a BBC documentary.  A party spokesman said Nick Griffin was arrested on Tuesday morning on suspicion of incitement to commit racial hatred. West Yorkshire police confirmed they had arrested a 45-year-old man from outside their area. BNP founding chairman John Tyndall was arrested on Sunday on the same charge.  In July, the BBC documentary Secret Agent featured covertly-filmed footage of BNP activists. Mr Griffin is the twelfth man to be arrested following the documentary. Nine men from West Yorkshire and another man from Leicester have been arrested and freed on bail. Seven of the men had been held variously in connection with suspected racially aggravated public order offences, conspiracy to commit criminal damage and possession of a firearm. Two men, both from Keighley, were arrested in September on suspicion of conspiracy to commit criminal damage. A 24-year-old man from Leicester was detained on Monday on suspicion of incitement to commit racial hatred. A BNP spokesperson said Mr Tyndall, from Brighton, was arrested following a speech he made in Burnley, Lancashire, and was released on police bail. \n",
            "Generated Headline:  mr griffin to the the the the the the the the the the the the the the the the the the the the the the for the the the the the the the the for the the the the the the the the for the the the the the the the the for the the the the the the the the for the the the the the the the the the for the the the the the the the the in the the the the the the the the the the in the the the the the the the the the the in the the the the the the the the the the in the the the the the the the the the the in the the the the the the the the the the and the the the and the the the on the the on the the on the the on the the on the the on the the on the the on the the on the the on the the on the the on the the on the the on the the on the the on the the on the the on the the on the the on the the on the the\n",
            "Original Headline:  Mr Griffin is the twelfth man to be arrested following the documentary.A party spokesman said Nick Griffin was arrested on Tuesday morning on suspicion of incitement to commit racial hatred.A BNP spokesperson said Mr Tyndall, from Brighton, was arrested following a speech he made in Burnley, Lancashire, and was released on police bail.Two men, both from Keighley, were arrested in September on suspicion of conspiracy to commit criminal damage.Nine men from West Yorkshire and another man from Leicester have been arrested and freed on bail.\n",
            "{'rouge1': Score(precision=0.06796116504854369, recall=0.15730337078651685, fmeasure=0.09491525423728812), 'rougeL': Score(precision=0.043689320388349516, recall=0.10112359550561797, fmeasure=0.06101694915254237)}\n",
            "####################\n",
            "Article:  Goldsmith: 'I was not leant on'  The attorney general has again denied being \"leant on\" by Downing Street to make the legal case for invading Iraq.  Claims a written answer on the legality of the war was drafted by Downing Street were \"wholly unfounded,\" he insisted during stormy Lords exchanges. Lord Goldsmith said the answer represented his \"genuinely held independent view\" the war was legal. The text was released on the eve of a crucial Commons vote in which MPs backed the invasion of Iraq. Many Labour MPs have since indicated that the attorney general's answer played a pivotal role in their willingness to back the conflict. The government has resisted calls to publish the full advice, saying such papers are always kept confidential. In the House of Lords, the attorney general faced a call by former Tory lord chancellor Lord Mackay to now publish the \"full text\" of the advice - the suggestion was rejected. Another peer meanwhile, Lord Skidelsky, said not to publish the full legal opinion would \"strengthen the suspicion that the the original text was doctored for public consumption, in exactly the same way as the notorious intelligence dossier on weapons of mass destruction\".  Last week Lord Goldsmith said in a statement: \"I was fully involved throughout the drafting process and personally finalised, and of course approved, the answer.\" He said the answer had been prepared in his office with the involvement of Solicitor General Harriet Harman, two of his own officials, three Foreign Office officials, a QC, Christopher Greenwood and the then Lord Chancellor, Lord Irvine of Lairg. \"No other minister or official was involved in any way.\" \"As I have always made clear, I set out in the answer my own genuinely held, independent view that military action was lawful under the existing (UN) Security Council resolutions,\" he said. \"The answer did not purport to be a summary of my confidential legal advice to government.\" Former foreign secretary Robin Cook said Lord Goldsmith's admission that his parliamentary answer was not a summary of his legal opinion suggested Parliament may have been misled. \"The attorney general may never have presented his answer as a summary, but others certainly did,\" he said. \"What is clear from his statement today is that he does not believe that it was a full, accurate summary of his formal opinion.\"  Tony Blair has dismissed questions about the attorney general's advice, and said his Parliamentary statement had been a \"fair summary\" of his opinion. \"That's what he [Lord Goldsmith] said and that's what I say. He has dealt with this time and time and time again,\" Mr Blair told his monthly news conference in Downing Street. He refused to answer further questions on the issue. On the question of whether such papers have always been kept confidential, Tory MP Michael Mates, who is a member of the Commons intelligence and security committee and was part of the Butler inquiry, told the BBC: \"That, as a general rule, is right, but it's not an absolute rule.\" He said there had been other occasions when advice had been published, most recently regarding Prince Charles's marriage plans. The government could not pick and choose when to use the convention, he said. Mr Mates added: \"This may be one of those special occasions... when it would be in the public interest to see the advice which the attorney general gave to the prime minister.\" A book published by Philippe Sands QC, a member of Cherie Blair's Matrix Chambers says Lord Goldsmith warned Tony Blair on 7 March 2003 that the Iraq war could be illegal without a second UN resolution sanctioning military action. A short statement about Lord Goldsmith's position presented in a written parliamentary answer on 17 March 2003 - just before a crucial Commons vote on the military action - did not suggest this. \n",
            "Generated Headline:  mr of because the the the the the the the the the the the the the the the the the the the in the the the the the the the the the the in the the the the the the the the the the in the the the the the the the the the the in the the the the the the the the the the in the the the the the the the the the the in the the the the the the the the the the in the the the the the the the the the the in the the the the the the the the the the in the the the the the the the the the the in the the the the the the the the the the in the the the the the the the the the the in the the the the the the the the the the in the the the the the the the the the the in the the the the the the the the the the in the the the the the the the the the the in the the the the the the the the the the in the the the the the the the\n",
            "Original Headline:  Lord Goldsmith said the answer represented his \"genuinely held independent view\" the war was legal.Former foreign secretary Robin Cook said Lord Goldsmith's admission that his parliamentary answer was not a summary of his legal opinion suggested Parliament may have been misled.\"The attorney general may never have presented his answer as a summary, but others certainly did,\" he said.Last week Lord Goldsmith said in a statement: \"I was fully involved throughout the drafting process and personally finalised, and of course approved, the answer.\"In the House of Lords, the attorney general faced a call by former Tory lord chancellor Lord Mackay to now publish the \"full text\" of the advice - the suggestion was rejected.Tony Blair has dismissed questions about the attorney general's advice, and said his Parliamentary statement had been a \"fair summary\" of his opinion.\"The answer did not purport to be a summary of my confidential legal advice to government.\"\"As I have always made clear, I set out in the answer my own genuinely held, independent view that military action was lawful under the existing (UN) Security Council resolutions,\" he said.Another peer meanwhile, Lord Skidelsky, said not to publish the full legal opinion would \"strengthen the suspicion that the the original text was doctored for public consumption, in exactly the same way as the notorious intelligence dossier on weapons of mass destruction\".A short statement about Lord Goldsmith's position presented in a written parliamentary answer on 17 March 2003 - just before a crucial Commons vote on the military action - did not suggest this.He said the answer had been prepared in his office with the involvement of Solicitor General Harriet Harman, two of his own officials, three Foreign Office officials, a QC, Christopher Greenwood and the then Lord Chancellor, Lord Irvine of Lairg.\n",
            "{'rouge1': Score(precision=0.15048543689320387, recall=0.10231023102310231, fmeasure=0.12180746561886051), 'rougeL': Score(precision=0.14563106796116504, recall=0.09900990099009901, fmeasure=0.11787819253438113)}\n",
            "####################\n",
            "Article:  Row over 'police' power for CSOs  The Police Federation has said it strongly opposes giving Community Support Officers (CSOs) the power to detain suspects for up to 30 minutes.  The powers - piloted in six areas - were extended to all police forces in England and Wales on Thursday. The federation said CSOs do not have the experience, training and safety equipment to deal with \"potentially confrontational\" situations. But the government said the move would help police \"build safe communities\". Police Federation chairman Jan Berry said civilian officers should act as \"eyes and ears\" for the police.  \"They should not be placed in potentially confrontational situations - which detaining someone clearly is,\" she said. CSOs can now use reasonable force to detain suspects for up to 30 minutes while they wait for police officers to arrive. The powers will be granted by chief constables of local forces. Ms Berry said this \"dramatically changes\" their original purpose - to be a visible presence combating low-level crime and anti-social behaviour. She said more powers would mean more paperwork and less time on the street.  But Home Office minister Hazel Blears defended the move saying it would give the civilian officers \"just that little bit of edge\". She denied their role was changing and said the new powers would not take them away from the streets.  \"The powers that we are bringing in are things that they need to do when they are out patrolling,\" she said. The Home Office has produced its own report on CSOs which it describes as \"encouraging\". Ms Blears said the study shows CSOs are \"making a real difference\" in the fight against crime. But the report also showed that the public is having difficulties distinguishing between a civilian officer and a proper officer.  Shadow home secretary David Davis said the research appeared to acknowledge that CSOs were having no discernible effect on crime figures.  \"While the answer is a lot more real police, the government wants to recruit 25,000 people who can't arrest anyone,\" he said. BBC home affairs correspondent Danny Shaw said the research is inconclusive. There are about 3,500 CSOs in England and Wales but the government intends to have 25,000 on the streets by 2008 at a cost of £50m. They already have powers to hand out fines for a wide range of offences. The Serious Organised Crime and Police Bill proposes extra powers to search suspects, enforce licensing offences, direct traffic and deter begging. \n",
            "Generated Headline:  mr mr of said of the the the the the the the the the the the the the the the the the the the for the the the the the the the the the in the the the the the the the the the the in the the the the the the the the the the in the the the the the the the the the the in the the the the the the the the the the in the the the the the the the the the the in the the the the the the the the the the in the the the the the the the the the the in the the the the the the the the the the in the the the the the the the the the the in the the the the the the the the the the in the the the the the the the the the the in the the the the the the the the the the in the the the the the the the the the the in the the the the the the the the the the in the the the the the the the the the the in the the the the the the\n",
            "Original Headline:  The Police Federation has said it strongly opposes giving Community Support Officers (CSOs) the power to detain suspects for up to 30 minutes.Police Federation chairman Jan Berry said civilian officers should act as \"eyes and ears\" for the police.She said more powers would mean more paperwork and less time on the street.But the government said the move would help police \"build safe communities\".\"The powers that we are bringing in are things that they need to do when they are out patrolling,\" she said.Ms Blears said the study shows CSOs are \"making a real difference\" in the fight against crime.She denied their role was changing and said the new powers would not take them away from the streets.Shadow home secretary David Davis said the research appeared to acknowledge that CSOs were having no discernible effect on crime figures.The federation said CSOs do not have the experience, training and safety equipment to deal with \"potentially confrontational\" situations.\n",
            "{'rouge1': Score(precision=0.08737864077669903, recall=0.11042944785276074, fmeasure=0.09756097560975611), 'rougeL': Score(precision=0.0825242718446602, recall=0.10429447852760736, fmeasure=0.0921409214092141)}\n",
            "####################\n",
            "Article:  Blair pledges unity to Labour MPs  Tony Blair has sought to reassure Labour backbenchers that nothing will stand in the way of the party's bid for a third term in power.  Mr Blair was speaking to MPs amid fresh rumours of a rift with Gordon Brown. A new book says the prime minister went back on a pledge to Mr Brown to stand down before the next general election. The chancellor has said he is focused on winning the poll and is due to join election supremo Alan Milburn for a Labour poster launch this week. Mr Blair told the Parliamentary Labour Party (PLP) on Monday: \"I know from everyone here, in Cabinet and government, nothing is going to get in the way of a unified Labour Party with a unified position and winning the third term people desperately need.\" The prime minister and his chancellor arrived within seconds of each other and seemingly in good spirits at the start of the meeting which lasted around an hour. A new book, Brown's Britain by Sunday Telegraph journalist Robert Peston, says Mr Blair went back on a pledge to make way for Mr Brown after Cabinet allies intervened in June 2004.  It has caused a new wave of concern among Labour MPs gearing up to defend their seats in an election, widely expected to be held in May, and several members are understood to have lined up to express their discontent at the PLP meeting. Health Secretary John Reid earlier warned that Labour members would not easily forgive anybody fuelling damaging speculation. He told BBC News: \"Those who co-operate or inspire these books, in my view, have to know that, whatever the short-term political or personal advantage that they think they might secure, they always do it by damaging the record, the unity and the re-election chances of the Labour Party and the government.\" Mr Blair on Sunday dismissed claims of broken promises, saying: \"I've dealt with this six months ago. I said then you don't do deals over jobs like this - you don't.\"  In a separate BBC interview, Mr Brown said he and the prime minister would not be distracted by \"gossip\". \"It's very important that we all do what we can in a unified way to ensure the election of a Labour government,\" he said.  On Monday, Mr Blair's spokesman said: \"The prime minister is determined that he will get on with the business of government because he believes that what people want.\" Mr Brown says he discussed the election campaign with Mr Blair on Saturday and promised to play his part.  Mr Peston said the pair had \"mutual animosity and contempt\". Mr Blair had decided in November 2003 he would quit because he felt he had lost voters' trust because of the Iraq war.  He had then changed his mind in June 2004, following intervention from Cabinet allies and suspicion that the chancellor was manoeuvring against him. Mr Brown allegedly said he could no longer believe anything Mr Blair told him. Conservative co-chairman Liam Fox likened the two men to \"self-obsessed schoolboys\". Liberal Democrat parliamentary chairman Matthew Taylor said their personal ambition was \"getting in the way of good government\". Ex-Labour leader Neil Kinnock said Mr Blair and Mr Brown could only deal with the media frenzy by continuing to say they would not allow a row to damage Labour or British interests. He told BBC Radio Five Live that Mr Brown would never encourage any kind of insurrection or coup. \n",
            "Generated Headline:  think way interests of the the the the the the the the the the the the the the the the the the the the the the the the the the said the the the the the the for the the the the the the the the for the the the the the the the for the the the the the the the the for the the the the the the the the for the the the the the the the the for the the the the the the the the for the the the the the the the the for the the the the the the the the for the the the the the the the the for the the the the the the the the the in the the the the the the the the the the in the the the the the the the the the the in the the the the the the the the the the in the the the the the the the the the the in the the the the the the the the the the in the the the the the the the the the the in the the the the the the the the the the in the\n",
            "Original Headline:  Mr Brown allegedly said he could no longer believe anything Mr Blair told him.Ex-Labour leader Neil Kinnock said Mr Blair and Mr Brown could only deal with the media frenzy by continuing to say they would not allow a row to damage Labour or British interests.Mr Brown says he discussed the election campaign with Mr Blair on Saturday and promised to play his part.In a separate BBC interview, Mr Brown said he and the prime minister would not be distracted by \"gossip\".A new book, Brown's Britain by Sunday Telegraph journalist Robert Peston, says Mr Blair went back on a pledge to make way for Mr Brown after Cabinet allies intervened in June 2004.Mr Blair told the Parliamentary Labour Party (PLP) on Monday: \"I know from everyone here, in Cabinet and government, nothing is going to get in the way of a unified Labour Party with a unified position and winning the third term people desperately need.\"A new book says the prime minister went back on a pledge to Mr Brown to stand down before the next general election.\"It's very important that we all do what we can in a unified way to ensure the election of a Labour government,\" he said.On Monday, Mr Blair's spokesman said: \"The prime minister is determined that he will get on with the business of government because he believes that what people want.\"Mr Blair was speaking to MPs amid fresh rumours of a rift with Gordon Brown.\n",
            "{'rouge1': Score(precision=0.10194174757281553, recall=0.08235294117647059, fmeasure=0.0911062906724512), 'rougeL': Score(precision=0.0825242718446602, recall=0.06666666666666667, fmeasure=0.07375271149674621)}\n",
            "####################\n",
            "Article:  Pre-poll clash on tax and spend  Labour and the Tories have clashed over tax and spending plans as the row over Gordon Brown's Budget turned into a full scale pre-election battle.  Tony Blair claimed a Tory government would \"cut\" £35bn from public services hitting schools, hospitals and police. Tory chairman Liam Fox accused Labour of \"at best misrepresentation at worst a downright lie\" and said the \"smear\" tactics were a sign of desperation. The Lib Dems accused Mr Brown of ducking the issue of council tax rises.  Appearing together at a Labour poster launch, the prime minister hailed his chancellor's \"brilliant\" performance. And he claimed the Tories would cut £35bn from public services, which was the equivalent of sacking every doctor and teacher in the UK.  The Tories said they would not cut spending but agreed public spending would increase more slowly under their plans - leading to a total of £33.5bn less spending than that anticipated by Labour by 2011. But they say not a single doctor, teacher or nurse will be cut. Dr Fox said: \"We have said we will be spending more, year on year over and above inflation. \"And to call that a cut is at best a misrepresentation, at worst a downright lie.\"  Tory shadow chancellor Oliver Letwin also predicted Mr Brown would have to raise taxes by £10bn or £11bn if Labour was re-elected because he was borrowing and spending too much. For the Lib Dems, Vince Cable said the chancellor had failed to deal with the \"looming problems\" of revaluation of council tax bands which he argued would result in \"massive increases\" for some. Mr Brown and Mr Blair staged a show of unity on Thursday morning, the day after the chancellor delivered a record-breaking ninth Budget.  Mr Cable said taxation as a share of the economy would go up under all three of the main parties. The chancellor meanwhile insisted his spending plans were \"affordable\". In Wednesday's Budget, Mr Brown doubled the level at which homebuyers pay stamp duty, unveiled a rise in child tax credit and a £200 council tax refund for over-65s. Defending the plans, he told Today: \"I will take no risks with the stability of the economy. \"All our spending plans announced yesterday [Wednesday], including what we can do for pensioners, as well as for young families and on stamp duty and inheritance tax, all these are costed and affordable.\" In a further sign, if any were needed, that the election is approaching, the House of Commons authorities have formally told MPs their offices will be \"deep cleaned\" during the three-week poll campaign. Mr Blair has yet to name the day - but it is widely expected to be 5 May. \n",
            "Generated Headline:  from has milburn position praised next mr the the the the the the the the the the the the the the the the the the the the the for the the the the the the the the for the the the the the the the the for the the the the the the the the the for the the the the the the the in the the the the the the the the the the the in the the the the the the the the the the in the the the the the the the the the the in the the the the the the the the the the in the the the the the the the the the the in the the the the the the the the the the in the the the the the the the the the the in the the the the the the the the the the in the the the the the the the the the the in the the the the the the the the the the in the the the the the the the the the the in the the the the the the the the the the in the the the the the the the the\n",
            "Original Headline:  The Tories said they would not cut spending but agreed public spending would increase more slowly under their plans - leading to a total of £33.5bn less spending than that anticipated by Labour by 2011.Tory shadow chancellor Oliver Letwin also predicted Mr Brown would have to raise taxes by £10bn or £11bn if Labour was re-elected because he was borrowing and spending too much.And he claimed the Tories would cut £35bn from public services, which was the equivalent of sacking every doctor and teacher in the UK.Mr Cable said taxation as a share of the economy would go up under all three of the main parties.Tory chairman Liam Fox accused Labour of \"at best misrepresentation at worst a downright lie\" and said the \"smear\" tactics were a sign of desperation.Labour and the Tories have clashed over tax and spending plans as the row over Gordon Brown's Budget turned into a full scale pre-election battle.The Lib Dems accused Mr Brown of ducking the issue of council tax rises.For the Lib Dems, Vince Cable said the chancellor had failed to deal with the \"looming problems\" of revaluation of council tax bands which he argued would result in \"massive increases\" for some.\n",
            "{'rouge1': Score(precision=0.0970873786407767, recall=0.09569377990430622, fmeasure=0.0963855421686747), 'rougeL': Score(precision=0.07766990291262135, recall=0.07655502392344497, fmeasure=0.07710843373493977)}\n",
            "####################\n",
            "Article:  Brown 'proud of economy record'  Gordon Brown has delivered a rousing speech to Labour's spring conference setting out the government's agenda for the next general election.  The chancellor said he was proud of his party's record on the economy, and would strive for continuing stability if elected. The Gateshead conference was told he would help young people who were struggling to buy their own homes. And the chancellor vowed to continue the fight against child poverty. Later, Prime Minister Tony Blair will answer questions sent by the public via text and e-mail.  Analysing Mr Brown's position before the speech, BBC correspondent James Hardy said Mr Brown would draw \"sharp dividing lines\" with the Conservatives for the forthcoming election campaign. He would contrast Labour's plan to invest £60bn in services with a Tory plan to cut spending by £35bn. \"Mr Brown will lay out his credentials as a reforming chancellor determined to take on and beat the Asian tiger economies which increasingly dominate world trade,\" our correspondent said.  On Friday night, Mr Brown confirmed he would not make any tax commitments until the Labour manifesto had been published after the Budget, expected in March. But commentators will listen to his speech closely for hints on whether, as the Conservatives claim, he plans to raise tax after the election. The Tories accuse Labour of raising taxes 66 times since coming to power in 1997.  Following the chancellor's keynote speech, the prime minister will face interactive questioning from ordinary voters on Saturday. Mr Blair is thought to be deliberately putting himself on the line in a bid to engage the electorate ahead of an expected May election. Capital Radio DJ Margherita Taylor will select questions to put to him from thousands e-mailed and sent by text. The prime minister's enthusiasm for the job remains undimmed, Alan Milburn, Labour's election strategist told Radio 4's Today programme on Saturday. Mr Blair has \"the same passion and the same commitments for the job\" as when Labour came to power in 1997, he said.  And he confirmed Mr Blair's insistence that no poll date had yet been set. He said: \"I'm the General Election co-ordinator and I don't know, and Tony has not made up his mind.\" On Friday, the prime minister completed a whistle-stop tour of England, during which he unveiled his party's six pre-election pledges. Starting in London, he visited marginal constituencies pledging to build on what he said were Labour's achievements on the economy, crime, education and public services. The Conservatives and Lib Dems said the pledges - set to underpin Labour's election campaign - were \"worthless\". \n",
            "Generated Headline:  mr with the the the the the the the the the the the the the the the the the the the the the the the the the the the the the the the the the the the the the the the the the for the the the the the the the the for the the the the the the the the for the the the the the the the the for the the the the the the the the for the the the the the the the the for the the the the the the the the for the the the the the the the the for the the the the the the the the for the the the the the the the the for the the the the the the the the the in the the the the the the the the the the in the the the the the the the the the the in the the the the the the the the the the in the the the the the the the the the the in the the the the the the the the the the in the the the the the the the the the the in the the the the the\n",
            "Original Headline:  Analysing Mr Brown's position before the speech, BBC correspondent James Hardy said Mr Brown would draw \"sharp dividing lines\" with the Conservatives for the forthcoming election campaign.Mr Blair has \"the same passion and the same commitments for the job\" as when Labour came to power in 1997, he said.The Conservatives and Lib Dems said the pledges - set to underpin Labour's election campaign - were \"worthless\".On Friday night, Mr Brown confirmed he would not make any tax commitments until the Labour manifesto had been published after the Budget, expected in March.Gordon Brown has delivered a rousing speech to Labour's spring conference setting out the government's agenda for the next general election.The chancellor said he was proud of his party's record on the economy, and would strive for continuing stability if elected.\"Mr Brown will lay out his credentials as a reforming chancellor determined to take on and beat the Asian tiger economies which increasingly dominate world trade,\" our correspondent said.He said: \"I'm the General Election co-ordinator and I don't know, and Tony has not made up his mind.\"The prime minister's enthusiasm for the job remains undimmed, Alan Milburn, Labour's election strategist told Radio 4's Today programme on Saturday.\n",
            "{'rouge1': Score(precision=0.13106796116504854, recall=0.1261682242990654, fmeasure=0.12857142857142856), 'rougeL': Score(precision=0.11650485436893204, recall=0.11214953271028037, fmeasure=0.11428571428571428)}\n",
            "####################\n",
            "Article:  Blair ready to call election  Tony Blair seems certain to end weeks of phoney war on Monday and announce there will be a general election on 5 May.  The date has been pencilled into the diaries of politicians and political journalists for many months and, despite occasional panics that the prime minister was on the verge of calling a snap poll, it has not shifted. Over the weeks, there have been any number of signs that 050505 was going to be the day Mr Blair would go for an historic third term. And the calling of a special political cabinet meeting has only added to the belief that the announcement is imminent. The prime minister and his campaign boss Alan Milburn have already insisted the election will be fought on the economy and what they claim is a stark choice between Labour's stability and investment against Tory cuts and boom and bust.  And Chancellor Gordon Brown has stepped into the front line of the campaign - to the relief of many of his supporters in Westminster - to underline that economic message. And it is certain one of the big arguments at the centre of the election battle will be around the big parties' tax and spend policies.  During the phoney campaign, Labour got into trouble over its central claim that Michael Howard was planning £35 bn cuts in public services. The prime minister found himself struggling to explain how a smaller, slower increase in spending planned by the Tories compared to Labour's plans was a cut. And it looked like the Labour campaign - which was already being criticised for being thrown into defensive mode by Mr Howard on issues such as immigration and health - was on the rocks. Then deputy Conservative Chairman Howard Flight was reported to have suggested Mr Howard was secretly planning even bigger \"cuts\".  He was sacked for his gaffe, but the damage had been done and the faltering Labour campaign was back on track. A second central argument will be over taxation, with the Tories claiming the Chancellor has to fill a black hole at the centre of his finances and will be forced to raise taxes if Labour wins again. Mr Brown slaps that aside, claiming his forecasts are accurate and that previous claims of looming economic disaster have proved inaccurate. As usual, the Liberal Democrats will have to fight to get their voice heard over the sounds of battle between the two big parties. But leader Charles Kennedy believes he has set out a distinctive manifesto with plans for a tax rise for the wealthiest to finance extra spending and the abolition of the council tax in favour of a local income tax. Other issues are certain to play a part - immigration and asylum, the war on Iraq, law and order and education, for example. But, as ever, it will be the economy that will almost certainly decide the outcome. And, whatever that outcome, 2005 is set to be a far more lively, even bitter campaign than 2001's non-event. \n",
            "Generated Headline:  hope concerned haven't job of the the the the the the the the the the the the the the the the the the the the the the the the the the the the the the the the the the the the the the the the for the the the the the the the the for the the the the the the the the for the the the the the the the the for the the the the the the the the for the the the the the the the the for the the the the the the the the for the the the the the the the the for the the the the the the the the for the the the the the the the the the for the the the the the the the the in the the the the the the the the the the in the the the the the the the the the the in the the the the the the the the the the in the the the the the the the the the the in the the the the the the the the the the in the the the the the the the the the the in the the the\n",
            "Original Headline:  And it looked like the Labour campaign - which was already being criticised for being thrown into defensive mode by Mr Howard on issues such as immigration and health - was on the rocks.During the phoney campaign, Labour got into trouble over its central claim that Michael Howard was planning £35 bn cuts in public services.He was sacked for his gaffe, but the damage had been done and the faltering Labour campaign was back on track.Then deputy Conservative Chairman Howard Flight was reported to have suggested Mr Howard was secretly planning even bigger \"cuts\".The date has been pencilled into the diaries of politicians and political journalists for many months and, despite occasional panics that the prime minister was on the verge of calling a snap poll, it has not shifted.And it is certain one of the big arguments at the centre of the election battle will be around the big parties' tax and spend policies.A second central argument will be over taxation, with the Tories claiming the Chancellor has to fill a black hole at the centre of his finances and will be forced to raise taxes if Labour wins again.The prime minister and his campaign boss Alan Milburn have already insisted the election will be fought on the economy and what they claim is a stark choice between Labour's stability and investment against Tory cuts and boom and bust.\n",
            "{'rouge1': Score(precision=0.11594202898550725, recall=0.1016949152542373, fmeasure=0.10835214446952596), 'rougeL': Score(precision=0.10628019323671498, recall=0.09322033898305085, fmeasure=0.09932279909706546)}\n",
            "####################\n"
          ],
          "name": "stdout"
        }
      ]
    },
    {
      "cell_type": "code",
      "metadata": {
        "colab": {
          "base_uri": "https://localhost:8080/"
        },
        "id": "e2TkD_rdUUoz",
        "outputId": "2c36e0d7-66d9-4f1a-ab3a-f607ab687800"
      },
      "source": [
        "!pwd\n"
      ],
      "execution_count": null,
      "outputs": [
        {
          "output_type": "stream",
          "text": [
            "/content\n"
          ],
          "name": "stdout"
        }
      ]
    }
  ]
}